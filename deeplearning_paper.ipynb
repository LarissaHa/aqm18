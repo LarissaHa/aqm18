{
 "cells": [
  {
   "cell_type": "code",
   "execution_count": 1,
   "metadata": {},
   "outputs": [
    {
     "name": "stderr",
     "output_type": "stream",
     "text": [
      "Loading required package: bitops\n",
      "Warning message:\n",
      "\"package 'caret' was built under R version 3.4.4\"Loading required package: lattice\n",
      "Loading required package: ggplot2\n",
      "Warning message:\n",
      "\"package 'ggplot2' was built under R version 3.4.4\"Warning message:\n",
      "\"package 'e1071' was built under R version 3.4.3\"Warning message:\n",
      "\"package 'h2o' was built under R version 3.4.4\"\n",
      "----------------------------------------------------------------------\n",
      "\n",
      "Your next step is to start H2O:\n",
      "    > h2o.init()\n",
      "\n",
      "For H2O package documentation, ask for help:\n",
      "    > ??h2o\n",
      "\n",
      "After starting H2O, you can use the Web UI at http://localhost:54321\n",
      "For more information visit http://docs.h2o.ai\n",
      "\n",
      "----------------------------------------------------------------------\n",
      "\n",
      "\n",
      "Attaching package: 'h2o'\n",
      "\n",
      "The following objects are masked from 'package:stats':\n",
      "\n",
      "    cor, sd, var\n",
      "\n",
      "The following objects are masked from 'package:base':\n",
      "\n",
      "    %*%, %in%, &&, ||, apply, as.factor, as.numeric, colnames,\n",
      "    colnames<-, ifelse, is.character, is.factor, is.numeric, log,\n",
      "    log10, log1p, log2, round, signif, trunc\n",
      "\n",
      "Warning message:\n",
      "\"package 'statmod' was built under R version 3.4.4\"Warning message:\n",
      "\"package 'corrplot' was built under R version 3.4.4\"corrplot 0.84 loaded\n",
      "\n",
      "Attaching package: 'data.table'\n",
      "\n",
      "The following objects are masked from 'package:h2o':\n",
      "\n",
      "    hour, month, week, year\n",
      "\n",
      "Warning message:\n",
      "\"package 'reshape2' was built under R version 3.4.4\"\n",
      "Attaching package: 'reshape2'\n",
      "\n",
      "The following objects are masked from 'package:data.table':\n",
      "\n",
      "    dcast, melt\n",
      "\n",
      "Warning message:\n",
      "\"package 'ROSE' was built under R version 3.4.4\"Loaded ROSE 0.0-3\n",
      "\n"
     ]
    }
   ],
   "source": [
    "library(RCurl)\n",
    "library(jsonlite)\n",
    "library(caret)\n",
    "library(ggplot2)\n",
    "library(e1071)\n",
    "library(h2o)\n",
    "library(statmod)\n",
    "library(MASS)\n",
    "library(corrplot)\n",
    "library(data.table)\n",
    "library(reshape2)\n",
    "library(ROSE)"
   ]
  },
  {
   "cell_type": "code",
   "execution_count": 2,
   "metadata": {},
   "outputs": [],
   "source": [
    "data.scaled <- read.table(\"ess-scaled.csv\", header=TRUE, sep=\",\") "
   ]
  },
  {
   "cell_type": "code",
   "execution_count": 4,
   "metadata": {},
   "outputs": [],
   "source": [
    "data.scaled <- data.scaled[,-1]"
   ]
  },
  {
   "cell_type": "code",
   "execution_count": 41,
   "metadata": {},
   "outputs": [],
   "source": [
    "smp_size <- floor(0.9 * nrow(data.scaled))\n",
    "set.seed(1234)\n",
    "train_ind <- sample(seq_len(nrow(data.scaled)), size = smp_size)\n",
    "train <- data.scaled[train_ind, ]\n",
    "test <- data.scaled[-train_ind, ]"
   ]
  },
  {
   "cell_type": "code",
   "execution_count": 5,
   "metadata": {},
   "outputs": [],
   "source": [
    "train.bal <- ovun.sample(volact ~ ., data = train, method = \"over\", N = 114264)$data"
   ]
  },
  {
   "cell_type": "code",
   "execution_count": 19,
   "metadata": {},
   "outputs": [],
   "source": [
    "train.X <- train[, -1]\n",
    "train.y <- train[, 1]\n",
    "train.y <- factor(train.y, levels = 0:1)\n",
    "train.X.bal <- train[, -1]\n",
    "train.y.bal <- train[, 1]\n",
    "train.y.bal <- factor(train.y, levels = 0:1)\n",
    "test.X <- test[, -1]\n",
    "test.y <- test[, 1]\n",
    "test.y <- factor(test.y, levels = 0:1)"
   ]
  },
  {
   "cell_type": "code",
   "execution_count": 7,
   "metadata": {},
   "outputs": [],
   "source": [
    "ACC <- function(table){\n",
    "    tp <- table[2,2]\n",
    "    tn <- table[1,1]\n",
    "    fp <- table[2,1]\n",
    "    fn <- table[1,2]\n",
    "    acc <- (tn + tp) / (tn + tp + fn + fp)\n",
    "    return(acc)\n",
    "}"
   ]
  },
  {
   "cell_type": "code",
   "execution_count": 8,
   "metadata": {},
   "outputs": [],
   "source": [
    "PRE <- function(table){\n",
    "    tp <- table[2,2]\n",
    "    tn <- table[1,1]\n",
    "    fp <- table[2,1]\n",
    "    fn <- table[1,2]\n",
    "    PCP <- (tp + tn)/(tp + tn + fp + fn)\n",
    "    PMC <- max(tp + fn, tn + fp)/(tp + tn + fp + fn)\n",
    "    result <- (PCP - PMC)/(1 - PMC)\n",
    "    return(result)\n",
    "}"
   ]
  },
  {
   "cell_type": "code",
   "execution_count": 9,
   "metadata": {},
   "outputs": [],
   "source": [
    "F1 <- function(table){\n",
    "    tp <- table[2,2]\n",
    "    tn <- table[1,1]\n",
    "    fp <- table[2,1]\n",
    "    fn <- table[1,2]\n",
    "    precision <- tp / (tp + fp)\n",
    "    recall <- tp / (tp + fn)\n",
    "    result <- (2 * precision * recall) / (precision + recall)\n",
    "    return(result)\n",
    "}"
   ]
  },
  {
   "cell_type": "markdown",
   "metadata": {},
   "source": [
    "# aus: R deep learning essentials"
   ]
  },
  {
   "cell_type": "code",
   "execution_count": 9,
   "metadata": {},
   "outputs": [],
   "source": [
    "#aus: R deep learning essentials\n",
    "m20.0 <- train(x = train.X, y = train.y,\n",
    "           method = \"nnet\", \n",
    "           tuneGrid = expand.grid(\n",
    "           .size = c(20),\n",
    "           .decay = 0),\n",
    "           trControl= trainControl(method = \"none\"),\n",
    "           MaxNWts = 1000,\n",
    "           maxit = 100)\n",
    "m20.1 <- train(x = train.X, y = train.y,\n",
    "           method = \"nnet\", \n",
    "           tuneGrid = expand.grid(\n",
    "           .size = c(20),\n",
    "           .decay = 0.1),\n",
    "           trControl= trainControl(method = \"none\"),\n",
    "           MaxNWts = 1000,\n",
    "           maxit = 100)\n",
    "m20.2 <- train(x = train.X, y = train.y,\n",
    "           method = \"nnet\", \n",
    "           tuneGrid = expand.grid(\n",
    "           .size = c(20),\n",
    "           .decay = 0.2),\n",
    "           trControl= trainControl(method = \"none\"),\n",
    "           MaxNWts = 1000,\n",
    "           maxit = 100)\n",
    "m20.3 <- train(x = train.X, y = train.y,\n",
    "           method = \"nnet\", \n",
    "           tuneGrid = expand.grid(\n",
    "           .size = c(20),\n",
    "           .decay = 0.3),\n",
    "           trControl= trainControl(method = \"none\"),\n",
    "           MaxNWts = 1000,\n",
    "           maxit = 100)\n",
    "m20.4 <- train(x = train.X, y = train.y,\n",
    "           method = \"nnet\", \n",
    "           tuneGrid = expand.grid(\n",
    "           .size = c(20),\n",
    "           .decay = 0.4),\n",
    "           trControl= trainControl(method = \"none\"),\n",
    "           MaxNWts = 1000,\n",
    "           maxit = 100)\n",
    "m20.5 <- train(x = train.X, y = train.y,\n",
    "           method = \"nnet\", \n",
    "           tuneGrid = expand.grid(\n",
    "           .size = c(20),\n",
    "           .decay = 0.5),\n",
    "           trControl= trainControl(method = \"none\"),\n",
    "           MaxNWts = 1000,\n",
    "           maxit = 100)\n",
    "m20.6 <- train(x = train.X, y = train.y,\n",
    "           method = \"nnet\", \n",
    "           tuneGrid = expand.grid(\n",
    "           .size = c(20),\n",
    "           .decay = 0.6),\n",
    "           trControl= trainControl(method = \"none\"),\n",
    "           MaxNWts = 1000,\n",
    "           maxit = 100)\n",
    "m20.7 <- train(x = train.X, y = train.y,\n",
    "           method = \"nnet\", \n",
    "           tuneGrid = expand.grid(\n",
    "           .size = c(20),\n",
    "           .decay = 0.7),\n",
    "           trControl= trainControl(method = \"none\"),\n",
    "           MaxNWts = 1000,\n",
    "           maxit = 100)\n",
    "m20.8 <- train(x = train.X, y = train.y,\n",
    "           method = \"nnet\", \n",
    "           tuneGrid = expand.grid(\n",
    "           .size = c(20),\n",
    "           .decay = 0.8),\n",
    "           trControl= trainControl(method = \"none\"),\n",
    "           MaxNWts = 1000,\n",
    "           maxit = 100)\n",
    "m20.9 <- train(x = train.X, y = train.y,\n",
    "           method = \"nnet\", \n",
    "           tuneGrid = expand.grid(\n",
    "           .size = c(20),\n",
    "           .decay = 0.9),\n",
    "           trControl= trainControl(method = \"none\"),\n",
    "           MaxNWts = 1000,\n",
    "           maxit = 100)\n",
    "m20.10 <- train(x = train.X, y = train.y,\n",
    "           method = \"nnet\", \n",
    "           tuneGrid = expand.grid(\n",
    "           .size = c(20),\n",
    "           .decay = 1),\n",
    "           trControl= trainControl(method = \"none\"),\n",
    "           MaxNWts = 1000,\n",
    "           maxit = 100)"
   ]
  },
  {
   "cell_type": "code",
   "execution_count": 11,
   "metadata": {},
   "outputs": [],
   "source": [
    "yhat20.0 <- predict(m20.0)\n",
    "yhat20.1 <- predict(m20.1)\n",
    "yhat20.2 <- predict(m20.2)\n",
    "yhat20.3 <- predict(m20.3)\n",
    "yhat20.4 <- predict(m20.4)\n",
    "yhat20.5 <- predict(m20.5)\n",
    "yhat20.6 <- predict(m20.6)\n",
    "yhat20.7 <- predict(m20.7)\n",
    "yhat20.8 <- predict(m20.8)\n",
    "yhat20.9 <- predict(m20.9)\n",
    "yhat20.10 <- predict(m20.10)\n",
    "yhat_unseen20.0 <- predict(m20.0, as.matrix(test.X))\n",
    "yhat_unseen20.1 <- predict(m20.1, as.matrix(test.X))\n",
    "yhat_unseen20.2 <- predict(m20.2, as.matrix(test.X))\n",
    "yhat_unseen20.3 <- predict(m20.3, as.matrix(test.X))\n",
    "yhat_unseen20.4 <- predict(m20.4, as.matrix(test.X))\n",
    "yhat_unseen20.5 <- predict(m20.5, as.matrix(test.X))\n",
    "yhat_unseen20.6 <- predict(m20.6, as.matrix(test.X))\n",
    "yhat_unseen20.7 <- predict(m20.7, as.matrix(test.X))\n",
    "yhat_unseen20.8 <- predict(m20.8, as.matrix(test.X))\n",
    "yhat_unseen20.9 <- predict(m20.9, as.matrix(test.X))\n",
    "yhat_unseen20.10 <- predict(m20.10, as.matrix(test.X))"
   ]
  },
  {
   "cell_type": "code",
   "execution_count": 13,
   "metadata": {},
   "outputs": [],
   "source": [
    "measures <- c(\"AccuracyNull\", \"Accuracy\", \"AccuracyLower\", \"AccuracyUpper\")\n",
    "\n",
    "n20.0.insample <- caret::confusionMatrix(xtabs(~train.y + yhat20.0))\n",
    "n20.1.insample <- caret::confusionMatrix(xtabs(~train.y + yhat20.1))\n",
    "n20.2.insample <- caret::confusionMatrix(xtabs(~train.y + yhat20.2))\n",
    "n20.3.insample <- caret::confusionMatrix(xtabs(~train.y + yhat20.3))\n",
    "n20.4.insample <- caret::confusionMatrix(xtabs(~train.y + yhat20.4))\n",
    "n20.5.insample <- caret::confusionMatrix(xtabs(~train.y + yhat20.5))\n",
    "n20.6.insample <- caret::confusionMatrix(xtabs(~train.y + yhat20.6))\n",
    "n20.7.insample <- caret::confusionMatrix(xtabs(~train.y + yhat20.7))\n",
    "n20.8.insample <- caret::confusionMatrix(xtabs(~train.y + yhat20.8))\n",
    "n20.9.insample <- caret::confusionMatrix(xtabs(~train.y + yhat20.9))\n",
    "n20.10.insample <- caret::confusionMatrix(xtabs(~train.y + yhat20.10))\n",
    "n20.0.outsample <- caret::confusionMatrix(xtabs(~test.y + yhat_unseen20.0))\n",
    "n20.1.outsample <- caret::confusionMatrix(xtabs(~test.y + yhat_unseen20.1))\n",
    "n20.2.outsample <- caret::confusionMatrix(xtabs(~test.y + yhat_unseen20.2))\n",
    "n20.3.outsample <- caret::confusionMatrix(xtabs(~test.y + yhat_unseen20.3))\n",
    "n20.4.outsample <- caret::confusionMatrix(xtabs(~test.y + yhat_unseen20.4))\n",
    "n20.5.outsample <- caret::confusionMatrix(xtabs(~test.y + yhat_unseen20.5))\n",
    "n20.6.outsample <- caret::confusionMatrix(xtabs(~test.y + yhat_unseen20.6))\n",
    "n20.7.outsample <- caret::confusionMatrix(xtabs(~test.y + yhat_unseen20.7))\n",
    "n20.8.outsample <- caret::confusionMatrix(xtabs(~test.y + yhat_unseen20.8))\n",
    "n20.9.outsample <- caret::confusionMatrix(xtabs(~test.y + yhat_unseen20.9))\n",
    "n20.10.outsample <- caret::confusionMatrix(xtabs(~test.y + yhat_unseen20.10))"
   ]
  },
  {
   "cell_type": "code",
   "execution_count": 18,
   "metadata": {},
   "outputs": [
    {
     "data": {
      "text/html": [
       "<strong>png:</strong> 2"
      ],
      "text/latex": [
       "\\textbf{png:} 2"
      ],
      "text/markdown": [
       "**png:** 2"
      ],
      "text/plain": [
       "png \n",
       "  2 "
      ]
     },
     "metadata": {},
     "output_type": "display_data"
    }
   ],
   "source": [
    "shrinkage <- rbind(\n",
    "  cbind(Size = 20.0, Sample = \"In\", as.data.frame(t(n20.0.insample$overall[measures]))),\n",
    "  cbind(Size = 20.0, Sample = \"Out\", as.data.frame(t(n20.0.outsample$overall[measures]))),\n",
    "  cbind(Size = 20.1, Sample = \"In\", as.data.frame(t(n20.1.insample$overall[measures]))),\n",
    "  cbind(Size = 20.1, Sample = \"Out\", as.data.frame(t(n20.1.outsample$overall[measures]))),\n",
    "  cbind(Size = 20.2, Sample = \"In\", as.data.frame(t(n20.2.insample$overall[measures]))),\n",
    "  cbind(Size = 20.2, Sample = \"Out\", as.data.frame(t(n20.2.outsample$overall[measures]))),\n",
    "  cbind(Size = 20.3, Sample = \"In\", as.data.frame(t(n20.3.insample$overall[measures]))),\n",
    "  cbind(Size = 20.3, Sample = \"Out\", as.data.frame(t(n20.3.outsample$overall[measures]))),\n",
    "  cbind(Size = 20.4, Sample = \"In\", as.data.frame(t(n20.4.insample$overall[measures]))),\n",
    "  cbind(Size = 20.4, Sample = \"Out\", as.data.frame(t(n20.4.outsample$overall[measures]))),\n",
    "  cbind(Size = 20.5, Sample = \"In\", as.data.frame(t(n20.5.insample$overall[measures]))),\n",
    "  cbind(Size = 20.5, Sample = \"Out\", as.data.frame(t(n20.5.outsample$overall[measures]))),\n",
    "  cbind(Size = 20.6, Sample = \"In\", as.data.frame(t(n20.6.insample$overall[measures]))),\n",
    "  cbind(Size = 20.6, Sample = \"Out\", as.data.frame(t(n20.6.outsample$overall[measures]))),\n",
    "  cbind(Size = 20.7, Sample = \"In\", as.data.frame(t(n20.7.insample$overall[measures]))),\n",
    "  cbind(Size = 20.7, Sample = \"Out\", as.data.frame(t(n20.7.outsample$overall[measures]))),\n",
    "  cbind(Size = 20.8, Sample = \"In\", as.data.frame(t(n20.8.insample$overall[measures]))),\n",
    "  cbind(Size = 20.8, Sample = \"Out\", as.data.frame(t(n20.8.outsample$overall[measures]))),\n",
    "  cbind(Size = 20.9, Sample = \"In\", as.data.frame(t(n20.9.insample$overall[measures]))),\n",
    "  cbind(Size = 20.9, Sample = \"Out\", as.data.frame(t(n20.9.outsample$overall[measures]))),\n",
    "  cbind(Size = 20.99, Sample = \"In\", as.data.frame(t(n20.10.insample$overall[measures]))),\n",
    "  cbind(Size = 20.99, Sample = \"Out\", as.data.frame(t(n20.10.outsample$overall[measures])))\n",
    "  )\n",
    "shrinkage$Pkg <- rep(c(\"In\", \"Out\"), 1)\n",
    "\n",
    "dodge <- position_dodge(width=0.4)\n",
    "\n",
    "p.shrinkage <- ggplot(shrinkage, aes(interaction(Size, sep = \" : \"), Accuracy,\n",
    "                      ymin = AccuracyLower, ymax = AccuracyUpper,\n",
    "                      shape = Sample, linetype = Sample)) +\n",
    "  geom_point(size = 2.5, position = dodge) +\n",
    "  geom_errorbar(width = .25, position = dodge) +\n",
    "  xlab(\"\") + ylab(\"Accuracy + 95% CI\") +\n",
    "  theme_classic() +\n",
    "  theme(legend.key.size = unit(1, \"cm\"), legend.position = c(.8, .2))\n",
    "\n",
    "png(\"test_20.png\",\n",
    "    width = 6, height = 6, units = \"in\", res = 600)\n",
    "  print(p.shrinkage)\n",
    "dev.off()"
   ]
  },
  {
   "cell_type": "code",
   "execution_count": 19,
   "metadata": {},
   "outputs": [
    {
     "name": "stdout",
     "output_type": "stream",
     "text": [
      "# weights:  126\n",
      "initial  value 75415.583178 \n",
      "iter  10 value 52153.877568\n",
      "iter  20 value 51754.055353\n",
      "iter  30 value 51619.704179\n",
      "iter  40 value 51532.526562\n",
      "iter  50 value 51491.899731\n",
      "iter  60 value 51438.785687\n",
      "iter  70 value 51410.580844\n",
      "iter  80 value 51376.638678\n",
      "iter  90 value 51338.828328\n",
      "iter 100 value 51314.771455\n",
      "final  value 51314.771455 \n",
      "stopped after 100 iterations\n",
      "# weights:  251\n",
      "initial  value 57155.518870 \n",
      "iter  10 value 52061.184901\n",
      "iter  20 value 51594.146760\n",
      "iter  30 value 51428.837685\n",
      "iter  40 value 51356.780532\n",
      "iter  50 value 51249.435599\n",
      "iter  60 value 51192.042495\n",
      "iter  70 value 51133.309915\n",
      "iter  80 value 51054.262882\n",
      "iter  90 value 51018.341720\n",
      "iter 100 value 50975.927799\n",
      "final  value 50975.927799 \n",
      "stopped after 100 iterations\n",
      "# weights:  376\n",
      "initial  value 68330.909556 \n",
      "iter  10 value 51924.190901\n",
      "iter  20 value 51593.909393\n",
      "iter  30 value 51293.164832\n",
      "iter  40 value 51103.736696\n",
      "iter  50 value 51038.082360\n",
      "iter  60 value 50973.967209\n",
      "iter  70 value 50917.594947\n",
      "iter  80 value 50873.557101\n",
      "iter  90 value 50817.286038\n",
      "iter 100 value 50771.658289\n",
      "final  value 50771.658289 \n",
      "stopped after 100 iterations\n",
      "# weights:  501\n",
      "initial  value 122666.791682 \n",
      "iter  10 value 51854.452632\n",
      "iter  20 value 51531.569012\n",
      "iter  30 value 51228.087473\n",
      "iter  40 value 51026.816769\n",
      "iter  50 value 50928.378217\n",
      "iter  60 value 50796.729189\n",
      "iter  70 value 50659.543047\n",
      "iter  80 value 50583.333403\n",
      "iter  90 value 50540.337504\n",
      "iter 100 value 50501.954158\n",
      "final  value 50501.954158 \n",
      "stopped after 100 iterations\n",
      "# weights:  751\n",
      "initial  value 75815.772430 \n",
      "iter  10 value 51833.605414\n",
      "iter  20 value 51463.002683\n",
      "iter  30 value 51168.612418\n",
      "iter  40 value 50990.002029\n",
      "iter  50 value 50822.866923\n",
      "iter  60 value 50670.247701\n",
      "iter  70 value 50554.093487\n",
      "iter  80 value 50474.614568\n",
      "iter  90 value 50385.702794\n",
      "iter 100 value 50300.624732\n",
      "final  value 50300.624732 \n",
      "stopped after 100 iterations\n",
      "# weights:  1001\n",
      "initial  value 64063.803400 \n",
      "iter  10 value 52319.505445\n",
      "iter  20 value 51536.469980\n",
      "iter  30 value 51223.966901\n",
      "iter  40 value 50994.019302\n",
      "iter  50 value 50822.460120\n",
      "iter  60 value 50616.207769\n",
      "iter  70 value 50443.853305\n",
      "iter  80 value 50309.266945\n",
      "iter  90 value 50240.416768\n",
      "iter 100 value 50116.564669\n",
      "final  value 50116.564669 \n",
      "stopped after 100 iterations\n",
      "# weights:  1251\n",
      "initial  value 74744.052312 \n",
      "iter  10 value 52101.346567\n",
      "iter  20 value 51456.542970\n",
      "iter  30 value 51105.693993\n",
      "iter  40 value 50945.584945\n",
      "iter  50 value 50776.752051\n",
      "iter  60 value 50617.253556\n",
      "iter  70 value 50387.727883\n",
      "iter  80 value 50201.231391\n",
      "iter  90 value 50065.893681\n",
      "iter 100 value 49970.551293\n",
      "final  value 49970.551293 \n",
      "stopped after 100 iterations\n",
      "# weights:  1751\n",
      "initial  value 146759.756987 \n",
      "iter  10 value 52036.655050\n",
      "iter  20 value 51454.553594\n",
      "iter  30 value 51001.797352\n",
      "iter  40 value 50715.884164\n",
      "iter  50 value 50516.452631\n",
      "iter  60 value 50299.996400\n",
      "iter  70 value 50129.603957\n",
      "iter  80 value 49970.611044\n",
      "iter  90 value 49758.694945\n",
      "iter 100 value 49571.145635\n",
      "final  value 49571.145635 \n",
      "stopped after 100 iterations\n",
      "# weights:  2501\n",
      "initial  value 97856.882439 \n",
      "iter  10 value 52474.461772\n",
      "iter  20 value 51666.875618\n",
      "iter  30 value 51172.817189\n",
      "iter  40 value 50763.527767\n",
      "iter  50 value 50466.379107\n",
      "iter  60 value 50242.240789\n",
      "iter  70 value 50105.962252\n",
      "iter  80 value 49922.757824\n",
      "iter  90 value 49715.281925\n",
      "iter 100 value 49479.471194\n",
      "final  value 49479.471194 \n",
      "stopped after 100 iterations\n"
     ]
    }
   ],
   "source": [
    "m5 <- train(x = train.X, y = train.y,\n",
    "           method = \"nnet\", \n",
    "           tuneGrid = expand.grid(\n",
    "           .size = c(5),\n",
    "           .decay = 0),\n",
    "           trControl= trainControl(method = \"none\"),\n",
    "           MaxNWts = 2000,\n",
    "           maxit = 100)\n",
    "m10 <- train(x = train.X, y = train.y,\n",
    "           method = \"nnet\", \n",
    "           tuneGrid = expand.grid(\n",
    "           .size = c(10),\n",
    "           .decay = 0),\n",
    "           trControl= trainControl(method = \"none\"),\n",
    "           MaxNWts = 2000,\n",
    "           maxit = 100)\n",
    "m15 <- train(x = train.X, y = train.y,\n",
    "           method = \"nnet\", \n",
    "           tuneGrid = expand.grid(\n",
    "           .size = c(15),\n",
    "           .decay = 0),\n",
    "           trControl= trainControl(method = \"none\"),\n",
    "           MaxNWts = 2000,\n",
    "           maxit = 100)\n",
    "m20 <- train(x = train.X, y = train.y,\n",
    "           method = \"nnet\", \n",
    "           tuneGrid = expand.grid(\n",
    "           .size = c(20),\n",
    "           .decay = 0),\n",
    "           trControl= trainControl(method = \"none\"),\n",
    "           MaxNWts = 2000,\n",
    "           maxit = 100)\n",
    "m30 <- train(x = train.X, y = train.y,\n",
    "           method = \"nnet\", \n",
    "           tuneGrid = expand.grid(\n",
    "           .size = c(30),\n",
    "           .decay = 0),\n",
    "           trControl= trainControl(method = \"none\"),\n",
    "           MaxNWts = 2000,\n",
    "           maxit = 100)\n",
    "m40 <- train(x = train.X, y = train.y,\n",
    "           method = \"nnet\", \n",
    "           tuneGrid = expand.grid(\n",
    "           .size = c(40),\n",
    "           .decay = 0),\n",
    "           trControl= trainControl(method = \"none\"),\n",
    "           MaxNWts = 2000,\n",
    "           maxit = 100)\n",
    "m50 <- train(x = train.X, y = train.y,\n",
    "           method = \"nnet\", \n",
    "           tuneGrid = expand.grid(\n",
    "           .size = c(50),\n",
    "           .decay = 0),\n",
    "           trControl= trainControl(method = \"none\"),\n",
    "           MaxNWts = 2000,\n",
    "           maxit = 100)\n",
    "m70 <- train(x = train.X, y = train.y,\n",
    "           method = \"nnet\", \n",
    "           tuneGrid = expand.grid(\n",
    "           .size = c(70),\n",
    "           .decay = 0),\n",
    "           trControl= trainControl(method = \"none\"),\n",
    "           MaxNWts = 2000,\n",
    "           maxit = 100)\n",
    "m100 <- train(x = train.X, y = train.y,\n",
    "           method = \"nnet\", \n",
    "           tuneGrid = expand.grid(\n",
    "           .size = c(100),\n",
    "           .decay = 0),\n",
    "           trControl= trainControl(method = \"none\"),\n",
    "           MaxNWts = 20000,\n",
    "           maxit = 100)"
   ]
  },
  {
   "cell_type": "code",
   "execution_count": 20,
   "metadata": {},
   "outputs": [],
   "source": [
    "yhat5 <- predict(m5)\n",
    "yhat10 <- predict(m10)\n",
    "yhat15 <- predict(m15)\n",
    "yhat20 <- predict(m20)\n",
    "yhat30 <- predict(m30)\n",
    "yhat40 <- predict(m40)\n",
    "yhat50 <- predict(m50)\n",
    "yhat70 <- predict(m70)\n",
    "yhat100 <- predict(m100)\n",
    "\n",
    "yhat_unseen5 <- predict(m5, as.matrix(test.X))\n",
    "yhat_unseen10 <- predict(m10, as.matrix(test.X))\n",
    "yhat_unseen15 <- predict(m15, as.matrix(test.X))\n",
    "yhat_unseen20 <- predict(m20, as.matrix(test.X))\n",
    "yhat_unseen30 <- predict(m30, as.matrix(test.X))\n",
    "yhat_unseen40 <- predict(m40, as.matrix(test.X))\n",
    "yhat_unseen50 <- predict(m50, as.matrix(test.X))\n",
    "yhat_unseen70 <- predict(m70, as.matrix(test.X))\n",
    "yhat_unseen100 <- predict(m100, as.matrix(test.X))"
   ]
  },
  {
   "cell_type": "code",
   "execution_count": 21,
   "metadata": {},
   "outputs": [],
   "source": [
    "measures <- c(\"AccuracyNull\", \"Accuracy\", \"AccuracyLower\", \"AccuracyUpper\")\n",
    "\n",
    "n5.insample <- caret::confusionMatrix(xtabs(~train.y + yhat5))\n",
    "n10.insample <- caret::confusionMatrix(xtabs(~train.y + yhat10))\n",
    "n15.insample <- caret::confusionMatrix(xtabs(~train.y + yhat15))\n",
    "n20.insample <- caret::confusionMatrix(xtabs(~train.y + yhat20))\n",
    "n30.insample <- caret::confusionMatrix(xtabs(~train.y + yhat30))\n",
    "n40.insample <- caret::confusionMatrix(xtabs(~train.y + yhat40))\n",
    "n50.insample <- caret::confusionMatrix(xtabs(~train.y + yhat50))\n",
    "n70.insample <- caret::confusionMatrix(xtabs(~train.y + yhat70))\n",
    "n100.insample <- caret::confusionMatrix(xtabs(~train.y + yhat100))\n",
    "\n",
    "n5.outsample <- caret::confusionMatrix(xtabs(~test.y + yhat_unseen5))\n",
    "n10.outsample <- caret::confusionMatrix(xtabs(~test.y + yhat_unseen10))\n",
    "n15.outsample <- caret::confusionMatrix(xtabs(~test.y + yhat_unseen15))\n",
    "n20.outsample <- caret::confusionMatrix(xtabs(~test.y + yhat_unseen20))\n",
    "n30.outsample <- caret::confusionMatrix(xtabs(~test.y + yhat_unseen30))\n",
    "n40.outsample <- caret::confusionMatrix(xtabs(~test.y + yhat_unseen40))\n",
    "n50.outsample <- caret::confusionMatrix(xtabs(~test.y + yhat_unseen50))\n",
    "n70.outsample <- caret::confusionMatrix(xtabs(~test.y + yhat_unseen70))\n",
    "n100.outsample <- caret::confusionMatrix(xtabs(~test.y + yhat_unseen100))"
   ]
  },
  {
   "cell_type": "code",
   "execution_count": 23,
   "metadata": {},
   "outputs": [
    {
     "data": {
      "text/html": [
       "<strong>png:</strong> 2"
      ],
      "text/latex": [
       "\\textbf{png:} 2"
      ],
      "text/markdown": [
       "**png:** 2"
      ],
      "text/plain": [
       "png \n",
       "  2 "
      ]
     },
     "metadata": {},
     "output_type": "display_data"
    }
   ],
   "source": [
    "shrinkage <- rbind(\n",
    "  cbind(Size = 5, Sample = \"In\", as.data.frame(t(n5.insample$overall[measures]))),\n",
    "  cbind(Size = 5, Sample = \"Out\", as.data.frame(t(n5.outsample$overall[measures]))),\n",
    "  cbind(Size = 10, Sample = \"In\", as.data.frame(t(n10.insample$overall[measures]))),\n",
    "  cbind(Size = 10, Sample = \"Out\", as.data.frame(t(n10.outsample$overall[measures]))),\n",
    "  cbind(Size = 15, Sample = \"In\", as.data.frame(t(n15.insample$overall[measures]))),\n",
    "  cbind(Size = 15, Sample = \"Out\", as.data.frame(t(n15.outsample$overall[measures]))),\n",
    "  cbind(Size = 20, Sample = \"In\", as.data.frame(t(n20.insample$overall[measures]))),\n",
    "  cbind(Size = 20, Sample = \"Out\", as.data.frame(t(n20.outsample$overall[measures]))),\n",
    "  cbind(Size = 30, Sample = \"In\", as.data.frame(t(n30.insample$overall[measures]))),\n",
    "  cbind(Size = 30, Sample = \"Out\", as.data.frame(t(n30.outsample$overall[measures]))),\n",
    "  cbind(Size = 40, Sample = \"In\", as.data.frame(t(n40.insample$overall[measures]))),\n",
    "  cbind(Size = 40, Sample = \"Out\", as.data.frame(t(n40.outsample$overall[measures]))),\n",
    "  cbind(Size = 50, Sample = \"In\", as.data.frame(t(n50.insample$overall[measures]))),\n",
    "  cbind(Size = 50, Sample = \"Out\", as.data.frame(t(n50.outsample$overall[measures]))),\n",
    "  cbind(Size = 70, Sample = \"In\", as.data.frame(t(n70.insample$overall[measures]))),\n",
    "  cbind(Size = 70, Sample = \"Out\", as.data.frame(t(n70.outsample$overall[measures]))),\n",
    "  cbind(Size = 100, Sample = \"In\", as.data.frame(t(n100.insample$overall[measures]))),\n",
    "  cbind(Size = 100, Sample = \"Out\", as.data.frame(t(n100.outsample$overall[measures])))\n",
    "  )\n",
    "shrinkage$Pkg <- rep(c(\"In\", \"Out\"), 1)\n",
    "\n",
    "dodge <- position_dodge(width=0.4)\n",
    "\n",
    "p.shrinkage <- ggplot(shrinkage, aes(interaction(Size, sep = \" : \"), Accuracy,\n",
    "                      ymin = AccuracyLower, ymax = AccuracyUpper,\n",
    "                      shape = Sample, linetype = Sample)) +\n",
    "  geom_point(size = 2.5, position = dodge) +\n",
    "  geom_errorbar(width = .25, position = dodge) +\n",
    "  xlab(\"\") + ylab(\"Accuracy + 95% CI\") +\n",
    "  theme_classic() +\n",
    "  theme(legend.key.size = unit(1, \"cm\"), legend.position = c(.8, .2))\n",
    "\n",
    "png(\"test_5150.png\",\n",
    "    width = 6, height = 6, units = \"in\", res = 600)\n",
    "  print(p.shrinkage)\n",
    "dev.off()"
   ]
  },
  {
   "cell_type": "markdown",
   "metadata": {},
   "source": [
    "# aus h2o deep learning"
   ]
  },
  {
   "cell_type": "code",
   "execution_count": 10,
   "metadata": {},
   "outputs": [
    {
     "name": "stdout",
     "output_type": "stream",
     "text": [
      "\n",
      "H2O is not running yet, starting it now...\n",
      "\n",
      "Note:  In case of errors look at the following log files:\n",
      "    C:\\Users\\laris\\AppData\\Local\\Temp\\RtmpkXY0ly/h2o_laris_started_from_r.out\n",
      "    C:\\Users\\laris\\AppData\\Local\\Temp\\RtmpkXY0ly/h2o_laris_started_from_r.err\n",
      "\n",
      "\n",
      "Starting H2O JVM and connecting: ... Connection successful!\n",
      "\n",
      "R is connected to the H2O cluster: \n",
      "    H2O cluster uptime:         9 seconds 137 milliseconds \n",
      "    H2O cluster timezone:       Europe/Berlin \n",
      "    H2O data parsing timezone:  UTC \n",
      "    H2O cluster version:        3.18.0.8 \n",
      "    H2O cluster version age:    1 month and 11 days  \n",
      "    H2O cluster name:           H2O_started_from_R_laris_exq087 \n",
      "    H2O cluster total nodes:    1 \n",
      "    H2O cluster total memory:   1.66 GB \n",
      "    H2O cluster total cores:    4 \n",
      "    H2O cluster allowed cores:  4 \n",
      "    H2O cluster healthy:        TRUE \n",
      "    H2O Connection ip:          localhost \n",
      "    H2O Connection port:        54321 \n",
      "    H2O Connection proxy:       NA \n",
      "    H2O Internal Security:      FALSE \n",
      "    H2O API Extensions:         Algos, AutoML, Core V3, Core V4 \n",
      "    R Version:                  R version 3.4.1 (2017-06-30) \n",
      "\n"
     ]
    }
   ],
   "source": [
    "c1 <- h2o.init()"
   ]
  },
  {
   "cell_type": "code",
   "execution_count": 11,
   "metadata": {},
   "outputs": [
    {
     "name": "stdout",
     "output_type": "stream",
     "text": [
      "  |======================================================================| 100%\n",
      "  |======================================================================| 100%\n"
     ]
    }
   ],
   "source": [
    "train$volact <- as.factor(train$volact)\n",
    "test$volact <- as.factor(test$volact)\n",
    "\n",
    "h2o.train <- as.h2o(train)\n",
    "h2o.test <- as.h2o(test)"
   ]
  },
  {
   "cell_type": "code",
   "execution_count": null,
   "metadata": {},
   "outputs": [],
   "source": [
    "train.bal$volact <- as.factor(train.bal$volact)\n",
    "h2o.train.bal <- as.h2o(train.bal)"
   ]
  },
  {
   "cell_type": "code",
   "execution_count": 51,
   "metadata": {},
   "outputs": [],
   "source": [
    "xnames <- colnames(train[,-1])"
   ]
  },
  {
   "cell_type": "code",
   "execution_count": 13,
   "metadata": {},
   "outputs": [],
   "source": [
    "#xnames"
   ]
  },
  {
   "cell_type": "code",
   "execution_count": 31,
   "metadata": {},
   "outputs": [
    {
     "name": "stdout",
     "output_type": "stream",
     "text": [
      "  |======================================================================| 100%\n",
      "  |======================================================================| 100%\n",
      "  |======================================================================| 100%\n",
      "  |======================================================================| 100%\n",
      "Model Details:\n",
      "==============\n",
      "\n",
      "H2OAutoEncoderModel: deeplearning\n",
      "Model Key:  DeepLearning_model_R_1527321233701_68 \n",
      "Status of Neuron Layers: auto-encoder, gaussian distribution, Quadratic loss, 922 weights/biases, 17,3 KB, 873.280 training samples, mini-batch size 1\n",
      "  layer units  type dropout       l1       l2 mean_rate rate_rms momentum\n",
      "1     1    22 Input  0.00 %                                              \n",
      "2     2    20  Tanh  0.00 % 0.000000 0.000000  0.037412 0.023002 0.000000\n",
      "3     3    22  Tanh         0.000000 0.000000  0.073935 0.038064 0.000000\n",
      "  mean_weight weight_rms mean_bias bias_rms\n",
      "1                                          \n",
      "2   -0.006882   0.138086 -0.010339 0.031392\n",
      "3   -0.017709   0.391488 -0.006595 0.068448\n",
      "\n",
      "H2OAutoEncoderMetrics: deeplearning\n",
      "** Reported on training data. **\n",
      "\n",
      "Training Set Metrics: \n",
      "=====================\n",
      "\n",
      "MSE: (Extract with `h2o.mse`) 0.000775966\n",
      "RMSE: (Extract with `h2o.rmse`) 0.02785617\n",
      "\n",
      "H2OAutoEncoderMetrics: deeplearning\n",
      "** Reported on validation data. **\n",
      "\n",
      "Validation Set Metrics: \n",
      "=====================\n",
      "\n",
      "MSE: (Extract with `h2o.mse`) 0.0007785136\n",
      "RMSE: (Extract with `h2o.rmse`) 0.02790186\n",
      "\n",
      "\n",
      "\n",
      "Scoring History: \n",
      "            timestamp   duration  training_speed   epochs iterations\n",
      "1 2018-05-26 11:22:44  0.381 sec 0,00000 obs/sec  0.00000          0\n",
      "2 2018-05-26 11:22:50  6.421 sec   59055 obs/sec  4.00000          4\n",
      "3 2018-05-26 11:22:56 12.418 sec   59316 obs/sec  8.00000          8\n",
      "4 2018-05-26 11:22:59 15.485 sec   59358 obs/sec 10.00000         10\n",
      "5 2018-05-26 11:22:59 15.605 sec   59346 obs/sec 10.00000         10\n",
      "        samples training_rmse training_mse validation_rmse validation_mse\n",
      "1      0.000000       0.40657      0.16530         0.40715        0.16577\n",
      "2 349312.000000       0.02869      0.00082         0.02865        0.00082\n",
      "3 698624.000000       0.02786      0.00078         0.02790        0.00078\n",
      "4 873280.000000       0.02800      0.00078         0.02808        0.00079\n",
      "5 873280.000000       0.02786      0.00078         0.02790        0.00078\n",
      "\n",
      "Variable Importances: (Extract with `h2o.varimp`) \n",
      "=================================================\n",
      "\n",
      "Variable Importances: \n",
      "          variable relative_importance scaled_importance percentage\n",
      "1      houseperson            1.000000          1.000000   0.074803\n",
      "2            tvpol            0.821404          0.821404   0.061444\n",
      "3 self_realisation            0.764039          0.764039   0.057153\n",
      "4       solidarity            0.753003          0.753003   0.056327\n",
      "5            yrbrn            0.741865          0.741865   0.055494\n",
      "\n",
      "---\n",
      "   variable relative_importance scaled_importance percentage\n",
      "17 children            0.515150          0.515150   0.038535\n",
      "18   female            0.506691          0.506691   0.037902\n",
      "19   round1            0.420082          0.420082   0.031424\n",
      "20  married            0.409787          0.409787   0.030653\n",
      "21   wkhtot            0.147439          0.147439   0.011029\n",
      "22   eduyrs            0.125973          0.125973   0.009423\n",
      "Model Details:\n",
      "==============\n",
      "\n",
      "H2OAutoEncoderModel: deeplearning\n",
      "Model Key:  DeepLearning_model_R_1527321233701_69 \n",
      "Status of Neuron Layers: auto-encoder, gaussian distribution, Quadratic loss, 1.127 weights/biases, 20,5 KB, 873.280 training samples, mini-batch size 1\n",
      "  layer units  type dropout       l1       l2 mean_rate rate_rms momentum\n",
      "1     1    22 Input  0.00 %                                              \n",
      "2     2    20  Tanh  0.00 % 0.000000 0.000000  0.046413 0.028715 0.000000\n",
      "3     3    15  Tanh  0.00 % 0.000000 0.000000  0.041075 0.013811 0.000000\n",
      "4     4    22  Tanh         0.000000 0.000000  0.030836 0.024565 0.000000\n",
      "  mean_weight weight_rms mean_bias bias_rms\n",
      "1                                          \n",
      "2    0.012673   0.137722  0.021292 0.051456\n",
      "3   -0.006502   0.199126 -0.011689 0.034189\n",
      "4    0.010531   0.386529 -0.024531 0.038349\n",
      "\n",
      "H2OAutoEncoderMetrics: deeplearning\n",
      "** Reported on training data. **\n",
      "\n",
      "Training Set Metrics: \n",
      "=====================\n",
      "\n",
      "MSE: (Extract with `h2o.mse`) 0.00606855\n",
      "RMSE: (Extract with `h2o.rmse`) 0.0779009\n",
      "\n",
      "H2OAutoEncoderMetrics: deeplearning\n",
      "** Reported on validation data. **\n",
      "\n",
      "Validation Set Metrics: \n",
      "=====================\n",
      "\n",
      "MSE: (Extract with `h2o.mse`) 0.006087287\n",
      "RMSE: (Extract with `h2o.rmse`) 0.07802107\n",
      "\n",
      "\n",
      "\n",
      "Scoring History: \n",
      "            timestamp   duration  training_speed   epochs iterations\n",
      "1 2018-05-26 11:23:01  0.517 sec 0,00000 obs/sec  0.00000          0\n",
      "2 2018-05-26 11:23:08  6.870 sec   42337 obs/sec  3.00000          3\n",
      "3 2018-05-26 11:23:13 12.259 sec   45881 obs/sec  6.00000          6\n",
      "4 2018-05-26 11:23:18 17.424 sec   47868 obs/sec  9.00000          9\n",
      "5 2018-05-26 11:23:20 19.260 sec   48258 obs/sec 10.00000         10\n",
      "6 2018-05-26 11:23:20 19.414 sec   48250 obs/sec 10.00000         10\n",
      "        samples training_rmse training_mse validation_rmse validation_mse\n",
      "1      0.000000       0.37986      0.14429         0.37946        0.14399\n",
      "2 261984.000000       0.07819      0.00611         0.07840        0.00615\n",
      "3 523968.000000       0.07825      0.00612         0.07839        0.00615\n",
      "4 785952.000000       0.07790      0.00607         0.07802        0.00609\n",
      "5 873280.000000       0.07792      0.00607         0.07803        0.00609\n",
      "6 873280.000000       0.07790      0.00607         0.07802        0.00609\n",
      "\n",
      "Variable Importances: (Extract with `h2o.varimp`) \n",
      "=================================================\n",
      "\n",
      "Variable Importances: \n",
      "      variable relative_importance scaled_importance percentage\n",
      "1 social_trust            1.000000          1.000000   0.070170\n",
      "2       church            0.980340          0.980340   0.068790\n",
      "3       trstep            0.964037          0.964037   0.067646\n",
      "4      sclmeet            0.928203          0.928203   0.065132\n",
      "5       stfdem            0.924611          0.924611   0.064880\n",
      "\n",
      "---\n",
      "      variable relative_importance scaled_importance percentage\n",
      "17       yrbrn            0.466086          0.466086   0.032705\n",
      "18      round1            0.453203          0.453203   0.031801\n",
      "19   trust_leg            0.426960          0.426960   0.029960\n",
      "20      eduyrs            0.172784          0.172784   0.012124\n",
      "21 houseperson            0.145562          0.145562   0.010214\n",
      "22      wkhtot            0.127275          0.127275   0.008931\n",
      "Model Details:\n",
      "==============\n",
      "\n",
      "H2OAutoEncoderModel: deeplearning\n",
      "Model Key:  DeepLearning_model_R_1527321233701_70 \n",
      "Status of Neuron Layers: auto-encoder, gaussian distribution, Quadratic loss, 1.177 weights/biases, 21,8 KB, 873.280 training samples, mini-batch size 1\n",
      "  layer units  type dropout       l1       l2 mean_rate rate_rms momentum\n",
      "1     1    22 Input  0.00 %                                              \n",
      "2     2    20  Tanh  0.00 % 0.000000 0.000000  0.050717 0.026346 0.000000\n",
      "3     3    15  Tanh  0.00 % 0.000000 0.000000  0.043348 0.013814 0.000000\n",
      "4     4    10  Tanh  0.00 % 0.000000 0.000000  0.025917 0.006957 0.000000\n",
      "5     5    22  Tanh         0.000000 0.000000  0.017540 0.016759 0.000000\n",
      "  mean_weight weight_rms mean_bias bias_rms\n",
      "1                                          \n",
      "2   -0.007040   0.132461  0.005690 0.039503\n",
      "3    0.016562   0.202858  0.010925 0.030090\n",
      "4   -0.012409   0.195769  0.000497 0.038236\n",
      "5    0.029514   0.431324 -0.031500 0.056378\n",
      "\n",
      "H2OAutoEncoderMetrics: deeplearning\n",
      "** Reported on training data. **\n",
      "\n",
      "Training Set Metrics: \n",
      "=====================\n",
      "\n",
      "MSE: (Extract with `h2o.mse`) 0.0146455\n",
      "RMSE: (Extract with `h2o.rmse`) 0.1210186\n",
      "\n",
      "H2OAutoEncoderMetrics: deeplearning\n",
      "** Reported on validation data. **\n",
      "\n",
      "Validation Set Metrics: \n",
      "=====================\n",
      "\n",
      "MSE: (Extract with `h2o.mse`) 0.01472278\n",
      "RMSE: (Extract with `h2o.rmse`) 0.1213375\n",
      "\n",
      "\n",
      "\n",
      "Scoring History: \n",
      "            timestamp   duration  training_speed   epochs iterations\n",
      "1 2018-05-26 11:23:22  0.596 sec 0,00000 obs/sec  0.00000          0\n",
      "2 2018-05-26 11:23:29  7.450 sec   39260 obs/sec  3.00000          3\n",
      "3 2018-05-26 11:23:35 13.408 sec   42106 obs/sec  6.00000          6\n",
      "4 2018-05-26 11:23:41 19.219 sec   43485 obs/sec  9.00000          9\n",
      "5 2018-05-26 11:23:43 21.278 sec   43758 obs/sec 10.00000         10\n",
      "6 2018-05-26 11:23:43 21.426 sec   43751 obs/sec 10.00000         10\n",
      "        samples training_rmse training_mse validation_rmse validation_mse\n",
      "1      0.000000       0.35621      0.12689         0.35593        0.12668\n",
      "2 261984.000000       0.12102      0.01465         0.12134        0.01472\n",
      "3 523968.000000       0.12144      0.01475         0.12179        0.01483\n",
      "4 785952.000000       0.12138      0.01473         0.12166        0.01480\n",
      "5 873280.000000       0.12165      0.01480         0.12198        0.01488\n",
      "6 873280.000000       0.12102      0.01465         0.12134        0.01472\n",
      "\n",
      "Variable Importances: (Extract with `h2o.varimp`) \n",
      "=================================================\n",
      "\n",
      "Variable Importances: \n",
      "  variable relative_importance scaled_importance percentage\n",
      "1   round1            1.000000          1.000000   0.074355\n",
      "2 children            0.992962          0.992962   0.073832\n",
      "3   church            0.990690          0.990690   0.073663\n",
      "4  domicil            0.990034          0.990034   0.073614\n",
      "5   female            0.966728          0.966728   0.071881\n",
      "\n",
      "---\n",
      "           variable relative_importance scaled_importance percentage\n",
      "17        tolerance            0.387960          0.387960   0.028847\n",
      "18 self_realisation            0.320136          0.320136   0.023804\n",
      "19      houseperson            0.308317          0.308317   0.022925\n",
      "20           eduyrs            0.307930          0.307930   0.022896\n",
      "21     social_trust            0.239737          0.239737   0.017826\n",
      "22           wkhtot            0.228089          0.228089   0.016960\n",
      "Model Details:\n",
      "==============\n",
      "\n",
      "H2OAutoEncoderModel: deeplearning\n",
      "Model Key:  DeepLearning_model_R_1527321233701_71 \n",
      "Status of Neuron Layers: auto-encoder, gaussian distribution, Quadratic loss, 1.122 weights/biases, 21,8 KB, 873.280 training samples, mini-batch size 1\n",
      "  layer units  type dropout       l1       l2 mean_rate rate_rms momentum\n",
      "1     1    22 Input  0.00 %                                              \n",
      "2     2    20  Tanh  0.00 % 0.000000 0.000000  0.250500 0.156754 0.000000\n",
      "3     3    15  Tanh  0.00 % 0.000000 0.000000  0.140612 0.073508 0.000000\n",
      "4     4    10  Tanh  0.00 % 0.000000 0.000000  0.068041 0.040162 0.000000\n",
      "5     5     5  Tanh  0.00 % 0.000000 0.000000  0.015953 0.006296 0.000000\n",
      "6     6    22  Tanh         0.000000 0.000000  0.010988 0.011900 0.000000\n",
      "  mean_weight weight_rms mean_bias bias_rms\n",
      "1                                          \n",
      "2    0.005524   0.219513  0.007912 0.071470\n",
      "3    0.007786   0.249784 -0.055526 0.150431\n",
      "4    0.012745   0.246407  0.042017 0.081458\n",
      "5   -0.025121   0.153236 -0.026973 0.046084\n",
      "6    0.120538   0.574990 -0.011829 0.061625\n",
      "\n",
      "H2OAutoEncoderMetrics: deeplearning\n",
      "** Reported on training data. **\n",
      "\n",
      "Training Set Metrics: \n",
      "=====================\n",
      "\n",
      "MSE: (Extract with `h2o.mse`) 0.03321477\n",
      "RMSE: (Extract with `h2o.rmse`) 0.1822492\n",
      "\n",
      "H2OAutoEncoderMetrics: deeplearning\n",
      "** Reported on validation data. **\n",
      "\n",
      "Validation Set Metrics: \n",
      "=====================\n",
      "\n",
      "MSE: (Extract with `h2o.mse`) 0.03327318\n",
      "RMSE: (Extract with `h2o.rmse`) 0.1824094\n",
      "\n",
      "\n",
      "\n",
      "Scoring History: \n",
      "            timestamp   duration  training_speed   epochs iterations\n",
      "1 2018-05-26 11:23:44  0.524 sec 0,00000 obs/sec  0.00000          0\n",
      "2 2018-05-26 11:23:50  6.273 sec   47212 obs/sec  3.00000          3\n",
      "3 2018-05-26 11:23:56 12.052 sec   47094 obs/sec  6.00000          6\n",
      "4 2018-05-26 11:24:02 17.865 sec   46939 obs/sec  9.00000          9\n",
      "5 2018-05-26 11:24:04 19.897 sec   46968 obs/sec 10.00000         10\n",
      "6 2018-05-26 11:24:04 20.082 sec   46968 obs/sec 10.00000         10\n",
      "        samples training_rmse training_mse validation_rmse validation_mse\n",
      "1      0.000000       0.35309      0.12467         0.35224        0.12408\n",
      "2 261984.000000       0.18227      0.03322         0.18254        0.03332\n",
      "3 523968.000000       0.18225      0.03321         0.18241        0.03327\n",
      "4 785952.000000       0.18246      0.03329         0.18271        0.03338\n",
      "5 873280.000000       0.18226      0.03322         0.18242        0.03328\n",
      "6 873280.000000       0.18225      0.03321         0.18241        0.03327\n",
      "\n",
      "Variable Importances: (Extract with `h2o.varimp`) \n",
      "=================================================\n",
      "\n",
      "Variable Importances: \n",
      "   variable relative_importance scaled_importance percentage\n",
      "1    round1            1.000000          1.000000   0.133137\n",
      "2  children            0.783734          0.783734   0.104344\n",
      "3   married            0.769189          0.769189   0.102407\n",
      "4    female            0.632390          0.632390   0.084194\n",
      "5 trust_leg            0.423697          0.423697   0.056410\n",
      "\n",
      "---\n",
      "           variable relative_importance scaled_importance percentage\n",
      "17       solidarity            0.135933          0.135933   0.018098\n",
      "18      houseperson            0.114584          0.114584   0.015255\n",
      "19          domicil            0.111697          0.111697   0.014871\n",
      "20           wkhtot            0.104820          0.104820   0.013955\n",
      "21        tolerance            0.102602          0.102602   0.013660\n",
      "22 self_realisation            0.078634          0.078634   0.010469\n"
     ]
    }
   ],
   "source": [
    "m2a <- h2o.deeplearning(\n",
    "  x = xnames,\n",
    "  #y = \"Outcome\",\n",
    "  training_frame= h2o.train,\n",
    "  validation_frame = h2o.test,\n",
    "  activation = \"Tanh\",\n",
    "  autoencoder = TRUE,\n",
    "  hidden = c(20),\n",
    "  epochs = 10,\n",
    "  sparsity_beta = 0,\n",
    "  l1 = 0,\n",
    "  l2 = 0\n",
    ")\n",
    "\n",
    "m2b <- h2o.deeplearning(\n",
    "  x = xnames,\n",
    "  #y = \"Outcome\",\n",
    "  training_frame= h2o.train,\n",
    "  validation_frame = h2o.test,\n",
    "  activation = \"Tanh\",\n",
    "  autoencoder = TRUE,\n",
    "  hidden = c(20, 15),\n",
    "  epochs = 10,\n",
    "  sparsity_beta = 0,\n",
    "  #hidden_pout_ratios = c(.3),\n",
    "  l1 = 0,\n",
    "  l2 = 0\n",
    ")\n",
    "\n",
    "m2c <- h2o.deeplearning(\n",
    "  x = xnames,\n",
    "  #y = \"Outcome\",\n",
    "  training_frame= h2o.train,\n",
    "  validation_frame = h2o.test,\n",
    "  activation = \"Tanh\",\n",
    "  autoencoder = TRUE,\n",
    "  hidden = c(20, 15, 10),\n",
    "  epochs = 10,\n",
    "  sparsity_beta = 0,\n",
    "  l1 = 0,\n",
    "  l2 = 0\n",
    ")\n",
    "\n",
    "m2d <- h2o.deeplearning(\n",
    "  x = xnames,\n",
    "  #y = \"Outcome\",\n",
    "  training_frame= h2o.train,\n",
    "  validation_frame = h2o.test,\n",
    "  activation = \"Tanh\",\n",
    "  autoencoder = TRUE,\n",
    "  hidden = c(20, 15, 10, 5),\n",
    "  epochs = 10,\n",
    "  sparsity_beta = 0,\n",
    "  #hi2den_dropout_ratios = c(.3),\n",
    "  l1 = 0,\n",
    "  l2 = 0\n",
    ")\n",
    "\n",
    "summary(m2a)\n",
    "summary(m2b)\n",
    "summary(m2c)\n",
    "summary(m2d)"
   ]
  },
  {
   "cell_type": "code",
   "execution_count": 32,
   "metadata": {},
   "outputs": [
    {
     "data": {
      "text/html": [
       "<strong>png:</strong> 2"
      ],
      "text/latex": [
       "\\textbf{png:} 2"
      ],
      "text/markdown": [
       "**png:** 2"
      ],
      "text/plain": [
       "png \n",
       "  2 "
      ]
     },
     "metadata": {},
     "output_type": "display_data"
    },
    {
     "data": {
      "image/png": "[encoded data removed]",
      "text/plain": [
       "plot without title"
      ]
     },
     "metadata": {},
     "output_type": "display_data"
    }
   ],
   "source": [
    "error1 <- as.data.frame(h2o.anomaly(m2a, h2o.train))\n",
    "error2a <- as.data.frame(h2o.anomaly(m2b, h2o.train))\n",
    "error2b <- as.data.frame(h2o.anomaly(m2c, h2o.train))\n",
    "error2c <- as.data.frame(h2o.anomaly(m2d, h2o.train))\n",
    "\n",
    "error <- as.data.table(rbind(\n",
    "  cbind.data.frame(Model = \"2a\", error1),\n",
    "  cbind.data.frame(Model = \"2b\", error2a),\n",
    "  cbind.data.frame(Model = \"2c\", error2b),\n",
    "  cbind.data.frame(Model = \"2d\", error2c)))\n",
    "\n",
    "percentile <- error[, .(\n",
    "  Percentile = quantile(Reconstruction.MSE, probs = .95)\n",
    "), by = Model]\n",
    "\n",
    "p1 <- ggplot(error, aes(Reconstruction.MSE)) +\n",
    "  geom_histogram(binwidth = .001, fill = \"grey50\") +\n",
    "  geom_vline(aes(xintercept = Percentile), data = percentile, linetype = 2) +\n",
    "  theme_bw() +\n",
    "  facet_wrap(~Model)\n",
    "print(p1)\n",
    "\n",
    "png(\"error_1.png\",\n",
    "    width = 5.5, height = 5.5, units = \"in\", res = 600)\n",
    "print(p1)\n",
    "dev.off()"
   ]
  },
  {
   "cell_type": "code",
   "execution_count": 14,
   "metadata": {},
   "outputs": [
    {
     "name": "stdout",
     "output_type": "stream",
     "text": [
      "  |======================================================================| 100%\n",
      "Model Details:\n",
      "==============\n",
      "\n",
      "H2OBinomialModel: deeplearning\n",
      "Model Key:  DeepLearning_model_R_1527776472963_1 \n",
      "Status of Neuron Layers: predicting volact, 2-class classification, bernoulli distribution, CrossEntropy loss, 65.102 weights/biases, 776,2 KB, 890.175 training samples, mini-batch size 1\n",
      "  layer units      type dropout       l1       l2 mean_rate rate_rms momentum\n",
      "1     1    22     Input  0.00 %                                              \n",
      "2     2   200 Rectifier  0.00 % 0.000000 0.000000  0.039764 0.015742 0.000000\n",
      "3     3   200 Rectifier  0.00 % 0.000000 0.000000  0.016766 0.008441 0.000000\n",
      "4     4   100 Rectifier  0.00 % 0.000000 0.000000  0.038317 0.059579 0.000000\n",
      "5     5     2   Softmax         0.000000 0.000000  0.009294 0.003672 0.000000\n",
      "  mean_weight weight_rms mean_bias bias_rms\n",
      "1                                          \n",
      "2    0.014879   0.189256  0.239910 0.105072\n",
      "3   -0.027969   0.072399  0.916157 0.085171\n",
      "4   -0.007734   0.084521 -0.171398 0.231650\n",
      "5    0.037996   0.392254 -0.007552 0.190833\n",
      "\n",
      "H2OBinomialMetrics: deeplearning\n",
      "** Reported on training data. **\n",
      "** Metrics reported on temporary training frame with 9951 samples **\n",
      "\n",
      "MSE:  0.2033251\n",
      "RMSE:  0.4509158\n",
      "LogLoss:  0.5922762\n",
      "Mean Per-Class Error:  0.362356\n",
      "AUC:  0.6977062\n",
      "Gini:  0.3954123\n",
      "\n",
      "Confusion Matrix (vertical: actual; across: predicted) for F1-optimal threshold:\n",
      "          0    1    Error        Rate\n",
      "0      3216 3254 0.502937  =3254/6470\n",
      "1       772 2709 0.221775   =772/3481\n",
      "Totals 3988 5963 0.404582  =4026/9951\n",
      "\n",
      "Maximum Metrics: Maximum metrics at their respective thresholds\n",
      "                        metric threshold    value idx\n",
      "1                       max f1  0.261312 0.573698 254\n",
      "2                       max f2  0.118690 0.739042 353\n",
      "3                 max f0point5  0.392081 0.524875 168\n",
      "4                 max accuracy  0.446425 0.685258 135\n",
      "5                max precision  0.758793 0.833333   2\n",
      "6                   max recall  0.028360 1.000000 397\n",
      "7              max specificity  0.770680 0.999845   0\n",
      "8             max absolute_mcc  0.338839 0.280619 205\n",
      "9   max min_per_class_accuracy  0.328516 0.643431 212\n",
      "10 max mean_per_class_accuracy  0.338839 0.645828 205\n",
      "\n",
      "Gains/Lift Table: Extract with `h2o.gainsLift(<model>, <data>)` or `h2o.gainsLift(<model>, valid=<T/F>, xval=<T/F>)`\n",
      "H2OBinomialMetrics: deeplearning\n",
      "** Reported on validation data. **\n",
      "** Metrics reported on full validation frame **\n",
      "\n",
      "MSE:  0.206565\n",
      "RMSE:  0.4544943\n",
      "LogLoss:  0.6004164\n",
      "Mean Per-Class Error:  0.374573\n",
      "AUC:  0.6943986\n",
      "Gini:  0.3887972\n",
      "\n",
      "Confusion Matrix (vertical: actual; across: predicted) for F1-optimal threshold:\n",
      "          0    1    Error        Rate\n",
      "0      2584 3637 0.584633  =3637/6221\n",
      "1       573 2910 0.164513   =573/3483\n",
      "Totals 3157 6547 0.433842  =4210/9704\n",
      "\n",
      "Maximum Metrics: Maximum metrics at their respective thresholds\n",
      "                        metric threshold    value idx\n",
      "1                       max f1  0.226878 0.580259 273\n",
      "2                       max f2  0.133590 0.742003 336\n",
      "3                 max f0point5  0.395150 0.528468 164\n",
      "4                 max accuracy  0.461671 0.682502 123\n",
      "5                max precision  0.772056 1.000000   0\n",
      "6                   max recall  0.019996 1.000000 398\n",
      "7              max specificity  0.772056 1.000000   0\n",
      "8             max absolute_mcc  0.315137 0.267794 216\n",
      "9   max min_per_class_accuracy  0.327404 0.638000 208\n",
      "10 max mean_per_class_accuracy  0.315137 0.639543 216\n",
      "\n",
      "Gains/Lift Table: Extract with `h2o.gainsLift(<model>, <data>)` or `h2o.gainsLift(<model>, valid=<T/F>, xval=<T/F>)`\n",
      "\n",
      "\n",
      "Scoring History: \n",
      "            timestamp          duration training_speed   epochs iterations\n",
      "1 2018-05-31 16:22:53         0.000 sec                 0.00000          0\n",
      "2 2018-05-31 16:23:02        13.456 sec   5220 obs/sec  0.51295          1\n",
      "3 2018-05-31 16:23:35        45.398 sec   8136 obs/sec  3.56884          7\n",
      "4 2018-05-31 16:23:59  1 min  9.592 sec   8831 obs/sec  6.11594         12\n",
      "5 2018-05-31 16:24:23  1 min 32.740 sec   9238 obs/sec  8.66777         17\n",
      "6 2018-05-31 16:24:37  1 min 47.144 sec   9442 obs/sec 10.19347         20\n",
      "7 2018-05-31 16:24:39  1 min 48.883 sec   9433 obs/sec 10.19347         20\n",
      "        samples training_rmse training_logloss training_auc training_lift\n",
      "1      0.000000                                                          \n",
      "2  44795.000000       0.46057          0.61415      0.68349       2.22976\n",
      "3 311660.000000       0.45092          0.59228      0.69771       2.20117\n",
      "4 534093.000000       0.44930          0.58807      0.70971       2.14400\n",
      "5 756939.000000       0.44624          0.58254      0.71522       2.14400\n",
      "6 890175.000000       0.44292          0.57384      0.72476       2.25834\n",
      "7 890175.000000       0.45092          0.59228      0.69771       2.20117\n",
      "  training_classification_error validation_rmse validation_logloss\n",
      "1                                                                 \n",
      "2                       0.45242         0.46320            0.62055\n",
      "3                       0.40458         0.45449            0.60042\n",
      "4                       0.41011         0.45603            0.60420\n",
      "5                       0.40177         0.45541            0.60444\n",
      "6                       0.38790         0.45404            0.60102\n",
      "7                       0.40458         0.45449            0.60042\n",
      "  validation_auc validation_lift validation_classification_error\n",
      "1                                                               \n",
      "2        0.68628         2.24594                         0.43250\n",
      "3        0.69440         2.16065                         0.43384\n",
      "4        0.69482         2.24594                         0.41612\n",
      "5        0.69331         2.27437                         0.45383\n",
      "6        0.69448         2.27437                         0.42745\n",
      "7        0.69440         2.16065                         0.43384\n",
      "\n",
      "Variable Importances: (Extract with `h2o.varimp`) \n",
      "=================================================\n",
      "\n",
      "Variable Importances: \n",
      "      variable relative_importance scaled_importance percentage\n",
      "1       eduyrs            1.000000          1.000000   0.071032\n",
      "2       round1            0.939375          0.939375   0.066725\n",
      "3 social_trust            0.854368          0.854368   0.060687\n",
      "4       church            0.821406          0.821406   0.058346\n",
      "5      sclmeet            0.788391          0.788391   0.056001\n",
      "\n",
      "---\n",
      "           variable relative_importance scaled_importance percentage\n",
      "17        tolerance            0.476803          0.476803   0.033868\n",
      "18           trstep            0.458310          0.458310   0.032555\n",
      "19 self_realisation            0.457716          0.457716   0.032512\n",
      "20           stfdem            0.454999          0.454999   0.032319\n",
      "21      houseperson            0.447639          0.447639   0.031797\n",
      "22           wkhtot            0.402998          0.402998   0.028626\n"
     ]
    }
   ],
   "source": [
    "#in sample = 0.70\n",
    "mt3 <- h2o.deeplearning(\n",
    "  x = xnames,\n",
    "  y = \"volact\",\n",
    "  training_frame = h2o.train,\n",
    "  validation_frame = h2o.test,\n",
    "  activation = \"Rectifier\",\n",
    "  hidden = c(200, 200, 100),\n",
    "  epochs = 10,\n",
    "  rate = .005,\n",
    "  loss = \"CrossEntropy\",\n",
    "  #input_dropout_ratio = .2,\n",
    "  #hidden_dropout_ratios = c(.5, .3, .1),\n",
    "  export_weights_and_biases = TRUE\n",
    ")\n",
    "summary(mt3)"
   ]
  },
  {
   "cell_type": "code",
   "execution_count": 32,
   "metadata": {},
   "outputs": [
    {
     "name": "stdout",
     "output_type": "stream",
     "text": [
      "  |======================================================================| 100%\n"
     ]
    },
    {
     "data": {
      "text/html": [
       "0.588726298433636"
      ],
      "text/latex": [
       "0.588726298433636"
      ],
      "text/markdown": [
       "0.588726298433636"
      ],
      "text/plain": [
       "[1] 0.5887263"
      ]
     },
     "metadata": {},
     "output_type": "display_data"
    },
    {
     "data": {
      "text/html": [
       "-0.145851277634223"
      ],
      "text/latex": [
       "-0.145851277634223"
      ],
      "text/markdown": [
       "-0.145851277634223"
      ],
      "text/plain": [
       "[1] -0.1458513"
      ]
     },
     "metadata": {},
     "output_type": "display_data"
    },
    {
     "data": {
      "text/html": [
       "0.581524588445004"
      ],
      "text/latex": [
       "0.581524588445004"
      ],
      "text/markdown": [
       "0.581524588445004"
      ],
      "text/plain": [
       "[1] 0.5815246"
      ]
     },
     "metadata": {},
     "output_type": "display_data"
    }
   ],
   "source": [
    "mt3_pred <- h2o.predict(mt3, h2o.test)\n",
    "ACC(table(as.vector(mt3_pred$predict), as.vector(h2o.test$volact)))\n",
    "PRE(table(as.vector(mt3_pred$predict), as.vector(h2o.test$volact)))\n",
    "F1(table(as.vector(mt3_pred$predict), as.vector(h2o.test$volact)))"
   ]
  },
  {
   "cell_type": "code",
   "execution_count": 35,
   "metadata": {},
   "outputs": [
    {
     "data": {
      "text/html": [
       "<table>\n",
       "<thead><tr><th scope=col>variable</th><th scope=col>relative_importance</th><th scope=col>scaled_importance</th><th scope=col>percentage</th></tr></thead>\n",
       "<tbody>\n",
       "\t<tr><td>eduyrs            </td><td>1.0000000         </td><td>1.0000000         </td><td>0.06786655        </td></tr>\n",
       "\t<tr><td>yrbrn             </td><td>0.9774464         </td><td>0.9774464         </td><td>0.06633592        </td></tr>\n",
       "\t<tr><td>round1            </td><td>0.9719231         </td><td>0.9719231         </td><td>0.06596107        </td></tr>\n",
       "\t<tr><td>sclmeet           </td><td>0.8775737         </td><td>0.8775737         </td><td>0.05955790        </td></tr>\n",
       "\t<tr><td>social_trust      </td><td>0.8170829         </td><td>0.8170829         </td><td>0.05545260        </td></tr>\n",
       "\t<tr><td>church            </td><td>0.7512495         </td><td>0.7512495         </td><td>0.05098471        </td></tr>\n",
       "\t<tr><td>tvpol             </td><td>0.7493991         </td><td>0.7493991         </td><td>0.05085914        </td></tr>\n",
       "\t<tr><td>trust_exe         </td><td>0.7223423         </td><td>0.7223423         </td><td>0.04902288        </td></tr>\n",
       "\t<tr><td>political_interest</td><td>0.7104195         </td><td>0.7104195         </td><td>0.04821373        </td></tr>\n",
       "\t<tr><td>married           </td><td>0.6410848         </td><td>0.6410848         </td><td>0.04350822        </td></tr>\n",
       "\t<tr><td>trust_leg         </td><td>0.6237921         </td><td>0.6237921         </td><td>0.04233462        </td></tr>\n",
       "\t<tr><td>tvtot             </td><td>0.6090486         </td><td>0.6090486         </td><td>0.04133403        </td></tr>\n",
       "\t<tr><td>solidarity        </td><td>0.6037391         </td><td>0.6037391         </td><td>0.04097369        </td></tr>\n",
       "\t<tr><td>female            </td><td>0.5928637         </td><td>0.5928637         </td><td>0.04023561        </td></tr>\n",
       "\t<tr><td>children          </td><td>0.5897075         </td><td>0.5897075         </td><td>0.04002142        </td></tr>\n",
       "\t<tr><td>stfdem            </td><td>0.5735353         </td><td>0.5735353         </td><td>0.03892386        </td></tr>\n",
       "\t<tr><td>domicil           </td><td>0.5478558         </td><td>0.5478558         </td><td>0.03718108        </td></tr>\n",
       "\t<tr><td>wkhtot            </td><td>0.5427228         </td><td>0.5427228         </td><td>0.03683273        </td></tr>\n",
       "\t<tr><td>tolerance         </td><td>0.4959922         </td><td>0.4959922         </td><td>0.03366128        </td></tr>\n",
       "\t<tr><td>trstep            </td><td>0.4879771         </td><td>0.4879771         </td><td>0.03311732        </td></tr>\n",
       "\t<tr><td>houseperson       </td><td>0.4250491         </td><td>0.4250491         </td><td>0.02884662        </td></tr>\n",
       "\t<tr><td>self_realisation  </td><td>0.4239941         </td><td>0.4239941         </td><td>0.02877502        </td></tr>\n",
       "</tbody>\n",
       "</table>\n"
      ],
      "text/latex": [
       "\\begin{tabular}{r|llll}\n",
       " variable & relative\\_importance & scaled\\_importance & percentage\\\\\n",
       "\\hline\n",
       "\t eduyrs             & 1.0000000          & 1.0000000          & 0.06786655        \\\\\n",
       "\t yrbrn              & 0.9774464          & 0.9774464          & 0.06633592        \\\\\n",
       "\t round1             & 0.9719231          & 0.9719231          & 0.06596107        \\\\\n",
       "\t sclmeet            & 0.8775737          & 0.8775737          & 0.05955790        \\\\\n",
       "\t social\\_trust       & 0.8170829            & 0.8170829            & 0.05545260          \\\\\n",
       "\t church             & 0.7512495          & 0.7512495          & 0.05098471        \\\\\n",
       "\t tvpol              & 0.7493991          & 0.7493991          & 0.05085914        \\\\\n",
       "\t trust\\_exe          & 0.7223423            & 0.7223423            & 0.04902288          \\\\\n",
       "\t political\\_interest & 0.7104195            & 0.7104195            & 0.04821373          \\\\\n",
       "\t married            & 0.6410848          & 0.6410848          & 0.04350822        \\\\\n",
       "\t trust\\_leg          & 0.6237921            & 0.6237921            & 0.04233462          \\\\\n",
       "\t tvtot              & 0.6090486          & 0.6090486          & 0.04133403        \\\\\n",
       "\t solidarity         & 0.6037391          & 0.6037391          & 0.04097369        \\\\\n",
       "\t female             & 0.5928637          & 0.5928637          & 0.04023561        \\\\\n",
       "\t children           & 0.5897075          & 0.5897075          & 0.04002142        \\\\\n",
       "\t stfdem             & 0.5735353          & 0.5735353          & 0.03892386        \\\\\n",
       "\t domicil            & 0.5478558          & 0.5478558          & 0.03718108        \\\\\n",
       "\t wkhtot             & 0.5427228          & 0.5427228          & 0.03683273        \\\\\n",
       "\t tolerance          & 0.4959922          & 0.4959922          & 0.03366128        \\\\\n",
       "\t trstep             & 0.4879771          & 0.4879771          & 0.03311732        \\\\\n",
       "\t houseperson        & 0.4250491          & 0.4250491          & 0.02884662        \\\\\n",
       "\t self\\_realisation   & 0.4239941            & 0.4239941            & 0.02877502          \\\\\n",
       "\\end{tabular}\n"
      ],
      "text/markdown": [
       "\n",
       "variable | relative_importance | scaled_importance | percentage | \n",
       "|---|---|---|---|---|---|---|---|---|---|---|---|---|---|---|---|---|---|---|---|---|---|\n",
       "| eduyrs             | 1.0000000          | 1.0000000          | 0.06786655         | \n",
       "| yrbrn              | 0.9774464          | 0.9774464          | 0.06633592         | \n",
       "| round1             | 0.9719231          | 0.9719231          | 0.06596107         | \n",
       "| sclmeet            | 0.8775737          | 0.8775737          | 0.05955790         | \n",
       "| social_trust       | 0.8170829          | 0.8170829          | 0.05545260         | \n",
       "| church             | 0.7512495          | 0.7512495          | 0.05098471         | \n",
       "| tvpol              | 0.7493991          | 0.7493991          | 0.05085914         | \n",
       "| trust_exe          | 0.7223423          | 0.7223423          | 0.04902288         | \n",
       "| political_interest | 0.7104195          | 0.7104195          | 0.04821373         | \n",
       "| married            | 0.6410848          | 0.6410848          | 0.04350822         | \n",
       "| trust_leg          | 0.6237921          | 0.6237921          | 0.04233462         | \n",
       "| tvtot              | 0.6090486          | 0.6090486          | 0.04133403         | \n",
       "| solidarity         | 0.6037391          | 0.6037391          | 0.04097369         | \n",
       "| female             | 0.5928637          | 0.5928637          | 0.04023561         | \n",
       "| children           | 0.5897075          | 0.5897075          | 0.04002142         | \n",
       "| stfdem             | 0.5735353          | 0.5735353          | 0.03892386         | \n",
       "| domicil            | 0.5478558          | 0.5478558          | 0.03718108         | \n",
       "| wkhtot             | 0.5427228          | 0.5427228          | 0.03683273         | \n",
       "| tolerance          | 0.4959922          | 0.4959922          | 0.03366128         | \n",
       "| trstep             | 0.4879771          | 0.4879771          | 0.03311732         | \n",
       "| houseperson        | 0.4250491          | 0.4250491          | 0.02884662         | \n",
       "| self_realisation   | 0.4239941          | 0.4239941          | 0.02877502         | \n",
       "\n",
       "\n"
      ],
      "text/plain": [
       "   variable           relative_importance scaled_importance percentage\n",
       "1  eduyrs             1.0000000           1.0000000         0.06786655\n",
       "2  yrbrn              0.9774464           0.9774464         0.06633592\n",
       "3  round1             0.9719231           0.9719231         0.06596107\n",
       "4  sclmeet            0.8775737           0.8775737         0.05955790\n",
       "5  social_trust       0.8170829           0.8170829         0.05545260\n",
       "6  church             0.7512495           0.7512495         0.05098471\n",
       "7  tvpol              0.7493991           0.7493991         0.05085914\n",
       "8  trust_exe          0.7223423           0.7223423         0.04902288\n",
       "9  political_interest 0.7104195           0.7104195         0.04821373\n",
       "10 married            0.6410848           0.6410848         0.04350822\n",
       "11 trust_leg          0.6237921           0.6237921         0.04233462\n",
       "12 tvtot              0.6090486           0.6090486         0.04133403\n",
       "13 solidarity         0.6037391           0.6037391         0.04097369\n",
       "14 female             0.5928637           0.5928637         0.04023561\n",
       "15 children           0.5897075           0.5897075         0.04002142\n",
       "16 stfdem             0.5735353           0.5735353         0.03892386\n",
       "17 domicil            0.5478558           0.5478558         0.03718108\n",
       "18 wkhtot             0.5427228           0.5427228         0.03683273\n",
       "19 tolerance          0.4959922           0.4959922         0.03366128\n",
       "20 trstep             0.4879771           0.4879771         0.03311732\n",
       "21 houseperson        0.4250491           0.4250491         0.02884662\n",
       "22 self_realisation   0.4239941           0.4239941         0.02877502"
      ]
     },
     "metadata": {},
     "output_type": "display_data"
    }
   ],
   "source": [
    "h2o.varimp(mt3)"
   ]
  },
  {
   "cell_type": "code",
   "execution_count": 33,
   "metadata": {},
   "outputs": [
    {
     "name": "stdout",
     "output_type": "stream",
     "text": [
      "  |======================================================================| 100%\n",
      "Model Details:\n",
      "==============\n",
      "\n",
      "H2OBinomialModel: deeplearning\n",
      "Model Key:  DeepLearning_model_R_1527753908592_365 \n",
      "Status of Neuron Layers: predicting volact, 2-class classification, bernoulli distribution, CrossEntropy loss, 65.102 weights/biases, 776,2 KB, 1.157.574 training samples, mini-batch size 1\n",
      "  layer units      type dropout       l1       l2 mean_rate rate_rms momentum\n",
      "1     1    22     Input  0.00 %                                              \n",
      "2     2   200 Rectifier  0.00 % 0.000000 0.000000  0.004992 0.001929 0.000000\n",
      "3     3   200 Rectifier  0.00 % 0.000000 0.000000  0.005542 0.004359 0.000000\n",
      "4     4   100 Rectifier  0.00 % 0.000000 0.000000  0.037032 0.046162 0.000000\n",
      "5     5     2   Softmax         0.000000 0.000000  0.005273 0.002752 0.000000\n",
      "  mean_weight weight_rms mean_bias bias_rms\n",
      "1                                          \n",
      "2    0.040592   0.249749  0.011312 0.145901\n",
      "3   -0.043690   0.103730  0.805847 0.203119\n",
      "4   -0.005882   0.100125 -0.278733 0.513060\n",
      "5   -0.034293   0.408039  0.084470 0.832530\n",
      "\n",
      "H2OBinomialMetrics: deeplearning\n",
      "** Reported on training data. **\n",
      "** Metrics reported on temporary training frame with 10108 samples **\n",
      "\n",
      "MSE:  0.2467354\n",
      "RMSE:  0.4967246\n",
      "LogLoss:  0.6974706\n",
      "Mean Per-Class Error:  0.3038732\n",
      "AUC:  0.7802905\n",
      "Gini:  0.560581\n",
      "\n",
      "Confusion Matrix (vertical: actual; across: predicted) for F1-optimal threshold:\n",
      "          0    1    Error         Rate\n",
      "0      2506 2511 0.500498   =2511/5017\n",
      "1       546 4545 0.107248    =546/5091\n",
      "Totals 3052 7056 0.302434  =3057/10108\n",
      "\n",
      "Maximum Metrics: Maximum metrics at their respective thresholds\n",
      "                        metric threshold    value idx\n",
      "1                       max f1  0.141994 0.748333 315\n",
      "2                       max f2  0.059975 0.860593 362\n",
      "3                 max f0point5  0.271499 0.709536 245\n",
      "4                 max accuracy  0.220350 0.709438 273\n",
      "5                max precision  0.957331 1.000000   0\n",
      "6                   max recall  0.006663 1.000000 395\n",
      "7              max specificity  0.957331 1.000000   0\n",
      "8             max absolute_mcc  0.149439 0.428473 311\n",
      "9   max min_per_class_accuracy  0.269504 0.705202 246\n",
      "10 max mean_per_class_accuracy  0.220350 0.708855 273\n",
      "\n",
      "Gains/Lift Table: Extract with `h2o.gainsLift(<model>, <data>)` or `h2o.gainsLift(<model>, valid=<T/F>, xval=<T/F>)`\n",
      "H2OBinomialMetrics: deeplearning\n",
      "** Reported on validation data. **\n",
      "** Metrics reported on full validation frame **\n",
      "\n",
      "MSE:  0.2249117\n",
      "RMSE:  0.4742486\n",
      "LogLoss:  0.6897646\n",
      "Mean Per-Class Error:  0.3927145\n",
      "AUC:  0.6767033\n",
      "Gini:  0.3534066\n",
      "\n",
      "Confusion Matrix (vertical: actual; across: predicted) for F1-optimal threshold:\n",
      "          0    1    Error        Rate\n",
      "0      2369 3852 0.619193  =3852/6221\n",
      "1       579 2904 0.166236   =579/3483\n",
      "Totals 2948 6756 0.456616  =4431/9704\n",
      "\n",
      "Maximum Metrics: Maximum metrics at their respective thresholds\n",
      "                        metric threshold    value idx\n",
      "1                       max f1  0.107819 0.567243 321\n",
      "2                       max f2  0.006793 0.738432 394\n",
      "3                 max f0point5  0.345462 0.519408 182\n",
      "4                 max accuracy  0.398566 0.670136 148\n",
      "5                max precision  0.926309 0.750000   3\n",
      "6                   max recall  0.000822 1.000000 399\n",
      "7              max specificity  0.969560 0.999839   0\n",
      "8             max absolute_mcc  0.242378 0.251879 242\n",
      "9   max min_per_class_accuracy  0.245840 0.629917 240\n",
      "10 max mean_per_class_accuracy  0.218833 0.631173 256\n",
      "\n",
      "Gains/Lift Table: Extract with `h2o.gainsLift(<model>, <data>)` or `h2o.gainsLift(<model>, valid=<T/F>, xval=<T/F>)`\n",
      "\n",
      "\n",
      "Scoring History: \n",
      "            timestamp          duration training_speed   epochs iterations\n",
      "1 2018-05-31 12:33:48         0.000 sec                 0.00000          0\n",
      "2 2018-05-31 12:33:56        10.119 sec   5794 obs/sec  0.42204          1\n",
      "3 2018-05-31 12:34:13        26.903 sec   8142 obs/sec  1.68745          4\n",
      "4 2018-05-31 12:34:29        43.081 sec   8815 obs/sec  2.95500          7\n",
      "5 2018-05-31 12:34:45        59.018 sec   9161 obs/sec  4.22064         10\n",
      "6 2018-05-31 12:35:05  1 min 18.849 sec   9561 obs/sec  5.91140         14\n",
      "7 2018-05-31 12:35:24  1 min 37.617 sec   9869 obs/sec  7.60196         18\n",
      "8 2018-05-31 12:35:39  1 min 52.533 sec   9983 obs/sec  8.86626         21\n",
      "9 2018-05-31 12:35:53  2 min  7.380 sec  10087 obs/sec 10.13070         24\n",
      "         samples training_rmse training_logloss training_auc training_lift\n",
      "1       0.000000                                                          \n",
      "2   48224.000000       0.70969          7.10697      0.68282       1.73242\n",
      "3  192815.000000       0.70408          2.58590      0.69978       1.82974\n",
      "4  337650.000000       0.70433          5.26280      0.68040       1.42645\n",
      "5  482267.000000       0.70969          8.65918      0.45704       1.24578\n",
      "6  675460.000000       0.70151          2.44032      0.72052       1.67402\n",
      "7  868630.000000       0.48960          0.68251      0.75260       1.75188\n",
      "8 1013094.000000       0.45557          0.60247      0.77079       1.81028\n",
      "9 1157574.000000       0.49672          0.69747      0.78029       1.79081\n",
      "  training_classification_error validation_rmse validation_logloss\n",
      "1                                                                 \n",
      "2                       0.38524         0.59910            5.07039\n",
      "3                       0.38158         0.59448            1.85842\n",
      "4                       0.39592         0.80045            6.81629\n",
      "5                       0.49634         0.59910            6.21230\n",
      "6                       0.34250         0.59265            1.79305\n",
      "7                       0.31925         0.56012            0.85926\n",
      "8                       0.31124         0.52105            0.75585\n",
      "9                       0.30243         0.47425            0.68976\n",
      "  validation_auc validation_lift validation_classification_error\n",
      "1                                                               \n",
      "2        0.67956         2.10379                         0.43013\n",
      "3        0.68927         2.01850                         0.43436\n",
      "4        0.66316         1.81950                         0.48784\n",
      "5        0.44808         1.22247                         0.64108\n",
      "6        0.68560         2.13222                         0.41983\n",
      "7        0.68116         2.18908                         0.43096\n",
      "8        0.67566         2.01850                         0.43869\n",
      "9        0.67670         1.99007                         0.45662\n",
      "\n",
      "Variable Importances: (Extract with `h2o.varimp`) \n",
      "=================================================\n",
      "\n",
      "Variable Importances: \n",
      "      variable relative_importance scaled_importance percentage\n",
      "1       eduyrs            1.000000          1.000000   0.065642\n",
      "2        yrbrn            0.872927          0.872927   0.057301\n",
      "3      sclmeet            0.868932          0.868932   0.057039\n",
      "4 social_trust            0.834624          0.834624   0.054786\n",
      "5       round1            0.805814          0.805814   0.052895\n",
      "\n",
      "---\n",
      "      variable relative_importance scaled_importance percentage\n",
      "17  solidarity            0.585702          0.585702   0.038447\n",
      "18      wkhtot            0.584021          0.584021   0.038336\n",
      "19      trstep            0.580937          0.580937   0.038134\n",
      "20   tolerance            0.580659          0.580659   0.038116\n",
      "21       tvtot            0.579382          0.579382   0.038032\n",
      "22 houseperson            0.526330          0.526330   0.034549\n"
     ]
    }
   ],
   "source": [
    "#balanced training set\n",
    "mtbal <- h2o.deeplearning(\n",
    "  x = xnames,\n",
    "  y = \"volact\",\n",
    "  training_frame = h2o.train.bal,\n",
    "  validation_frame = h2o.test,\n",
    "  activation = \"Rectifier\",\n",
    "  hidden = c(200, 200, 100),\n",
    "  epochs = 10,\n",
    "  rate = .005,\n",
    "  loss = \"CrossEntropy\",\n",
    "  #input_dropout_ratio = .2,\n",
    "  #hidden_dropout_ratios = c(.5, .3, .1),\n",
    "  export_weights_and_biases = TRUE\n",
    ")\n",
    "summary(mtbal)"
   ]
  },
  {
   "cell_type": "code",
   "execution_count": 34,
   "metadata": {},
   "outputs": [
    {
     "name": "stdout",
     "output_type": "stream",
     "text": [
      "  |======================================================================| 100%\n"
     ]
    },
    {
     "data": {
      "text/html": [
       "0.54338417147568"
      ],
      "text/latex": [
       "0.54338417147568"
      ],
      "text/markdown": [
       "0.54338417147568"
      ],
      "text/plain": [
       "[1] 0.5433842"
      ]
     },
     "metadata": {},
     "output_type": "display_data"
    },
    {
     "data": {
      "text/html": [
       "-0.272179155900086"
      ],
      "text/latex": [
       "-0.272179155900086"
      ],
      "text/markdown": [
       "-0.272179155900086"
      ],
      "text/plain": [
       "[1] -0.2721792"
      ]
     },
     "metadata": {},
     "output_type": "display_data"
    },
    {
     "data": {
      "text/html": [
       "0.566735112936345"
      ],
      "text/latex": [
       "0.566735112936345"
      ],
      "text/markdown": [
       "0.566735112936345"
      ],
      "text/plain": [
       "[1] 0.5667351"
      ]
     },
     "metadata": {},
     "output_type": "display_data"
    }
   ],
   "source": [
    "mtbal_pred <- h2o.predict(mtbal, h2o.test)\n",
    "ACC(table(as.vector(mtbal_pred$predict), as.vector(h2o.test$volact)))\n",
    "PRE(table(as.vector(mtbal_pred$predict), as.vector(h2o.test$volact)))\n",
    "F1(table(as.vector(mtbal_pred$predict), as.vector(h2o.test$volact)))"
   ]
  },
  {
   "cell_type": "code",
   "execution_count": 60,
   "metadata": {},
   "outputs": [
    {
     "data": {
      "text/html": [
       "<table>\n",
       "<thead><tr><th scope=col>variable</th><th scope=col>relative_importance</th><th scope=col>scaled_importance</th><th scope=col>percentage</th></tr></thead>\n",
       "<tbody>\n",
       "\t<tr><td>eduyrs            </td><td>1.0000000         </td><td>1.0000000         </td><td>0.07137106        </td></tr>\n",
       "\t<tr><td>round1            </td><td>0.9554664         </td><td>0.9554664         </td><td>0.06819266        </td></tr>\n",
       "\t<tr><td>yrbrn             </td><td>0.7707927         </td><td>0.7707927         </td><td>0.05501230        </td></tr>\n",
       "\t<tr><td>church            </td><td>0.7557535         </td><td>0.7557535         </td><td>0.05393893        </td></tr>\n",
       "\t<tr><td>social_trust      </td><td>0.7368259         </td><td>0.7368259         </td><td>0.05258805        </td></tr>\n",
       "\t<tr><td>tvpol             </td><td>0.7180524         </td><td>0.7180524         </td><td>0.05124816        </td></tr>\n",
       "\t<tr><td>political_interest</td><td>0.7118363         </td><td>0.7118363         </td><td>0.05080452        </td></tr>\n",
       "\t<tr><td>sclmeet           </td><td>0.7048413         </td><td>0.7048413         </td><td>0.05030527        </td></tr>\n",
       "\t<tr><td>trust_exe         </td><td>0.7023646         </td><td>0.7023646         </td><td>0.05012851        </td></tr>\n",
       "\t<tr><td>stfdem            </td><td>0.6119521         </td><td>0.6119521         </td><td>0.04367567        </td></tr>\n",
       "\t<tr><td>tvtot             </td><td>0.6005091         </td><td>0.6005091         </td><td>0.04285897        </td></tr>\n",
       "\t<tr><td>trust_leg         </td><td>0.5993351         </td><td>0.5993351         </td><td>0.04277519        </td></tr>\n",
       "\t<tr><td>trstep            </td><td>0.5935599         </td><td>0.5935599         </td><td>0.04236300        </td></tr>\n",
       "\t<tr><td>female            </td><td>0.5792335         </td><td>0.5792335         </td><td>0.04134051        </td></tr>\n",
       "\t<tr><td>married           </td><td>0.5532824         </td><td>0.5532824         </td><td>0.03948836        </td></tr>\n",
       "\t<tr><td>domicil           </td><td>0.5515640         </td><td>0.5515640         </td><td>0.03936571        </td></tr>\n",
       "\t<tr><td>children          </td><td>0.5398210         </td><td>0.5398210         </td><td>0.03852760        </td></tr>\n",
       "\t<tr><td>solidarity        </td><td>0.5361080         </td><td>0.5361080         </td><td>0.03826260        </td></tr>\n",
       "\t<tr><td>self_realisation  </td><td>0.5000473         </td><td>0.5000473         </td><td>0.03568890        </td></tr>\n",
       "\t<tr><td>wkhtot            </td><td>0.4431857         </td><td>0.4431857         </td><td>0.03163064        </td></tr>\n",
       "\t<tr><td>tolerance         </td><td>0.4380509         </td><td>0.4380509         </td><td>0.03126416        </td></tr>\n",
       "\t<tr><td>houseperson       </td><td>0.4086986         </td><td>0.4086986         </td><td>0.02916925        </td></tr>\n",
       "</tbody>\n",
       "</table>\n"
      ],
      "text/latex": [
       "\\begin{tabular}{r|llll}\n",
       " variable & relative\\_importance & scaled\\_importance & percentage\\\\\n",
       "\\hline\n",
       "\t eduyrs             & 1.0000000          & 1.0000000          & 0.07137106        \\\\\n",
       "\t round1             & 0.9554664          & 0.9554664          & 0.06819266        \\\\\n",
       "\t yrbrn              & 0.7707927          & 0.7707927          & 0.05501230        \\\\\n",
       "\t church             & 0.7557535          & 0.7557535          & 0.05393893        \\\\\n",
       "\t social\\_trust       & 0.7368259            & 0.7368259            & 0.05258805          \\\\\n",
       "\t tvpol              & 0.7180524          & 0.7180524          & 0.05124816        \\\\\n",
       "\t political\\_interest & 0.7118363            & 0.7118363            & 0.05080452          \\\\\n",
       "\t sclmeet            & 0.7048413          & 0.7048413          & 0.05030527        \\\\\n",
       "\t trust\\_exe          & 0.7023646            & 0.7023646            & 0.05012851          \\\\\n",
       "\t stfdem             & 0.6119521          & 0.6119521          & 0.04367567        \\\\\n",
       "\t tvtot              & 0.6005091          & 0.6005091          & 0.04285897        \\\\\n",
       "\t trust\\_leg          & 0.5993351            & 0.5993351            & 0.04277519          \\\\\n",
       "\t trstep             & 0.5935599          & 0.5935599          & 0.04236300        \\\\\n",
       "\t female             & 0.5792335          & 0.5792335          & 0.04134051        \\\\\n",
       "\t married            & 0.5532824          & 0.5532824          & 0.03948836        \\\\\n",
       "\t domicil            & 0.5515640          & 0.5515640          & 0.03936571        \\\\\n",
       "\t children           & 0.5398210          & 0.5398210          & 0.03852760        \\\\\n",
       "\t solidarity         & 0.5361080          & 0.5361080          & 0.03826260        \\\\\n",
       "\t self\\_realisation   & 0.5000473            & 0.5000473            & 0.03568890          \\\\\n",
       "\t wkhtot             & 0.4431857          & 0.4431857          & 0.03163064        \\\\\n",
       "\t tolerance          & 0.4380509          & 0.4380509          & 0.03126416        \\\\\n",
       "\t houseperson        & 0.4086986          & 0.4086986          & 0.02916925        \\\\\n",
       "\\end{tabular}\n"
      ],
      "text/markdown": [
       "\n",
       "variable | relative_importance | scaled_importance | percentage | \n",
       "|---|---|---|---|---|---|---|---|---|---|---|---|---|---|---|---|---|---|---|---|---|---|\n",
       "| eduyrs             | 1.0000000          | 1.0000000          | 0.07137106         | \n",
       "| round1             | 0.9554664          | 0.9554664          | 0.06819266         | \n",
       "| yrbrn              | 0.7707927          | 0.7707927          | 0.05501230         | \n",
       "| church             | 0.7557535          | 0.7557535          | 0.05393893         | \n",
       "| social_trust       | 0.7368259          | 0.7368259          | 0.05258805         | \n",
       "| tvpol              | 0.7180524          | 0.7180524          | 0.05124816         | \n",
       "| political_interest | 0.7118363          | 0.7118363          | 0.05080452         | \n",
       "| sclmeet            | 0.7048413          | 0.7048413          | 0.05030527         | \n",
       "| trust_exe          | 0.7023646          | 0.7023646          | 0.05012851         | \n",
       "| stfdem             | 0.6119521          | 0.6119521          | 0.04367567         | \n",
       "| tvtot              | 0.6005091          | 0.6005091          | 0.04285897         | \n",
       "| trust_leg          | 0.5993351          | 0.5993351          | 0.04277519         | \n",
       "| trstep             | 0.5935599          | 0.5935599          | 0.04236300         | \n",
       "| female             | 0.5792335          | 0.5792335          | 0.04134051         | \n",
       "| married            | 0.5532824          | 0.5532824          | 0.03948836         | \n",
       "| domicil            | 0.5515640          | 0.5515640          | 0.03936571         | \n",
       "| children           | 0.5398210          | 0.5398210          | 0.03852760         | \n",
       "| solidarity         | 0.5361080          | 0.5361080          | 0.03826260         | \n",
       "| self_realisation   | 0.5000473          | 0.5000473          | 0.03568890         | \n",
       "| wkhtot             | 0.4431857          | 0.4431857          | 0.03163064         | \n",
       "| tolerance          | 0.4380509          | 0.4380509          | 0.03126416         | \n",
       "| houseperson        | 0.4086986          | 0.4086986          | 0.02916925         | \n",
       "\n",
       "\n"
      ],
      "text/plain": [
       "   variable           relative_importance scaled_importance percentage\n",
       "1  eduyrs             1.0000000           1.0000000         0.07137106\n",
       "2  round1             0.9554664           0.9554664         0.06819266\n",
       "3  yrbrn              0.7707927           0.7707927         0.05501230\n",
       "4  church             0.7557535           0.7557535         0.05393893\n",
       "5  social_trust       0.7368259           0.7368259         0.05258805\n",
       "6  tvpol              0.7180524           0.7180524         0.05124816\n",
       "7  political_interest 0.7118363           0.7118363         0.05080452\n",
       "8  sclmeet            0.7048413           0.7048413         0.05030527\n",
       "9  trust_exe          0.7023646           0.7023646         0.05012851\n",
       "10 stfdem             0.6119521           0.6119521         0.04367567\n",
       "11 tvtot              0.6005091           0.6005091         0.04285897\n",
       "12 trust_leg          0.5993351           0.5993351         0.04277519\n",
       "13 trstep             0.5935599           0.5935599         0.04236300\n",
       "14 female             0.5792335           0.5792335         0.04134051\n",
       "15 married            0.5532824           0.5532824         0.03948836\n",
       "16 domicil            0.5515640           0.5515640         0.03936571\n",
       "17 children           0.5398210           0.5398210         0.03852760\n",
       "18 solidarity         0.5361080           0.5361080         0.03826260\n",
       "19 self_realisation   0.5000473           0.5000473         0.03568890\n",
       "20 wkhtot             0.4431857           0.4431857         0.03163064\n",
       "21 tolerance          0.4380509           0.4380509         0.03126416\n",
       "22 houseperson        0.4086986           0.4086986         0.02916925"
      ]
     },
     "metadata": {},
     "output_type": "display_data"
    }
   ],
   "source": [
    "h2o.varimp(mtbal)"
   ]
  },
  {
   "cell_type": "markdown",
   "metadata": {},
   "source": [
    "## plotting and stuff"
   ]
  },
  {
   "cell_type": "code",
   "execution_count": 38,
   "metadata": {},
   "outputs": [
    {
     "data": {
      "text/html": [
       "<strong>png:</strong> 2"
      ],
      "text/latex": [
       "\\textbf{png:} 2"
      ],
      "text/markdown": [
       "**png:** 2"
      ],
      "text/plain": [
       "png \n",
       "  2 "
      ]
     },
     "metadata": {},
     "output_type": "display_data"
    },
    {
     "data": {
      "image/png": "[encoded data removed]",
      "text/plain": [
       "plot without title"
      ]
     },
     "metadata": {},
     "output_type": "display_data"
    }
   ],
   "source": [
    "## weights for mapping from inputs to hidden layer 1 neurons\n",
    "w1 <- as.matrix(h2o.weights(mtbal, 1))\n",
    "\n",
    "## plot heatmap of the weights\n",
    "tmp <- as.data.frame(t(w1))\n",
    "tmp$Row <- 1:nrow(tmp)\n",
    "tmp <- melt(tmp, id.vars = c(\"Row\"))\n",
    "\n",
    "p.heat <- ggplot(tmp,\n",
    "       aes(variable, Row, fill = value)) +\n",
    "  geom_tile() +\n",
    "  scale_fill_gradientn(colours = c(\"black\", \"white\", \"blue\")) +\n",
    "  theme_classic() +\n",
    "  theme(axis.text = element_blank()) +\n",
    "  xlab(\"Hidden Neuron\") +\n",
    "  ylab(\"Input Variable\") +\n",
    "  ggtitle(\"Heatmap of Weights for Layer 1\")\n",
    "print(p.heat)\n",
    "\n",
    "png(\"heatmap_layer1.png\",\n",
    "    width = 5.5, height = 7.5, units = \"in\", res = 600)\n",
    "print(p.heat)\n",
    "dev.off()"
   ]
  },
  {
   "cell_type": "markdown",
   "metadata": {},
   "source": [
    "## RANDOM FOREST"
   ]
  },
  {
   "cell_type": "code",
   "execution_count": 82,
   "metadata": {},
   "outputs": [
    {
     "name": "stdout",
     "output_type": "stream",
     "text": [
      "  |======================================================================| 100%\n",
      "Model Details:\n",
      "==============\n",
      "\n",
      "H2OBinomialModel: drf\n",
      "Model Key:  forest2 \n",
      "Model Summary: \n",
      "  number_of_trees number_of_internal_trees model_size_in_bytes min_depth\n",
      "1             400                      400            88854137        30\n",
      "  max_depth mean_depth min_leaves max_leaves mean_leaves\n",
      "1        30   30.00000      17362      17955 17694.77000\n",
      "\n",
      "H2OBinomialMetrics: drf\n",
      "** Reported on training data. **\n",
      "** Metrics reported on Out-Of-Bag training samples **\n",
      "\n",
      "MSE:  0.2018624\n",
      "RMSE:  0.449291\n",
      "LogLoss:  0.5890251\n",
      "Mean Per-Class Error:  0.3630926\n",
      "AUC:  0.6968135\n",
      "Gini:  0.3936271\n",
      "\n",
      "Confusion Matrix (vertical: actual; across: predicted) for F1-optimal threshold:\n",
      "           0     1    Error          Rate\n",
      "0      29048 28137 0.492035  =28137/57185\n",
      "1       7058 23085 0.234151   =7058/30143\n",
      "Totals 36106 51222 0.403021  =35195/87328\n",
      "\n",
      "Maximum Metrics: Maximum metrics at their respective thresholds\n",
      "                        metric threshold    value idx\n",
      "1                       max f1  0.310361 0.567443 244\n",
      "2                       max f2  0.173625 0.732855 335\n",
      "3                 max f0point5  0.416304 0.523857 174\n",
      "4                 max accuracy  0.491262 0.687179 127\n",
      "5                max precision  0.885550 1.000000   0\n",
      "6                   max recall  0.021040 1.000000 398\n",
      "7              max specificity  0.885550 1.000000   0\n",
      "8             max absolute_mcc  0.386625 0.276972 193\n",
      "9   max min_per_class_accuracy  0.362091 0.643234 211\n",
      "10 max mean_per_class_accuracy  0.357833 0.644492 214\n",
      "\n",
      "Gains/Lift Table: Extract with `h2o.gainsLift(<model>, <data>)` or `h2o.gainsLift(<model>, valid=<T/F>, xval=<T/F>)`\n",
      "H2OBinomialMetrics: drf\n",
      "** Reported on validation data. **\n",
      "\n",
      "MSE:  0.2040188\n",
      "RMSE:  0.4516844\n",
      "LogLoss:  0.5936523\n",
      "Mean Per-Class Error:  0.3670008\n",
      "AUC:  0.7023226\n",
      "Gini:  0.4046452\n",
      "\n",
      "Confusion Matrix (vertical: actual; across: predicted) for F1-optimal threshold:\n",
      "          0    1    Error        Rate\n",
      "0      2680 3541 0.569201  =3541/6221\n",
      "1       574 2909 0.164800   =574/3483\n",
      "Totals 3254 6450 0.424052  =4115/9704\n",
      "\n",
      "Maximum Metrics: Maximum metrics at their respective thresholds\n",
      "                        metric threshold    value idx\n",
      "1                       max f1  0.281044 0.585724 270\n",
      "2                       max f2  0.196677 0.746586 331\n",
      "3                 max f0point5  0.403085 0.535334 177\n",
      "4                 max accuracy  0.486682 0.686521 120\n",
      "5                max precision  0.808905 0.833333   3\n",
      "6                   max recall  0.058872 1.000000 395\n",
      "7              max specificity  0.854773 0.999839   0\n",
      "8             max absolute_mcc  0.371348 0.280079 201\n",
      "9   max min_per_class_accuracy  0.362428 0.642340 208\n",
      "10 max mean_per_class_accuracy  0.347422 0.645130 219\n",
      "\n",
      "Gains/Lift Table: Extract with `h2o.gainsLift(<model>, <data>)` or `h2o.gainsLift(<model>, valid=<T/F>, xval=<T/F>)`\n",
      "\n",
      "\n",
      "Scoring History: \n",
      "             timestamp          duration number_of_trees training_rmse\n",
      "1  2018-05-31 16:57:26         0.193 sec               0              \n",
      "2  2018-05-31 16:57:29         3.526 sec               1       0.63668\n",
      "3  2018-05-31 16:57:35        10.004 sec               6       0.55801\n",
      "4  2018-05-31 16:57:40        14.630 sec              11       0.51196\n",
      "5  2018-05-31 16:57:45        19.158 sec              17       0.48751\n",
      "6  2018-05-31 16:57:49        23.207 sec              24       0.47546\n",
      "7  2018-05-31 16:57:53        27.699 sec              30       0.46928\n",
      "8  2018-05-31 16:57:58        32.685 sec              38       0.46424\n",
      "9  2018-05-31 16:58:04        38.872 sec              47       0.46107\n",
      "10 2018-05-31 16:58:13        47.348 sec              58       0.45856\n",
      "11 2018-05-31 16:58:23        57.158 sec              71       0.45645\n",
      "12 2018-05-31 16:58:35  1 min  9.577 sec              90       0.45449\n",
      "13 2018-05-31 16:58:53  1 min 27.100 sec             117       0.45304\n",
      "14 2018-05-31 16:59:17  1 min 51.237 sec             156       0.45172\n",
      "15 2018-05-31 16:59:54  2 min 28.910 sec             217       0.45054\n",
      "16 2018-05-31 17:00:54  3 min 28.662 sec             313       0.44967\n",
      "17 2018-05-31 17:01:55  4 min 29.228 sec             400       0.44929\n",
      "   training_logloss training_auc training_lift training_classification_error\n",
      "1                                                                           \n",
      "2          13.92970      0.55654       1.20357                       0.65391\n",
      "3           7.31875      0.57828       1.28779                       0.65437\n",
      "4           3.66926      0.60410       1.38890                       0.50814\n",
      "5           1.87775      0.62305       1.52821                       0.51315\n",
      "6           1.13999      0.63578       1.80582                       0.49727\n",
      "7           0.88242      0.64480       1.82859                       0.49895\n",
      "8           0.74389      0.65438       1.94213                       0.47795\n",
      "9           0.68080      0.66110       1.95604                       0.47693\n",
      "10          0.64091      0.66693       2.00147                       0.44264\n",
      "11          0.61816      0.67248       2.06275                       0.43957\n",
      "12          0.60554      0.67855       2.04903                       0.43814\n",
      "13          0.60073      0.68327       2.09163                       0.44205\n",
      "14          0.59588      0.68771       2.13072                       0.43031\n",
      "15          0.59199      0.69198       2.15461                       0.41719\n",
      "16          0.58977      0.69532       2.20102                       0.40935\n",
      "17          0.58903      0.69681       2.15631                       0.40302\n",
      "   validation_rmse validation_logloss validation_auc validation_lift\n",
      "1                                                                   \n",
      "2          0.64272           14.20689        0.54767         1.17262\n",
      "3          0.48947            1.60581        0.61763         1.66041\n",
      "4          0.47221            0.83927        0.64372         1.84502\n",
      "5          0.46515            0.67604        0.65743         2.10379\n",
      "6          0.46063            0.62379        0.66925         2.07536\n",
      "7          0.45829            0.61531        0.67726         2.18908\n",
      "8          0.45723            0.60628        0.67982         2.10603\n",
      "9          0.45580            0.60338        0.68499         2.10379\n",
      "10         0.45459            0.60055        0.68936         2.11538\n",
      "11         0.45396            0.59890        0.69196         2.12040\n",
      "12         0.45366            0.59810        0.69366         2.04693\n",
      "13         0.45360            0.59809        0.69431         1.99007\n",
      "14         0.45306            0.59674        0.69670         1.99007\n",
      "15         0.45249            0.59540        0.69894         1.99007\n",
      "16         0.45194            0.59421        0.70112         2.10379\n",
      "17         0.45168            0.59365        0.70232         2.01850\n",
      "   validation_classification_error\n",
      "1                                 \n",
      "2                          0.64108\n",
      "3                          0.56853\n",
      "4                          0.47867\n",
      "5                          0.49969\n",
      "6                          0.44724\n",
      "7                          0.43240\n",
      "8                          0.46558\n",
      "9                          0.43003\n",
      "10                         0.42797\n",
      "11                         0.40859\n",
      "12                         0.41406\n",
      "13                         0.41447\n",
      "14                         0.41921\n",
      "15                         0.41282\n",
      "16                         0.40684\n",
      "17                         0.42405\n",
      "\n",
      "Variable Importances: (Extract with `h2o.varimp`) \n",
      "=================================================\n",
      "\n",
      "Variable Importances: \n",
      "      variable relative_importance scaled_importance percentage\n",
      "1        yrbrn       418924.625000          1.000000   0.083222\n",
      "2 social_trust       407513.843750          0.972762   0.080955\n",
      "3       eduyrs       387813.218750          0.925735   0.077042\n",
      "4    trust_exe       357274.468750          0.852837   0.070975\n",
      "5    trust_leg       344703.406250          0.822829   0.068478\n",
      "\n",
      "---\n",
      "             variable relative_importance scaled_importance percentage\n",
      "17 political_interest       166074.687500          0.396431   0.032992\n",
      "18             female        84818.453125          0.202467   0.016850\n",
      "19             round1        80491.187500          0.192138   0.015990\n",
      "20            married        78069.343750          0.186357   0.015509\n",
      "21           children        76684.570312          0.183051   0.015234\n",
      "22        houseperson        24138.466797          0.057620   0.004795\n"
     ]
    }
   ],
   "source": [
    "rf2 <- h2o.randomForest(        \n",
    "  training_frame = h2o.train,        \n",
    "  validation_frame = h2o.test,      \n",
    "  x = xnames,                        \n",
    "  y = \"volact\",                          \n",
    "  model_id = \"forest2\",    \n",
    "  ntrees = 400,            \n",
    "  max_depth = 30,\n",
    "  stopping_rounds = 0,           \n",
    "  score_each_iteration = F,     \n",
    "  seed = 1000000) \n",
    "summary(rf2)"
   ]
  },
  {
   "cell_type": "code",
   "execution_count": 55,
   "metadata": {},
   "outputs": [
    {
     "name": "stdout",
     "output_type": "stream",
     "text": [
      "  |======================================================================| 100%\n"
     ]
    },
    {
     "data": {
      "text/html": [
       "0.578318219291014"
      ],
      "text/latex": [
       "0.578318219291014"
      ],
      "text/markdown": [
       "0.578318219291014"
      ],
      "text/plain": [
       "[1] 0.5783182"
      ]
     },
     "metadata": {},
     "output_type": "display_data"
    },
    {
     "data": {
      "text/html": [
       "-0.174849267872524"
      ],
      "text/latex": [
       "-0.174849267872524"
      ],
      "text/markdown": [
       "-0.174849267872524"
      ],
      "text/plain": [
       "[1] -0.1748493"
      ]
     },
     "metadata": {},
     "output_type": "display_data"
    },
    {
     "data": {
      "text/html": [
       "0.585158150851582"
      ],
      "text/latex": [
       "0.585158150851582"
      ],
      "text/markdown": [
       "0.585158150851582"
      ],
      "text/plain": [
       "[1] 0.5851582"
      ]
     },
     "metadata": {},
     "output_type": "display_data"
    }
   ],
   "source": [
    "rf2_pred <- h2o.predict(rf2, h2o.test)\n",
    "ACC(table(as.vector(rf2_pred$predict), as.vector(h2o.test$volact)))\n",
    "PRE(table(as.vector(rf2_pred$predict), as.vector(h2o.test$volact)))\n",
    "F1(table(as.vector(rf2_pred$predict), as.vector(h2o.test$volact)))"
   ]
  },
  {
   "cell_type": "code",
   "execution_count": 13,
   "metadata": {},
   "outputs": [
    {
     "name": "stdout",
     "output_type": "stream",
     "text": [
      "  |======================================================================| 100%\n",
      "Model Details:\n",
      "==============\n",
      "\n",
      "H2OBinomialModel: drf\n",
      "Model Key:  forestbal \n",
      "Model Summary: \n",
      "  number_of_trees number_of_internal_trees model_size_in_bytes min_depth\n",
      "1             400                      400            97219005        30\n",
      "  max_depth mean_depth min_leaves max_leaves mean_leaves\n",
      "1        30   30.00000      18989      19677 19364.53500\n",
      "\n",
      "H2OBinomialMetrics: drf\n",
      "** Reported on training data. **\n",
      "** Metrics reported on Out-Of-Bag training samples **\n",
      "\n",
      "MSE:  0.09830158\n",
      "RMSE:  0.3135308\n",
      "LogLoss:  0.3311802\n",
      "Mean Per-Class Error:  0.08044977\n",
      "AUC:  0.9533665\n",
      "Gini:  0.9067329\n",
      "\n",
      "Confusion Matrix (vertical: actual; across: predicted) for F1-optimal threshold:\n",
      "           0     1    Error          Rate\n",
      "0      56098  1087 0.019008   =1087/57185\n",
      "1       8099 48980 0.141891   =8099/57079\n",
      "Totals 64197 50067 0.080393  =9186/114264\n",
      "\n",
      "Maximum Metrics: Maximum metrics at their respective thresholds\n",
      "                        metric threshold    value idx\n",
      "1                       max f1  0.644820 0.914267 155\n",
      "2                       max f2  0.452047 0.896443 225\n",
      "3                 max f0point5  0.682220 0.955403 143\n",
      "4                 max accuracy  0.644820 0.919607 155\n",
      "5                max precision  0.999922 1.000000   0\n",
      "6                   max recall  0.043650 1.000000 396\n",
      "7              max specificity  0.999922 1.000000   0\n",
      "8             max absolute_mcc  0.656706 0.846196 151\n",
      "9   max min_per_class_accuracy  0.515047 0.892070 199\n",
      "10 max mean_per_class_accuracy  0.644820 0.919550 155\n",
      "\n",
      "Gains/Lift Table: Extract with `h2o.gainsLift(<model>, <data>)` or `h2o.gainsLift(<model>, valid=<T/F>, xval=<T/F>)`\n",
      "H2OBinomialMetrics: drf\n",
      "** Reported on validation data. **\n",
      "\n",
      "MSE:  0.2039317\n",
      "RMSE:  0.4515879\n",
      "LogLoss:  0.5935544\n",
      "Mean Per-Class Error:  0.3658193\n",
      "AUC:  0.7023405\n",
      "Gini:  0.404681\n",
      "\n",
      "Confusion Matrix (vertical: actual; across: predicted) for F1-optimal threshold:\n",
      "          0    1    Error        Rate\n",
      "0      2759 3462 0.556502  =3462/6221\n",
      "1       610 2873 0.175136   =610/3483\n",
      "Totals 3369 6335 0.419621  =4072/9704\n",
      "\n",
      "Maximum Metrics: Maximum metrics at their respective thresholds\n",
      "                        metric threshold    value idx\n",
      "1                       max f1  0.297605 0.585252 266\n",
      "2                       max f2  0.204977 0.747124 330\n",
      "3                 max f0point5  0.450966 0.542741 152\n",
      "4                 max accuracy  0.474795 0.684563 135\n",
      "5                max precision  0.876521 1.000000   0\n",
      "6                   max recall  0.067713 1.000000 393\n",
      "7              max specificity  0.876521 1.000000   0\n",
      "8             max absolute_mcc  0.450966 0.278696 152\n",
      "9   max min_per_class_accuracy  0.371139 0.639966 210\n",
      "10 max mean_per_class_accuracy  0.358533 0.644849 220\n",
      "\n",
      "Gains/Lift Table: Extract with `h2o.gainsLift(<model>, <data>)` or `h2o.gainsLift(<model>, valid=<T/F>, xval=<T/F>)`\n",
      "\n",
      "\n",
      "Scoring History: \n",
      "            timestamp   duration number_of_trees training_rmse training_logloss\n",
      "1 2018-05-31 14:01:09  0.053 sec               0                               \n",
      "2 2018-05-31 14:01:11  1.885 sec               1       0.50078          8.55309\n",
      "3 2018-05-31 14:01:12  2.837 sec               2       0.48272          7.36673\n",
      "4 2018-05-31 14:01:13  3.535 sec               3       0.46622          6.33399\n",
      "5 2018-05-31 14:01:13  4.206 sec               4       0.45169          5.45511\n",
      "  training_auc training_lift training_classification_error validation_rmse\n",
      "1                                                                         \n",
      "2      0.74838       1.43275                       0.25216         0.64344\n",
      "3      0.76760       1.48022                       0.24116         0.55532\n",
      "4      0.78542       1.52369                       0.23196         0.52366\n",
      "5      0.80072       1.57016                       0.22419         0.50441\n",
      "  validation_logloss validation_auc validation_lift\n",
      "1                                                  \n",
      "2           14.15371        0.55070         1.17040\n",
      "3            7.20633        0.57858         1.38195\n",
      "4            4.26296        0.59314         1.49654\n",
      "5            2.70377        0.60865         1.61214\n",
      "  validation_classification_error\n",
      "1                                \n",
      "2                         0.64108\n",
      "3                         0.64108\n",
      "4                         0.64108\n",
      "5                         0.53153\n",
      "\n",
      "---\n",
      "             timestamp          duration number_of_trees training_rmse\n",
      "16 2018-05-31 14:02:50  1 min 40.960 sec             134       0.31689\n",
      "17 2018-05-31 14:03:19  2 min  9.912 sec             170       0.31590\n",
      "18 2018-05-31 14:03:53  2 min 43.664 sec             215       0.31500\n",
      "19 2018-05-31 14:04:50  3 min 41.031 sec             287       0.31411\n",
      "20 2018-05-31 14:06:13  5 min  4.262 sec             397       0.31354\n",
      "21 2018-05-31 14:06:28  5 min 19.375 sec             400       0.31353\n",
      "   training_logloss training_auc training_lift training_classification_error\n",
      "16          0.33475      0.95070       2.00186                       0.08760\n",
      "17          0.33353      0.95156       2.00186                       0.08523\n",
      "18          0.33260      0.95219       2.00186                       0.08312\n",
      "19          0.33164      0.95292       2.00186                       0.08199\n",
      "20          0.33118      0.95334       2.00186                       0.08038\n",
      "21          0.33118      0.95337       2.00186                       0.08039\n",
      "   validation_rmse validation_logloss validation_auc validation_lift\n",
      "16         0.45260            0.59573        0.69741         2.13883\n",
      "17         0.45224            0.59509        0.69930         2.10379\n",
      "18         0.45210            0.59468        0.70009         1.99007\n",
      "19         0.45195            0.59432        0.70085         2.01850\n",
      "20         0.45157            0.59352        0.70238         2.04693\n",
      "21         0.45159            0.59355        0.70234         2.01850\n",
      "   validation_classification_error\n",
      "16                         0.40808\n",
      "17                         0.41900\n",
      "18                         0.41921\n",
      "19                         0.43281\n",
      "20                         0.42024\n",
      "21                         0.41962\n",
      "\n",
      "Variable Importances: (Extract with `h2o.varimp`) \n",
      "=================================================\n",
      "\n",
      "Variable Importances: \n",
      "      variable relative_importance scaled_importance percentage\n",
      "1        yrbrn       602631.375000          1.000000   0.082588\n",
      "2 social_trust       598686.375000          0.993454   0.082048\n",
      "3       eduyrs       561575.125000          0.931872   0.076962\n",
      "4    trust_exe       518403.968750          0.860234   0.071045\n",
      "5    trust_leg       501221.562500          0.831722   0.068690\n",
      "\n",
      "---\n",
      "             variable relative_importance scaled_importance percentage\n",
      "17 political_interest       249502.750000          0.414022   0.034193\n",
      "18            married       128836.968750          0.213791   0.017657\n",
      "19             female       121112.570312          0.200973   0.016598\n",
      "20             round1       117152.593750          0.194402   0.016055\n",
      "21           children       110519.945312          0.183396   0.015146\n",
      "22        houseperson        33290.671875          0.055242   0.004562\n"
     ]
    }
   ],
   "source": [
    "rfbal <- h2o.randomForest(        \n",
    "  training_frame = h2o.train.bal,        \n",
    "  validation_frame = h2o.test,      \n",
    "  x = xnames,                        \n",
    "  y = \"volact\",                          \n",
    "  model_id = \"forestbal\",    \n",
    "  ntrees = 400,            \n",
    "  max_depth = 30,\n",
    "  stopping_rounds = 0,           \n",
    "  score_each_iteration = F,     \n",
    "  seed = 1000000) \n",
    "summary(rfbal)"
   ]
  },
  {
   "cell_type": "code",
   "execution_count": 14,
   "metadata": {},
   "outputs": [
    {
     "name": "stdout",
     "output_type": "stream",
     "text": [
      "  |======================================================================| 100%\n"
     ]
    },
    {
     "data": {
      "text/html": [
       "0.581203627370157"
      ],
      "text/latex": [
       "0.581203627370157"
      ],
      "text/markdown": [
       "0.581203627370157"
      ],
      "text/plain": [
       "[1] 0.5812036"
      ]
     },
     "metadata": {},
     "output_type": "display_data"
    },
    {
     "data": {
      "text/html": [
       "-0.166810221073787"
      ],
      "text/latex": [
       "-0.166810221073787"
      ],
      "text/markdown": [
       "-0.166810221073787"
      ],
      "text/plain": [
       "[1] -0.1668102"
      ]
     },
     "metadata": {},
     "output_type": "display_data"
    },
    {
     "data": {
      "text/html": [
       "0.58530612244898"
      ],
      "text/latex": [
       "0.58530612244898"
      ],
      "text/markdown": [
       "0.58530612244898"
      ],
      "text/plain": [
       "[1] 0.5853061"
      ]
     },
     "metadata": {},
     "output_type": "display_data"
    }
   ],
   "source": [
    "rfbal_pred <- h2o.predict(rfbal, h2o.test)\n",
    "ACC(table(as.vector(rfbal_pred$predict), as.vector(h2o.test$volact)))\n",
    "PRE(table(as.vector(rfbal_pred$predict), as.vector(h2o.test$volact)))\n",
    "F1(table(as.vector(rfbal_pred$predict), as.vector(h2o.test$volact)))"
   ]
  },
  {
   "cell_type": "code",
   "execution_count": 112,
   "metadata": {},
   "outputs": [
    {
     "name": "stdout",
     "output_type": "stream",
     "text": [
      "  |======================================================================| 100%\n"
     ]
    },
    {
     "data": {
      "text/plain": [
       "    rue\n",
       "pred    0    1\n",
       "   0 2685  582\n",
       "   1 3536 2901"
      ]
     },
     "metadata": {},
     "output_type": "display_data"
    }
   ],
   "source": [
    "rf2_pred <- h2o.predict(rf2, h2o.test)\n",
    "table(\"pred\"=as.vector(rf2_pred$predict), \"rue\"=as.vector(h2o.test$volact))"
   ]
  },
  {
   "cell_type": "markdown",
   "metadata": {},
   "source": [
    "## corrplot"
   ]
  },
  {
   "cell_type": "code",
   "execution_count": 1,
   "metadata": {},
   "outputs": [
    {
     "ename": "ERROR",
     "evalue": "Error in corrplot(res, type = \"upper\", order = \"hclust\", tl.col = \"black\", : konnte Funktion \"corrplot\" nicht finden\n",
     "execution_count": 1,
     "output_type": "error",
     "traceback": [
      "Error in corrplot(res, type = \"upper\", order = \"hclust\", tl.col = \"black\", : konnte Funktion \"corrplot\" nicht finden\nTraceback:\n"
     ]
    }
   ],
   "source": [
    "png(\"corrplot.png\", width = 5.5, height = 5.5, units = \"in\", res = 600)\n",
    "c <- corrplot(res, type = \"upper\", order = \"hclust\", tl.col = \"black\", tl.srt = 45)\n",
    "dev.off()\n",
    "#print(c)"
   ]
  },
  {
   "cell_type": "markdown",
   "metadata": {},
   "source": [
    "## marginal effects"
   ]
  },
  {
   "cell_type": "code",
   "execution_count": 65,
   "metadata": {},
   "outputs": [],
   "source": [
    "range <- seq(-4, 2, length.out = 20)\n",
    "sel <- 7\n",
    "plot.data <- matrix(NA, nrow = length(range), ncol = ncol(test[,-1]))\n",
    "for(i in 2:ncol(test)){\n",
    "    plot.data[,i-1] <- mean(test[,i])\n",
    "}\n",
    "for(i in 1:length(range)){\n",
    "    plot.data[i, sel] <- range[i]\n",
    "}\n",
    "colnames(plot.data) <- xnames"
   ]
  },
  {
   "cell_type": "code",
   "execution_count": 66,
   "metadata": {},
   "outputs": [
    {
     "name": "stdout",
     "output_type": "stream",
     "text": [
      "  |======================================================================| 100%\n"
     ]
    }
   ],
   "source": [
    "h2o.plot <- as.h2o(plot.data)"
   ]
  },
  {
   "cell_type": "code",
   "execution_count": 67,
   "metadata": {},
   "outputs": [
    {
     "name": "stdout",
     "output_type": "stream",
     "text": [
      "  |======================================================================| 100%\n"
     ]
    }
   ],
   "source": [
    "mt3_pred <- h2o.predict(mt3, h2o.plot)"
   ]
  },
  {
   "cell_type": "code",
   "execution_count": 88,
   "metadata": {},
   "outputs": [],
   "source": [
    "df_nn <- data.frame(cbind(range, as.vector(mt3_pred$p1)))"
   ]
  },
  {
   "cell_type": "code",
   "execution_count": 101,
   "metadata": {},
   "outputs": [
    {
     "data": {
      "text/html": [
       "<strong>png:</strong> 2"
      ],
      "text/latex": [
       "\\textbf{png:} 2"
      ],
      "text/markdown": [
       "**png:** 2"
      ],
      "text/plain": [
       "png \n",
       "  2 "
      ]
     },
     "metadata": {},
     "output_type": "display_data"
    },
    {
     "data": {
      "image/png": "[encoded data removed]",
      "text/plain": [
       "plot without title"
      ]
     },
     "metadata": {},
     "output_type": "display_data"
    }
   ],
   "source": [
    "png(\"nn-age-volact.png\")\n",
    "myplot <- ggplot(df_nn,aes(x = df_nn[,1], y = df_nn[,2], ymin = 0, ymax = 0)) + \n",
    "    geom_pointrange(col = \"blue\") + \n",
    "    ylab(\"Predicted Probability of Voluntary Action\") + \n",
    "    xlab(\"Year of Birth (Scaled)\") + \n",
    "    ggtitle(\"Neural Net: \\n Predicted Probabilites of Voluntary Action for a range of Year of Births\") + \n",
    "    scale_x_continuous(breaks = range) + \n",
    "    theme_bw() \n",
    "print(myplot)\n",
    "dev.off()\n",
    "print(myplot)"
   ]
  },
  {
   "cell_type": "code",
   "execution_count": 83,
   "metadata": {},
   "outputs": [
    {
     "name": "stdout",
     "output_type": "stream",
     "text": [
      "  |======================================================================| 100%\n"
     ]
    }
   ],
   "source": [
    "rf2_pred <- h2o.predict(rf2, h2o.plot)"
   ]
  },
  {
   "cell_type": "code",
   "execution_count": 90,
   "metadata": {},
   "outputs": [],
   "source": [
    "df_rf <- data.frame(cbind(range, as.vector(rf2_pred$p1)))"
   ]
  },
  {
   "cell_type": "code",
   "execution_count": 100,
   "metadata": {},
   "outputs": [
    {
     "data": {
      "text/html": [
       "<strong>png:</strong> 2"
      ],
      "text/latex": [
       "\\textbf{png:} 2"
      ],
      "text/markdown": [
       "**png:** 2"
      ],
      "text/plain": [
       "png \n",
       "  2 "
      ]
     },
     "metadata": {},
     "output_type": "display_data"
    },
    {
     "data": {
      "image/png": "[encoded data removed]",
      "text/plain": [
       "plot without title"
      ]
     },
     "metadata": {},
     "output_type": "display_data"
    }
   ],
   "source": [
    "png(\"rf-age-volact.png\")\n",
    "myplot <- ggplot(df_rf,aes(x = df_rf[,1], y = df_rf[,2], ymin = 0, ymax = 0)) + \n",
    "    geom_pointrange(col = \"green\") + \n",
    "    ylab(\"Predicted Probability of Voluntary Action\") + \n",
    "    xlab(\"Year of Birth (Scaled)\") + \n",
    "    ggtitle(\"Random Forest: \\n Predicted Probabilites of Voluntary Action for a range of Year of Births\") + \n",
    "    scale_x_continuous(breaks = range) + \n",
    "    theme_bw() \n",
    "print(myplot)\n",
    "dev.off()\n",
    "print(myplot)"
   ]
  },
  {
   "cell_type": "markdown",
   "metadata": {},
   "source": [
    "# SVM\n",
    "\n",
    "## rest in server"
   ]
  }
 ],
 "metadata": {
  "kernelspec": {
   "display_name": "R",
   "language": "R",
   "name": "ir"
  },
  "language_info": {
   "codemirror_mode": "r",
   "file_extension": ".r",
   "mimetype": "text/x-r-source",
   "name": "R",
   "pygments_lexer": "r",
   "version": "3.4.1"
  }
 },
 "nbformat": 4,
 "nbformat_minor": 2
}
