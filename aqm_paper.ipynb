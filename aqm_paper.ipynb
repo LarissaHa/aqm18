{
 "cells": [
  {
   "cell_type": "markdown",
   "metadata": {},
   "source": [
    "# final paper advanced quantitative methods\n",
    "\n",
    "spring summer semester 2018, deadline June 6th, 2018\n",
    "\n",
    "** Larissa Haas, 1417669 **"
   ]
  },
  {
   "cell_type": "code",
   "execution_count": 1,
   "metadata": {},
   "outputs": [
    {
     "name": "stderr",
     "output_type": "stream",
     "text": [
      "Warning message:\n",
      "\"package 'neuralnet' was built under R version 3.4.4\"Warning message:\n",
      "\"package 'devtools' was built under R version 3.4.3\"\n",
      "Please cite as: \n",
      "\n",
      " Hlavac, Marek (2015). stargazer: Well-Formatted Regression and Summary Statistics Tables.\n",
      " R package version 5.2. http://CRAN.R-project.org/package=stargazer \n",
      "\n",
      "Loading required package: bitops\n",
      "Warning message:\n",
      "\"package 'caret' was built under R version 3.4.4\"Loading required package: lattice\n",
      "Loading required package: ggplot2\n",
      "Warning message:\n",
      "\"package 'ggplot2' was built under R version 3.4.4\"Warning message:\n",
      "\"package 'e1071' was built under R version 3.4.3\"Warning message:\n",
      "\"package 'h2o' was built under R version 3.4.4\"\n",
      "----------------------------------------------------------------------\n",
      "\n",
      "Your next step is to start H2O:\n",
      "    > h2o.init()\n",
      "\n",
      "For H2O package documentation, ask for help:\n",
      "    > ??h2o\n",
      "\n",
      "After starting H2O, you can use the Web UI at http://localhost:54321\n",
      "For more information visit http://docs.h2o.ai\n",
      "\n",
      "----------------------------------------------------------------------\n",
      "\n",
      "\n",
      "Attaching package: 'h2o'\n",
      "\n",
      "The following objects are masked from 'package:stats':\n",
      "\n",
      "    cor, sd, var\n",
      "\n",
      "The following objects are masked from 'package:base':\n",
      "\n",
      "    %*%, %in%, &&, ||, apply, as.factor, as.numeric, colnames,\n",
      "    colnames<-, ifelse, is.character, is.factor, is.numeric, log,\n",
      "    log10, log1p, log2, round, signif, trunc\n",
      "\n",
      "Warning message:\n",
      "\"package 'statmod' was built under R version 3.4.4\"Warning message:\n",
      "\"package 'corrplot' was built under R version 3.4.4\"corrplot 0.84 loaded\n",
      "\n",
      "Attaching package: 'data.table'\n",
      "\n",
      "The following objects are masked from 'package:h2o':\n",
      "\n",
      "    hour, month, week, year\n",
      "\n",
      "Warning message:\n",
      "\"package 'ROSE' was built under R version 3.4.4\"Loaded ROSE 0.0-3\n",
      "\n"
     ]
    }
   ],
   "source": [
    "library(neuralnet)\n",
    "#library(rms)\n",
    "library(devtools)\n",
    "library(stargazer)\n",
    "library(RCurl)\n",
    "library(jsonlite)\n",
    "library(caret)\n",
    "library(ggplot2)\n",
    "library(e1071)\n",
    "library(h2o)\n",
    "library(statmod)\n",
    "library(MASS)\n",
    "library(corrplot)\n",
    "library(data.table)\n",
    "library(ROSE)\n",
    "library(ggpubr)"
   ]
  },
  {
   "cell_type": "code",
   "execution_count": 2,
   "metadata": {},
   "outputs": [],
   "source": [
    "PRE <- function(table){\n",
    "    tp <- table[2,2]\n",
    "    tn <- table[1,1]\n",
    "    fp <- table[2,1]\n",
    "    fn <- table[1,2]\n",
    "    PCP <- (tp + tn)/(tp + tn + fp + fn)\n",
    "    PMC <- max(tp + fn, tn + fp)/(tp + tn + fp + fn)\n",
    "    result <- (PCP - PMC)/(1 - PMC)\n",
    "    return(result)\n",
    "}"
   ]
  },
  {
   "cell_type": "code",
   "execution_count": 3,
   "metadata": {},
   "outputs": [],
   "source": [
    "F1 <- function(table){\n",
    "    tp <- table[2,2]\n",
    "    tn <- table[1,1]\n",
    "    fp <- table[2,1]\n",
    "    fn <- table[1,2]\n",
    "    precision <- tp / (tp + fp)\n",
    "    recall <- tp / (tp + fn)\n",
    "    result <- (2 * precision * recall) / (precision + recall)\n",
    "    return(result)\n",
    "}"
   ]
  },
  {
   "cell_type": "code",
   "execution_count": 4,
   "metadata": {},
   "outputs": [],
   "source": [
    "ACC <- function(table){\n",
    "    tp <- table[2,2]\n",
    "    tn <- table[1,1]\n",
    "    fp <- table[2,1]\n",
    "    fn <- table[1,2]\n",
    "    acc <- (tn + tp) / (tn + tp + fn + fp)\n",
    "    return(acc)\n",
    "}"
   ]
  },
  {
   "cell_type": "code",
   "execution_count": 8,
   "metadata": {},
   "outputs": [],
   "source": [
    "ess1 <- read.table(\"C:/Users/laris/Desktop/MMDS/Semester3-FSS2018/Advanced-Quantitative-Methods/paper/ess1_with-vars-nolabel.csv\", header=TRUE, sep=\",\") "
   ]
  },
  {
   "cell_type": "code",
   "execution_count": 9,
   "metadata": {},
   "outputs": [],
   "source": [
    "ess6 <- read.table(\"C:/Users/laris/Desktop/MMDS/Semester3-FSS2018/Advanced-Quantitative-Methods/paper/ess6_with-vars-nolabel.csv\", header=TRUE, sep=\",\") "
   ]
  },
  {
   "cell_type": "code",
   "execution_count": 10,
   "metadata": {},
   "outputs": [],
   "source": [
    "ess1$round1 = 1\n",
    "ess6$round1 = 0"
   ]
  },
  {
   "cell_type": "code",
   "execution_count": 11,
   "metadata": {},
   "outputs": [],
   "source": [
    "data <- rbind(ess1, ess6)"
   ]
  },
  {
   "cell_type": "code",
   "execution_count": 12,
   "metadata": {},
   "outputs": [
    {
     "data": {
      "text/html": [
       "<ol class=list-inline>\n",
       "\t<li>97032</li>\n",
       "\t<li>25</li>\n",
       "</ol>\n"
      ],
      "text/latex": [
       "\\begin{enumerate*}\n",
       "\\item 97032\n",
       "\\item 25\n",
       "\\end{enumerate*}\n"
      ],
      "text/markdown": [
       "1. 97032\n",
       "2. 25\n",
       "\n",
       "\n"
      ],
      "text/plain": [
       "[1] 97032    25"
      ]
     },
     "metadata": {},
     "output_type": "display_data"
    }
   ],
   "source": [
    "dim(data)"
   ]
  },
  {
   "cell_type": "code",
   "execution_count": 26,
   "metadata": {},
   "outputs": [],
   "source": [
    "data.complete <- data"
   ]
  },
  {
   "cell_type": "code",
   "execution_count": 27,
   "metadata": {},
   "outputs": [],
   "source": [
    "for(i in c(4,5,6,10,11,12,13,14,15,16,17,18,19,20,21,22,23)){\n",
    "    data.complete[is.na(data.complete[,i]), i] <- mean(data.complete[,i], na.rm = TRUE)\n",
    "}"
   ]
  },
  {
   "cell_type": "code",
   "execution_count": 28,
   "metadata": {},
   "outputs": [],
   "source": [
    "data.complete[is.na(data.complete[,3]), 3] <- 1\n",
    "data.complete[is.na(data.complete[,7]), 7] <- 1\n",
    "data.complete[is.na(data.complete[,8]), 8] <- 0\n",
    "data.complete[is.na(data.complete[,9]), 9] <- 0"
   ]
  },
  {
   "cell_type": "code",
   "execution_count": 41,
   "metadata": {},
   "outputs": [],
   "source": [
    "data.scaled <- cbind(data.complete[c(1, 3, 7, 8, 9, 25)], scale(data.complete[-c(1, 2, 3, 7, 8, 9, 24, 25)]))"
   ]
  },
  {
   "cell_type": "code",
   "execution_count": 42,
   "metadata": {},
   "outputs": [
    {
     "data": {
      "text/html": [
       "<table>\n",
       "<thead><tr><th scope=col>volact</th><th scope=col>female</th><th scope=col>married</th><th scope=col>children</th><th scope=col>houseperson</th><th scope=col>round1</th><th scope=col>yrbrn</th><th scope=col>eduyrs</th><th scope=col>domicil</th><th scope=col>wkhtot</th><th scope=col>...</th><th scope=col>tolerance</th><th scope=col>self_realisation</th><th scope=col>solidarity</th><th scope=col>tvpol</th><th scope=col>tvtot</th><th scope=col>political_interest</th><th scope=col>trust_exe</th><th scope=col>trust_leg</th><th scope=col>trstep</th><th scope=col>stfdem</th></tr></thead>\n",
       "<tbody>\n",
       "\t<tr><td>0          </td><td>0          </td><td>1          </td><td>0          </td><td>0          </td><td>1          </td><td>-0.61141288</td><td>-0.3072224 </td><td>0.1077504  </td><td> 0.5011791 </td><td>...        </td><td>-0.5835461 </td><td> 1.1026080 </td><td> 1.2495466 </td><td>-0.68740222</td><td>-1.5914072 </td><td>-0.4150452 </td><td>1.833276856</td><td> 0.24354749</td><td> 0.0000000 </td><td> 1.1026226 </td></tr>\n",
       "\t<tr><td>1          </td><td>0          </td><td>0          </td><td>1          </td><td>0          </td><td>1          </td><td>-0.39938084</td><td> 0.4384014 </td><td>0.1077504  </td><td> 1.3490377 </td><td>...        </td><td>-0.5835461 </td><td> 1.1026080 </td><td>-1.8227924 </td><td> 0.02639567</td><td>-0.6221735 </td><td> 1.7828335 </td><td>0.409584737</td><td>-1.68054070</td><td>-1.9123507 </td><td>-0.1206780 </td></tr>\n",
       "\t<tr><td>0          </td><td>1          </td><td>1          </td><td>0          </td><td>0          </td><td>1          </td><td>-1.08848498</td><td>-0.8043049 </td><td>0.1077504  </td><td> 0.1055117 </td><td>...        </td><td> 0.3701569 </td><td>-0.7954018 </td><td> 0.2254336 </td><td> 0.74019355</td><td> 1.3162940 </td><td> 0.6838942 </td><td>0.206200149</td><td> 0.02975992</td><td> 1.0666420 </td><td>-0.1206780 </td></tr>\n",
       "\t<tr><td>1          </td><td>0          </td><td>1          </td><td>1          </td><td>0          </td><td>1          </td><td>-0.08133278</td><td> 1.4325664 </td><td>0.1077504  </td><td> 0.2185595 </td><td>...        </td><td> 1.3238599 </td><td>-0.7954018 </td><td>-1.8227924 </td><td>-0.68740222</td><td>-1.5914072 </td><td> 0.6838942 </td><td>1.629892267</td><td> 0.88491023</td><td> 1.0666420 </td><td> 0.6948557 </td></tr>\n",
       "\t<tr><td>1          </td><td>1          </td><td>0          </td><td>0          </td><td>0          </td><td>1          </td><td> 0.07769126</td><td> 0.6869427 </td><td>0.1077504  </td><td>-0.9119187 </td><td>...        </td><td> 1.3238599 </td><td> 1.1026080 </td><td> 1.2495466 </td><td>-1.40120010</td><td>-2.0760240 </td><td>-0.4150452 </td><td>0.002815561</td><td> 0.45733507</td><td>-0.2100691 </td><td> 0.6948557 </td></tr>\n",
       "\t<tr><td>0          </td><td>1          </td><td>0          </td><td>1          </td><td>0          </td><td>1          </td><td>-1.08848498</td><td>-0.3072224 </td><td>0.1077504  </td><td>-0.3466796 </td><td>...        </td><td>-2.4909521 </td><td> 1.1026080 </td><td>-0.7986794 </td><td> 2.88158720</td><td> 0.8316771 </td><td> 1.7828335 </td><td>0.002815561</td><td>-1.68054070</td><td>-1.0612099 </td><td>-2.1595125 </td></tr>\n",
       "</tbody>\n",
       "</table>\n"
      ],
      "text/latex": [
       "\\begin{tabular}{r|lllllllllllllllllllllll}\n",
       " volact & female & married & children & houseperson & round1 & yrbrn & eduyrs & domicil & wkhtot & ... & tolerance & self\\_realisation & solidarity & tvpol & tvtot & political\\_interest & trust\\_exe & trust\\_leg & trstep & stfdem\\\\\n",
       "\\hline\n",
       "\t 0           & 0           & 1           & 0           & 0           & 1           & -0.61141288 & -0.3072224  & 0.1077504   &  0.5011791  & ...         & -0.5835461  &  1.1026080  &  1.2495466  & -0.68740222 & -1.5914072  & -0.4150452  & 1.833276856 &  0.24354749 &  0.0000000  &  1.1026226 \\\\\n",
       "\t 1           & 0           & 0           & 1           & 0           & 1           & -0.39938084 &  0.4384014  & 0.1077504   &  1.3490377  & ...         & -0.5835461  &  1.1026080  & -1.8227924  &  0.02639567 & -0.6221735  &  1.7828335  & 0.409584737 & -1.68054070 & -1.9123507  & -0.1206780 \\\\\n",
       "\t 0           & 1           & 1           & 0           & 0           & 1           & -1.08848498 & -0.8043049  & 0.1077504   &  0.1055117  & ...         &  0.3701569  & -0.7954018  &  0.2254336  &  0.74019355 &  1.3162940  &  0.6838942  & 0.206200149 &  0.02975992 &  1.0666420  & -0.1206780 \\\\\n",
       "\t 1           & 0           & 1           & 1           & 0           & 1           & -0.08133278 &  1.4325664  & 0.1077504   &  0.2185595  & ...         &  1.3238599  & -0.7954018  & -1.8227924  & -0.68740222 & -1.5914072  &  0.6838942  & 1.629892267 &  0.88491023 &  1.0666420  &  0.6948557 \\\\\n",
       "\t 1           & 1           & 0           & 0           & 0           & 1           &  0.07769126 &  0.6869427  & 0.1077504   & -0.9119187  & ...         &  1.3238599  &  1.1026080  &  1.2495466  & -1.40120010 & -2.0760240  & -0.4150452  & 0.002815561 &  0.45733507 & -0.2100691  &  0.6948557 \\\\\n",
       "\t 0           & 1           & 0           & 1           & 0           & 1           & -1.08848498 & -0.3072224  & 0.1077504   & -0.3466796  & ...         & -2.4909521  &  1.1026080  & -0.7986794  &  2.88158720 &  0.8316771  &  1.7828335  & 0.002815561 & -1.68054070 & -1.0612099  & -2.1595125 \\\\\n",
       "\\end{tabular}\n"
      ],
      "text/markdown": [
       "\n",
       "volact | female | married | children | houseperson | round1 | yrbrn | eduyrs | domicil | wkhtot | ... | tolerance | self_realisation | solidarity | tvpol | tvtot | political_interest | trust_exe | trust_leg | trstep | stfdem | \n",
       "|---|---|---|---|---|---|\n",
       "| 0           | 0           | 1           | 0           | 0           | 1           | -0.61141288 | -0.3072224  | 0.1077504   |  0.5011791  | ...         | -0.5835461  |  1.1026080  |  1.2495466  | -0.68740222 | -1.5914072  | -0.4150452  | 1.833276856 |  0.24354749 |  0.0000000  |  1.1026226  | \n",
       "| 1           | 0           | 0           | 1           | 0           | 1           | -0.39938084 |  0.4384014  | 0.1077504   |  1.3490377  | ...         | -0.5835461  |  1.1026080  | -1.8227924  |  0.02639567 | -0.6221735  |  1.7828335  | 0.409584737 | -1.68054070 | -1.9123507  | -0.1206780  | \n",
       "| 0           | 1           | 1           | 0           | 0           | 1           | -1.08848498 | -0.8043049  | 0.1077504   |  0.1055117  | ...         |  0.3701569  | -0.7954018  |  0.2254336  |  0.74019355 |  1.3162940  |  0.6838942  | 0.206200149 |  0.02975992 |  1.0666420  | -0.1206780  | \n",
       "| 1           | 0           | 1           | 1           | 0           | 1           | -0.08133278 |  1.4325664  | 0.1077504   |  0.2185595  | ...         |  1.3238599  | -0.7954018  | -1.8227924  | -0.68740222 | -1.5914072  |  0.6838942  | 1.629892267 |  0.88491023 |  1.0666420  |  0.6948557  | \n",
       "| 1           | 1           | 0           | 0           | 0           | 1           |  0.07769126 |  0.6869427  | 0.1077504   | -0.9119187  | ...         |  1.3238599  |  1.1026080  |  1.2495466  | -1.40120010 | -2.0760240  | -0.4150452  | 0.002815561 |  0.45733507 | -0.2100691  |  0.6948557  | \n",
       "| 0           | 1           | 0           | 1           | 0           | 1           | -1.08848498 | -0.3072224  | 0.1077504   | -0.3466796  | ...         | -2.4909521  |  1.1026080  | -0.7986794  |  2.88158720 |  0.8316771  |  1.7828335  | 0.002815561 | -1.68054070 | -1.0612099  | -2.1595125  | \n",
       "\n",
       "\n"
      ],
      "text/plain": [
       "  volact female married children houseperson round1 yrbrn       eduyrs    \n",
       "1 0      0      1       0        0           1      -0.61141288 -0.3072224\n",
       "2 1      0      0       1        0           1      -0.39938084  0.4384014\n",
       "3 0      1      1       0        0           1      -1.08848498 -0.8043049\n",
       "4 1      0      1       1        0           1      -0.08133278  1.4325664\n",
       "5 1      1      0       0        0           1       0.07769126  0.6869427\n",
       "6 0      1      0       1        0           1      -1.08848498 -0.3072224\n",
       "  domicil   wkhtot     ... tolerance  self_realisation solidarity tvpol      \n",
       "1 0.1077504  0.5011791 ... -0.5835461  1.1026080        1.2495466 -0.68740222\n",
       "2 0.1077504  1.3490377 ... -0.5835461  1.1026080       -1.8227924  0.02639567\n",
       "3 0.1077504  0.1055117 ...  0.3701569 -0.7954018        0.2254336  0.74019355\n",
       "4 0.1077504  0.2185595 ...  1.3238599 -0.7954018       -1.8227924 -0.68740222\n",
       "5 0.1077504 -0.9119187 ...  1.3238599  1.1026080        1.2495466 -1.40120010\n",
       "6 0.1077504 -0.3466796 ... -2.4909521  1.1026080       -0.7986794  2.88158720\n",
       "  tvtot      political_interest trust_exe   trust_leg   trstep     stfdem    \n",
       "1 -1.5914072 -0.4150452         1.833276856  0.24354749  0.0000000  1.1026226\n",
       "2 -0.6221735  1.7828335         0.409584737 -1.68054070 -1.9123507 -0.1206780\n",
       "3  1.3162940  0.6838942         0.206200149  0.02975992  1.0666420 -0.1206780\n",
       "4 -1.5914072  0.6838942         1.629892267  0.88491023  1.0666420  0.6948557\n",
       "5 -2.0760240 -0.4150452         0.002815561  0.45733507 -0.2100691  0.6948557\n",
       "6  0.8316771  1.7828335         0.002815561 -1.68054070 -1.0612099 -2.1595125"
      ]
     },
     "metadata": {},
     "output_type": "display_data"
    }
   ],
   "source": [
    "head(data.scaled)"
   ]
  },
  {
   "cell_type": "code",
   "execution_count": 31,
   "metadata": {},
   "outputs": [],
   "source": [
    "write.csv(data.complete, file = \"ess-complete.csv\")"
   ]
  },
  {
   "cell_type": "code",
   "execution_count": 43,
   "metadata": {},
   "outputs": [],
   "source": [
    "write.csv(data.scaled, file = \"ess-scaled.csv\")"
   ]
  },
  {
   "cell_type": "markdown",
   "metadata": {},
   "source": [
    "## ab hier weiter machen, vorher Datensatz erstellen"
   ]
  },
  {
   "cell_type": "code",
   "execution_count": 5,
   "metadata": {},
   "outputs": [],
   "source": [
    "data.scaled <- read.table(\"ess-scaled.csv\", header=TRUE, sep=\",\")\n",
    "data.scaled <- data.scaled[,-1]"
   ]
  },
  {
   "cell_type": "code",
   "execution_count": 6,
   "metadata": {},
   "outputs": [
    {
     "data": {
      "text/html": [
       "<table>\n",
       "<thead><tr><th scope=col>volact</th><th scope=col>female</th><th scope=col>married</th><th scope=col>children</th><th scope=col>houseperson</th><th scope=col>round1</th><th scope=col>yrbrn</th><th scope=col>eduyrs</th><th scope=col>domicil</th><th scope=col>wkhtot</th><th scope=col>...</th><th scope=col>tolerance</th><th scope=col>self_realisation</th><th scope=col>solidarity</th><th scope=col>tvpol</th><th scope=col>tvtot</th><th scope=col>political_interest</th><th scope=col>trust_exe</th><th scope=col>trust_leg</th><th scope=col>trstep</th><th scope=col>stfdem</th></tr></thead>\n",
       "<tbody>\n",
       "\t<tr><td>0          </td><td>0          </td><td>1          </td><td>0          </td><td>0          </td><td>1          </td><td>-0.61141288</td><td>-0.3072224 </td><td>0.1077504  </td><td> 0.5011791 </td><td>...        </td><td>-0.5835461 </td><td> 1.1026080 </td><td> 1.2495466 </td><td>-0.68740222</td><td>-1.5914072 </td><td>-0.4150452 </td><td>1.833276856</td><td> 0.24354749</td><td> 0.0000000 </td><td> 1.1026226 </td></tr>\n",
       "\t<tr><td>1          </td><td>0          </td><td>0          </td><td>1          </td><td>0          </td><td>1          </td><td>-0.39938084</td><td> 0.4384014 </td><td>0.1077504  </td><td> 1.3490377 </td><td>...        </td><td>-0.5835461 </td><td> 1.1026080 </td><td>-1.8227924 </td><td> 0.02639567</td><td>-0.6221735 </td><td> 1.7828335 </td><td>0.409584737</td><td>-1.68054070</td><td>-1.9123507 </td><td>-0.1206780 </td></tr>\n",
       "\t<tr><td>0          </td><td>1          </td><td>1          </td><td>0          </td><td>0          </td><td>1          </td><td>-1.08848498</td><td>-0.8043049 </td><td>0.1077504  </td><td> 0.1055117 </td><td>...        </td><td> 0.3701569 </td><td>-0.7954018 </td><td> 0.2254336 </td><td> 0.74019355</td><td> 1.3162940 </td><td> 0.6838942 </td><td>0.206200149</td><td> 0.02975992</td><td> 1.0666420 </td><td>-0.1206780 </td></tr>\n",
       "\t<tr><td>1          </td><td>0          </td><td>1          </td><td>1          </td><td>0          </td><td>1          </td><td>-0.08133278</td><td> 1.4325664 </td><td>0.1077504  </td><td> 0.2185595 </td><td>...        </td><td> 1.3238599 </td><td>-0.7954018 </td><td>-1.8227924 </td><td>-0.68740222</td><td>-1.5914072 </td><td> 0.6838942 </td><td>1.629892267</td><td> 0.88491023</td><td> 1.0666420 </td><td> 0.6948557 </td></tr>\n",
       "\t<tr><td>1          </td><td>1          </td><td>0          </td><td>0          </td><td>0          </td><td>1          </td><td> 0.07769126</td><td> 0.6869427 </td><td>0.1077504  </td><td>-0.9119187 </td><td>...        </td><td> 1.3238599 </td><td> 1.1026080 </td><td> 1.2495466 </td><td>-1.40120010</td><td>-2.0760240 </td><td>-0.4150452 </td><td>0.002815561</td><td> 0.45733507</td><td>-0.2100691 </td><td> 0.6948557 </td></tr>\n",
       "\t<tr><td>0          </td><td>1          </td><td>0          </td><td>1          </td><td>0          </td><td>1          </td><td>-1.08848498</td><td>-0.3072224 </td><td>0.1077504  </td><td>-0.3466796 </td><td>...        </td><td>-2.4909521 </td><td> 1.1026080 </td><td>-0.7986794 </td><td> 2.88158720</td><td> 0.8316771 </td><td> 1.7828335 </td><td>0.002815561</td><td>-1.68054070</td><td>-1.0612099 </td><td>-2.1595125 </td></tr>\n",
       "</tbody>\n",
       "</table>\n"
      ],
      "text/latex": [
       "\\begin{tabular}{r|lllllllllllllllllllllll}\n",
       " volact & female & married & children & houseperson & round1 & yrbrn & eduyrs & domicil & wkhtot & ... & tolerance & self\\_realisation & solidarity & tvpol & tvtot & political\\_interest & trust\\_exe & trust\\_leg & trstep & stfdem\\\\\n",
       "\\hline\n",
       "\t 0           & 0           & 1           & 0           & 0           & 1           & -0.61141288 & -0.3072224  & 0.1077504   &  0.5011791  & ...         & -0.5835461  &  1.1026080  &  1.2495466  & -0.68740222 & -1.5914072  & -0.4150452  & 1.833276856 &  0.24354749 &  0.0000000  &  1.1026226 \\\\\n",
       "\t 1           & 0           & 0           & 1           & 0           & 1           & -0.39938084 &  0.4384014  & 0.1077504   &  1.3490377  & ...         & -0.5835461  &  1.1026080  & -1.8227924  &  0.02639567 & -0.6221735  &  1.7828335  & 0.409584737 & -1.68054070 & -1.9123507  & -0.1206780 \\\\\n",
       "\t 0           & 1           & 1           & 0           & 0           & 1           & -1.08848498 & -0.8043049  & 0.1077504   &  0.1055117  & ...         &  0.3701569  & -0.7954018  &  0.2254336  &  0.74019355 &  1.3162940  &  0.6838942  & 0.206200149 &  0.02975992 &  1.0666420  & -0.1206780 \\\\\n",
       "\t 1           & 0           & 1           & 1           & 0           & 1           & -0.08133278 &  1.4325664  & 0.1077504   &  0.2185595  & ...         &  1.3238599  & -0.7954018  & -1.8227924  & -0.68740222 & -1.5914072  &  0.6838942  & 1.629892267 &  0.88491023 &  1.0666420  &  0.6948557 \\\\\n",
       "\t 1           & 1           & 0           & 0           & 0           & 1           &  0.07769126 &  0.6869427  & 0.1077504   & -0.9119187  & ...         &  1.3238599  &  1.1026080  &  1.2495466  & -1.40120010 & -2.0760240  & -0.4150452  & 0.002815561 &  0.45733507 & -0.2100691  &  0.6948557 \\\\\n",
       "\t 0           & 1           & 0           & 1           & 0           & 1           & -1.08848498 & -0.3072224  & 0.1077504   & -0.3466796  & ...         & -2.4909521  &  1.1026080  & -0.7986794  &  2.88158720 &  0.8316771  &  1.7828335  & 0.002815561 & -1.68054070 & -1.0612099  & -2.1595125 \\\\\n",
       "\\end{tabular}\n"
      ],
      "text/markdown": [
       "\n",
       "volact | female | married | children | houseperson | round1 | yrbrn | eduyrs | domicil | wkhtot | ... | tolerance | self_realisation | solidarity | tvpol | tvtot | political_interest | trust_exe | trust_leg | trstep | stfdem | \n",
       "|---|---|---|---|---|---|\n",
       "| 0           | 0           | 1           | 0           | 0           | 1           | -0.61141288 | -0.3072224  | 0.1077504   |  0.5011791  | ...         | -0.5835461  |  1.1026080  |  1.2495466  | -0.68740222 | -1.5914072  | -0.4150452  | 1.833276856 |  0.24354749 |  0.0000000  |  1.1026226  | \n",
       "| 1           | 0           | 0           | 1           | 0           | 1           | -0.39938084 |  0.4384014  | 0.1077504   |  1.3490377  | ...         | -0.5835461  |  1.1026080  | -1.8227924  |  0.02639567 | -0.6221735  |  1.7828335  | 0.409584737 | -1.68054070 | -1.9123507  | -0.1206780  | \n",
       "| 0           | 1           | 1           | 0           | 0           | 1           | -1.08848498 | -0.8043049  | 0.1077504   |  0.1055117  | ...         |  0.3701569  | -0.7954018  |  0.2254336  |  0.74019355 |  1.3162940  |  0.6838942  | 0.206200149 |  0.02975992 |  1.0666420  | -0.1206780  | \n",
       "| 1           | 0           | 1           | 1           | 0           | 1           | -0.08133278 |  1.4325664  | 0.1077504   |  0.2185595  | ...         |  1.3238599  | -0.7954018  | -1.8227924  | -0.68740222 | -1.5914072  |  0.6838942  | 1.629892267 |  0.88491023 |  1.0666420  |  0.6948557  | \n",
       "| 1           | 1           | 0           | 0           | 0           | 1           |  0.07769126 |  0.6869427  | 0.1077504   | -0.9119187  | ...         |  1.3238599  |  1.1026080  |  1.2495466  | -1.40120010 | -2.0760240  | -0.4150452  | 0.002815561 |  0.45733507 | -0.2100691  |  0.6948557  | \n",
       "| 0           | 1           | 0           | 1           | 0           | 1           | -1.08848498 | -0.3072224  | 0.1077504   | -0.3466796  | ...         | -2.4909521  |  1.1026080  | -0.7986794  |  2.88158720 |  0.8316771  |  1.7828335  | 0.002815561 | -1.68054070 | -1.0612099  | -2.1595125  | \n",
       "\n",
       "\n"
      ],
      "text/plain": [
       "  volact female married children houseperson round1 yrbrn       eduyrs    \n",
       "1 0      0      1       0        0           1      -0.61141288 -0.3072224\n",
       "2 1      0      0       1        0           1      -0.39938084  0.4384014\n",
       "3 0      1      1       0        0           1      -1.08848498 -0.8043049\n",
       "4 1      0      1       1        0           1      -0.08133278  1.4325664\n",
       "5 1      1      0       0        0           1       0.07769126  0.6869427\n",
       "6 0      1      0       1        0           1      -1.08848498 -0.3072224\n",
       "  domicil   wkhtot     ... tolerance  self_realisation solidarity tvpol      \n",
       "1 0.1077504  0.5011791 ... -0.5835461  1.1026080        1.2495466 -0.68740222\n",
       "2 0.1077504  1.3490377 ... -0.5835461  1.1026080       -1.8227924  0.02639567\n",
       "3 0.1077504  0.1055117 ...  0.3701569 -0.7954018        0.2254336  0.74019355\n",
       "4 0.1077504  0.2185595 ...  1.3238599 -0.7954018       -1.8227924 -0.68740222\n",
       "5 0.1077504 -0.9119187 ...  1.3238599  1.1026080        1.2495466 -1.40120010\n",
       "6 0.1077504 -0.3466796 ... -2.4909521  1.1026080       -0.7986794  2.88158720\n",
       "  tvtot      political_interest trust_exe   trust_leg   trstep     stfdem    \n",
       "1 -1.5914072 -0.4150452         1.833276856  0.24354749  0.0000000  1.1026226\n",
       "2 -0.6221735  1.7828335         0.409584737 -1.68054070 -1.9123507 -0.1206780\n",
       "3  1.3162940  0.6838942         0.206200149  0.02975992  1.0666420 -0.1206780\n",
       "4 -1.5914072  0.6838942         1.629892267  0.88491023  1.0666420  0.6948557\n",
       "5 -2.0760240 -0.4150452         0.002815561  0.45733507 -0.2100691  0.6948557\n",
       "6  0.8316771  1.7828335         0.002815561 -1.68054070 -1.0612099 -2.1595125"
      ]
     },
     "metadata": {},
     "output_type": "display_data"
    }
   ],
   "source": [
    "head(data.scaled)"
   ]
  },
  {
   "cell_type": "code",
   "execution_count": 6,
   "metadata": {},
   "outputs": [],
   "source": [
    "smp_size <- floor(0.9 * nrow(data.scaled))\n",
    "set.seed(123)\n",
    "train_ind <- sample(seq_len(nrow(data.scaled)), size = smp_size)\n",
    "train <- data.scaled[train_ind,]\n",
    "test <- data.scaled[-train_ind,]"
   ]
  },
  {
   "cell_type": "code",
   "execution_count": 7,
   "metadata": {},
   "outputs": [],
   "source": [
    "train.bal <- ovun.sample(volact ~ ., data = train, method = \"over\", N = 114264)$data"
   ]
  },
  {
   "cell_type": "markdown",
   "metadata": {},
   "source": [
    "## hier beginnt der Teil aus dem Tut"
   ]
  },
  {
   "cell_type": "code",
   "execution_count": 35,
   "metadata": {},
   "outputs": [
    {
     "data": {
      "image/png": "[encoded data removed]",
      "text/plain": [
       "Plot with title \"True Relationship \n",
       " (scaled values)\""
      ]
     },
     "metadata": {},
     "output_type": "display_data"
    }
   ],
   "source": [
    "col <- test$volact\n",
    "col[test$volact == 1] <- adjustcolor(\"orange\", alpha = 0.3)\n",
    "col[test$volact == 0] <- adjustcolor(\"blue\", alpha = 0.3)\n",
    "\n",
    "plot(test$wkhtot, test$social_trust, col = col, pch = 19,\n",
    "     main = \"True Relationship \\n (scaled values)\",\n",
    "     bty = \"n\", las = 1,\n",
    "     xlab = \"Total Work Hours (per Week)\", ylab = \"Social Trust\")"
   ]
  },
  {
   "cell_type": "code",
   "execution_count": 8,
   "metadata": {},
   "outputs": [],
   "source": [
    "ll_logit <- function(theta, y, X) {\n",
    "    \n",
    "  # theta consists merely of beta (dim is ncol(X))\n",
    "    beta <- theta[1:ncol(X)]\n",
    "    # linear predictor; make sure that X is stored as.matrix\n",
    "    mu <- X %*% beta\n",
    "    # response function\n",
    "    p <- 1/(1 + exp(-mu))\n",
    "    # log-likelihood\n",
    "    ll <- y * log(p) + (1 - y) * log(1 - p)\n",
    "    # sum\n",
    "    ll <- sum(ll)\n",
    "    return(ll)\n",
    "}"
   ]
  },
  {
   "cell_type": "code",
   "execution_count": 49,
   "metadata": {},
   "outputs": [],
   "source": [
    "y <- test$volact\n",
    "X <- cbind(1, test$wkhtot, test$social_trust)\n",
    "\n",
    "startvals <- c(0, 0, 0)\n",
    "\n",
    "res <- optim(par = startvals,fn = ll_logit, y = y, X = X,\n",
    "              control = list(fnscale = -1),\n",
    "              method = \"BFGS\"\n",
    "              ) \n",
    "\n",
    "mu <- X %*% res$par\n",
    "\n",
    "p <- 1/(1 + exp(-mu))\n",
    "\n",
    "y_hat <- rbinom(nrow(p), 1, p)\n",
    "col <- y_hat\n",
    "col[y_hat == 1] <- adjustcolor(\"orange\", alpha = 0.3)\n",
    "col[y_hat == 0] <- adjustcolor(\"blue\", alpha = 0.3)\n",
    "\n",
    "#plot(test$wkhtot, test$social_trust, col = col, pch = 19,\n",
    "#      main = \"True Relationship\",\n",
    "#     bty = \"n\", las = 1,\n",
    "#     xlab = \"x1\", ylab = \"x2\")"
   ]
  },
  {
   "cell_type": "code",
   "execution_count": 14,
   "metadata": {},
   "outputs": [
    {
     "data": {
      "text/plain": [
       "     \n",
       "y_hat    0    1\n",
       "    0 4068 2168\n",
       "    1 2206 1262"
      ]
     },
     "metadata": {},
     "output_type": "display_data"
    }
   ],
   "source": [
    "logit_pred <- table(y_hat, test$volact)\n",
    "logit_pred"
   ]
  },
  {
   "cell_type": "code",
   "execution_count": 12,
   "metadata": {},
   "outputs": [],
   "source": [
    "ll_simple_nn <- function(theta, y, X){\n",
    "  \n",
    "  gamma <- theta[1:4]\n",
    "  beta_neuron1 <- theta[5:7]\n",
    "  beta_neuron2 <- theta[8:10]\n",
    "  beta_neuron3 <- theta[11:13]\n",
    "  \n",
    "  mu_neuron1 <- X %*% beta_neuron1\n",
    "  mu_neuron2 <- X %*% beta_neuron2\n",
    "  mu_neuron3 <- X %*% beta_neuron3\n",
    "  \n",
    "  logitResponse <- function(mu) 1 / (1+exp(-mu))\n",
    "  \n",
    "  p_neuron1 <- logitResponse(mu_neuron1)\n",
    "  p_neuron2 <- logitResponse(mu_neuron2)\n",
    "  p_neuron3 <- logitResponse(mu_neuron3)\n",
    "  \n",
    "  Z <- cbind(1, p_neuron1, p_neuron2, p_neuron3)\n",
    "  \n",
    "  mu <- Z %*% gamma\n",
    "  \n",
    "  p <- logitResponse(mu)\n",
    "  \n",
    "  ll <- y * log(p) + (1 - y) * log(1 - p)\n",
    "  \n",
    "  ll <- sum(ll)\n",
    "  return(ll)\n",
    "}"
   ]
  },
  {
   "cell_type": "code",
   "execution_count": 15,
   "metadata": {},
   "outputs": [
    {
     "data": {
      "text/html": [
       "-6978.91114132327"
      ],
      "text/latex": [
       "-6978.91114132327"
      ],
      "text/markdown": [
       "-6978.91114132327"
      ],
      "text/plain": [
       "[1] -6978.911"
      ]
     },
     "metadata": {},
     "output_type": "display_data"
    },
    {
     "data": {
      "text/html": [
       "<ol class=list-inline>\n",
       "\t<li>-6.15666576409949</li>\n",
       "\t<li>6.58043102752854</li>\n",
       "\t<li>-0.461880079261066</li>\n",
       "\t<li>-2.09628366345229</li>\n",
       "\t<li>7.70982165913434</li>\n",
       "\t<li>1.93538160767963</li>\n",
       "\t<li>-1.22862045159821</li>\n",
       "\t<li>1.08669558866061</li>\n",
       "\t<li>20.6408183221432</li>\n",
       "\t<li>-0.0335322858213717</li>\n",
       "\t<li>-0.833089863224394</li>\n",
       "\t<li>-0.262795477548865</li>\n",
       "\t<li>-0.958039527668473</li>\n",
       "</ol>\n"
      ],
      "text/latex": [
       "\\begin{enumerate*}\n",
       "\\item -6.15666576409949\n",
       "\\item 6.58043102752854\n",
       "\\item -0.461880079261066\n",
       "\\item -2.09628366345229\n",
       "\\item 7.70982165913434\n",
       "\\item 1.93538160767963\n",
       "\\item -1.22862045159821\n",
       "\\item 1.08669558866061\n",
       "\\item 20.6408183221432\n",
       "\\item -0.0335322858213717\n",
       "\\item -0.833089863224394\n",
       "\\item -0.262795477548865\n",
       "\\item -0.958039527668473\n",
       "\\end{enumerate*}\n"
      ],
      "text/markdown": [
       "1. -6.15666576409949\n",
       "2. 6.58043102752854\n",
       "3. -0.461880079261066\n",
       "4. -2.09628366345229\n",
       "5. 7.70982165913434\n",
       "6. 1.93538160767963\n",
       "7. -1.22862045159821\n",
       "8. 1.08669558866061\n",
       "9. 20.6408183221432\n",
       "10. -0.0335322858213717\n",
       "11. -0.833089863224394\n",
       "12. -0.262795477548865\n",
       "13. -0.958039527668473\n",
       "\n",
       "\n"
      ],
      "text/plain": [
       " [1] -6.15666576  6.58043103 -0.46188008 -2.09628366  7.70982166  1.93538161\n",
       " [7] -1.22862045  1.08669559 20.64081832 -0.03353229 -0.83308986 -0.26279548\n",
       "[13] -0.95803953"
      ]
     },
     "metadata": {},
     "output_type": "display_data"
    }
   ],
   "source": [
    "# initial values\n",
    "startvals <- rnorm(13)\n",
    "\n",
    "ll_simple_nn(startvals, y, X)\n",
    "\n",
    "# optimize\n",
    "resNN <- optim(par = startvals, fn = ll_simple_nn, y = y, X = X,\n",
    "              control = list(fnscale = -1),\n",
    "              hessian = F,\n",
    "              method = \"BFGS\"\n",
    "              ) \n",
    "\n",
    "resNN$par\n",
    "\n",
    "gammaEst <- resNN$par[1:4]\n",
    "beta_neuron1Est <- resNN$par[5:7]\n",
    "beta_neuron2Est <- resNN$par[8:10]\n",
    "beta_neuron3Est <- resNN$par[11:13]"
   ]
  },
  {
   "cell_type": "code",
   "execution_count": 16,
   "metadata": {},
   "outputs": [],
   "source": [
    "mu_neuron1Est <- X %*% beta_neuron1Est\n",
    "mu_neuron2Est <- X %*% beta_neuron2Est\n",
    "mu_neuron3Est <- X %*% beta_neuron3Est"
   ]
  },
  {
   "cell_type": "code",
   "execution_count": 17,
   "metadata": {},
   "outputs": [],
   "source": [
    "logitResponse <- function(mu) 1/(1+exp(-mu))\n",
    "\n",
    "p_neuron1Est <- logitResponse(mu_neuron1Est)\n",
    "p_neuron2Est <- logitResponse(mu_neuron2Est)\n",
    "p_neuron3Est <- logitResponse(mu_neuron3Est)"
   ]
  },
  {
   "cell_type": "code",
   "execution_count": 18,
   "metadata": {},
   "outputs": [],
   "source": [
    "Z <- cbind(1, p_neuron1Est, p_neuron2Est, p_neuron3Est )\n",
    "\n",
    "mu <- Z %*% gammaEst"
   ]
  },
  {
   "cell_type": "code",
   "execution_count": 19,
   "metadata": {},
   "outputs": [],
   "source": [
    "p <- logitResponse(mu)\n",
    "\n",
    "\n",
    "y_hat <- rbinom(nrow(p),1,p)\n",
    "col <- y_hat"
   ]
  },
  {
   "cell_type": "code",
   "execution_count": 47,
   "metadata": {},
   "outputs": [
    {
     "data": {
      "image/png": "[encoded data removed]",
      "text/plain": [
       "Plot with title \"Predicted Values from a Neural Net\""
      ]
     },
     "metadata": {},
     "output_type": "display_data"
    }
   ],
   "source": [
    "col[y_hat == 1] <- adjustcolor(\"orange\", alpha = 0.3)\n",
    "col[y_hat == 0] <- adjustcolor(\"blue\", alpha = 0.3)\n",
    "\n",
    "plot(X[, 2], X[, 3], col = col, pch = 19,\n",
    "     main = \"Predicted Values from a Neural Net\",\n",
    "     bty = \"n\", las = 1,\n",
    "     xlab = \"x1\", ylab = \"x2\")"
   ]
  },
  {
   "cell_type": "code",
   "execution_count": 20,
   "metadata": {},
   "outputs": [
    {
     "data": {
      "text/plain": [
       "     \n",
       "y_hat    0    1\n",
       "    0 4128 2148\n",
       "    1 2146 1282"
      ]
     },
     "metadata": {},
     "output_type": "display_data"
    }
   ],
   "source": [
    "nn_pred <- table(y_hat, test$volact)\n",
    "nn_pred"
   ]
  },
  {
   "cell_type": "code",
   "execution_count": 21,
   "metadata": {},
   "outputs": [],
   "source": [
    "m <- neuralnet(volact ~ wkhtot + social_trust, \n",
    "              train, hidden = 1)"
   ]
  },
  {
   "cell_type": "code",
   "execution_count": 22,
   "metadata": {},
   "outputs": [],
   "source": [
    "p <- compute(m, test[,c(11, 14)])"
   ]
  },
  {
   "cell_type": "code",
   "execution_count": 23,
   "metadata": {},
   "outputs": [],
   "source": [
    "predictions <- p$net.result"
   ]
  },
  {
   "cell_type": "code",
   "execution_count": 24,
   "metadata": {},
   "outputs": [],
   "source": [
    "result_test <- rbinom(nrow(predictions),1,predictions)\n",
    "result3 <- ifelse(predictions >= 0.3, 1, 0)\n",
    "result2 <- ifelse(predictions >= 0.2, 1, 0)\n",
    "result4 <- ifelse(predictions >= 0.4, 1, 0)"
   ]
  },
  {
   "cell_type": "code",
   "execution_count": 25,
   "metadata": {},
   "outputs": [
    {
     "name": "stdout",
     "output_type": "stream",
     "text": [
      "[1] 0.0153873331\n"
     ]
    }
   ],
   "source": [
    "print(cor(result_test, test$volact))"
   ]
  },
  {
   "cell_type": "code",
   "execution_count": 26,
   "metadata": {},
   "outputs": [
    {
     "data": {
      "text/plain": [
       "           \n",
       "result_test    0    1\n",
       "          0 4124 2202\n",
       "          1 2150 1228"
      ]
     },
     "metadata": {},
     "output_type": "display_data"
    }
   ],
   "source": [
    "prenn_pred <- table(result_test, test$volact)\n",
    "prenn_pred"
   ]
  },
  {
   "cell_type": "code",
   "execution_count": 27,
   "metadata": {},
   "outputs": [
    {
     "name": "stderr",
     "output_type": "stream",
     "text": [
      "Loading required package: scales\n",
      "Warning message:\n",
      "\"package 'scales' was built under R version 3.4.4\"Loading required package: reshape\n",
      "Warning message:\n",
      "\"package 'reshape' was built under R version 3.4.3\""
     ]
    },
    {
     "data": {
      "text/html": [
       "<strong>png:</strong> 2"
      ],
      "text/latex": [
       "\\textbf{png:} 2"
      ],
      "text/markdown": [
       "**png:** 2"
      ],
      "text/plain": [
       "png \n",
       "  2 "
      ]
     },
     "metadata": {},
     "output_type": "display_data"
    }
   ],
   "source": [
    "png(\"basic_nn.png\", width = 800, height = 600)\n",
    "plot.nnet(m)\n",
    "dev.off()"
   ]
  },
  {
   "cell_type": "code",
   "execution_count": 30,
   "metadata": {},
   "outputs": [
    {
     "data": {
      "text/html": [
       "0.3155881415365"
      ],
      "text/latex": [
       "0.3155881415365"
      ],
      "text/markdown": [
       "0.3155881415365"
      ],
      "text/plain": [
       "[1] 0.3155881415"
      ]
     },
     "metadata": {},
     "output_type": "display_data"
    },
    {
     "data": {
      "text/html": [
       "0.302837105514823"
      ],
      "text/latex": [
       "0.302837105514823"
      ],
      "text/markdown": [
       "0.302837105514823"
      ],
      "text/plain": [
       "[1] 0.3028371055"
      ]
     },
     "metadata": {},
     "output_type": "display_data"
    },
    {
     "data": {
      "text/html": [
       "0.306343640420784"
      ],
      "text/latex": [
       "0.306343640420784"
      ],
      "text/markdown": [
       "0.306343640420784"
      ],
      "text/plain": [
       "[1] 0.3063436404"
      ]
     },
     "metadata": {},
     "output_type": "display_data"
    },
    {
     "data": {
      "text/html": [
       "0.0172138986292637"
      ],
      "text/latex": [
       "0.0172138986292637"
      ],
      "text/markdown": [
       "0.0172138986292637"
      ],
      "text/plain": [
       "[1] 0.01721389863"
      ]
     },
     "metadata": {},
     "output_type": "display_data"
    },
    {
     "data": {
      "text/html": [
       "0.231271915843162"
      ],
      "text/latex": [
       "0.231271915843162"
      ],
      "text/markdown": [
       "0.231271915843162"
      ],
      "text/plain": [
       "[1] 0.2312719158"
      ]
     },
     "metadata": {},
     "output_type": "display_data"
    },
    {
     "data": {
      "text/html": [
       "0.392731909467644"
      ],
      "text/latex": [
       "0.392731909467644"
      ],
      "text/markdown": [
       "0.392731909467644"
      ],
      "text/plain": [
       "[1] 0.3927319095"
      ]
     },
     "metadata": {},
     "output_type": "display_data"
    }
   ],
   "source": [
    "PRE(nn_pred)\n",
    "PRE(logit_pred)\n",
    "PRE(prenn_pred)\n",
    "PRE(table(result2, test$volact))\n",
    "PRE(table(result3, test$volact))\n",
    "PRE(table(result4, test$volact))"
   ]
  },
  {
   "cell_type": "code",
   "execution_count": 31,
   "metadata": {},
   "outputs": [
    {
     "data": {
      "text/html": [
       "0.373869932925051"
      ],
      "text/latex": [
       "0.373869932925051"
      ],
      "text/markdown": [
       "0.373869932925051"
      ],
      "text/plain": [
       "[1] 0.3738699329"
      ]
     },
     "metadata": {},
     "output_type": "display_data"
    },
    {
     "data": {
      "text/html": [
       "0.365903160336329"
      ],
      "text/latex": [
       "0.365903160336329"
      ],
      "text/markdown": [
       "0.365903160336329"
      ],
      "text/plain": [
       "[1] 0.3659031603"
      ]
     },
     "metadata": {},
     "output_type": "display_data"
    },
    {
     "data": {
      "text/html": [
       "0.36075205640423"
      ],
      "text/latex": [
       "0.36075205640423"
      ],
      "text/markdown": [
       "0.36075205640423"
      ],
      "text/plain": [
       "[1] 0.3607520564"
      ]
     },
     "metadata": {},
     "output_type": "display_data"
    },
    {
     "data": {
      "text/html": [
       "0.524154962185522"
      ],
      "text/latex": [
       "0.524154962185522"
      ],
      "text/markdown": [
       "0.524154962185522"
      ],
      "text/plain": [
       "[1] 0.5241549622"
      ]
     },
     "metadata": {},
     "output_type": "display_data"
    },
    {
     "data": {
      "text/html": [
       "0.523277651477711"
      ],
      "text/latex": [
       "0.523277651477711"
      ],
      "text/markdown": [
       "0.523277651477711"
      ],
      "text/plain": [
       "[1] 0.5232776515"
      ]
     },
     "metadata": {},
     "output_type": "display_data"
    },
    {
     "data": {
      "text/html": [
       "0.414566687154272"
      ],
      "text/latex": [
       "0.414566687154272"
      ],
      "text/markdown": [
       "0.414566687154272"
      ],
      "text/plain": [
       "[1] 0.4145666872"
      ]
     },
     "metadata": {},
     "output_type": "display_data"
    }
   ],
   "source": [
    "F1(nn_pred)\n",
    "F1(logit_pred)\n",
    "F1(prenn_pred)\n",
    "F1(table(result2, test$volact))\n",
    "F1(table(result3, test$volact))\n",
    "F1(table(result4, test$volact))"
   ]
  },
  {
   "cell_type": "markdown",
   "metadata": {},
   "source": [
    "## logistic regression"
   ]
  },
  {
   "cell_type": "code",
   "execution_count": 95,
   "metadata": {},
   "outputs": [],
   "source": [
    "y <- train$volact\n",
    "X <- as.matrix(cbind(1, train[,-1]))"
   ]
  },
  {
   "cell_type": "code",
   "execution_count": 96,
   "metadata": {},
   "outputs": [],
   "source": [
    "startvals <- c(rep(0, 23))\n",
    "res <- optim(par = startvals,fn = ll_logit, y = y, X = X,\n",
    "              control = list(fnscale = -1),\n",
    "              method = \"BFGS\"\n",
    "              ) "
   ]
  },
  {
   "cell_type": "code",
   "execution_count": 97,
   "metadata": {},
   "outputs": [],
   "source": [
    "mu <- as.matrix(cbind(1, test[,-1])) %*% res$par\n",
    "p <- 1/(1 + exp(-mu))\n",
    "y_hat <- rbinom(nrow(p), 1, p)"
   ]
  },
  {
   "cell_type": "code",
   "execution_count": 108,
   "metadata": {},
   "outputs": [
    {
     "data": {
      "text/plain": [
       "     \n",
       "y_hat    0    1\n",
       "    0 4256 2037\n",
       "    1 2018 1393"
      ]
     },
     "metadata": {},
     "output_type": "display_data"
    },
    {
     "data": {
      "text/html": [
       "0.582131079967024"
      ],
      "text/latex": [
       "0.582131079967024"
      ],
      "text/markdown": [
       "0.582131079967024"
      ],
      "text/plain": [
       "[1] 0.5821311"
      ]
     },
     "metadata": {},
     "output_type": "display_data"
    },
    {
     "data": {
      "text/html": [
       "-0.182215743440233"
      ],
      "text/latex": [
       "-0.182215743440233"
      ],
      "text/markdown": [
       "-0.182215743440233"
      ],
      "text/plain": [
       "[1] -0.1822157"
      ]
     },
     "metadata": {},
     "output_type": "display_data"
    },
    {
     "data": {
      "text/html": [
       "0.407250401988013"
      ],
      "text/latex": [
       "0.407250401988013"
      ],
      "text/markdown": [
       "0.407250401988013"
      ],
      "text/plain": [
       "[1] 0.4072504"
      ]
     },
     "metadata": {},
     "output_type": "display_data"
    }
   ],
   "source": [
    "table(y_hat, test$volact)\n",
    "ACC(table(y_hat, test$volact))\n",
    "PRE(table(y_hat, test$volact))\n",
    "F1(table(y_hat, test$volact))"
   ]
  },
  {
   "cell_type": "code",
   "execution_count": 102,
   "metadata": {},
   "outputs": [],
   "source": [
    "y_hat1 <- ifelse(p > 0.1, 1, 0)\n",
    "y_hat2 <- ifelse(p > 0.2, 1, 0)\n",
    "y_hat3 <- ifelse(p > 0.3, 1, 0)\n",
    "y_hat4 <- ifelse(p > 0.4, 1, 0)\n",
    "y_hat5 <- ifelse(p > 0.5, 1, 0)\n",
    "y_hat6 <- ifelse(p > 0.6, 1, 0)\n",
    "y_hat7 <- ifelse(p > 0.7, 1, 0)\n",
    "y_hat8 <- ifelse(p > 0.8, 1, 0)\n",
    "y_hat9 <- ifelse(p > 0.9, 1, 0)"
   ]
  },
  {
   "cell_type": "code",
   "execution_count": 107,
   "metadata": {},
   "outputs": [
    {
     "data": {
      "text/html": [
       "<table>\n",
       "<tbody>\n",
       "\t<tr><th scope=row>6</th><td>0</td></tr>\n",
       "\t<tr><th scope=row>11</th><td>0</td></tr>\n",
       "\t<tr><th scope=row>31</th><td>0</td></tr>\n",
       "\t<tr><th scope=row>32</th><td>0</td></tr>\n",
       "\t<tr><th scope=row>37</th><td>0</td></tr>\n",
       "\t<tr><th scope=row>38</th><td>0</td></tr>\n",
       "</tbody>\n",
       "</table>\n"
      ],
      "text/latex": [
       "\\begin{tabular}{r|l}\n",
       "\t6 & 0\\\\\n",
       "\t11 & 0\\\\\n",
       "\t31 & 0\\\\\n",
       "\t32 & 0\\\\\n",
       "\t37 & 0\\\\\n",
       "\t38 & 0\\\\\n",
       "\\end{tabular}\n"
      ],
      "text/markdown": [
       "\n",
       "| 6 | 0 | \n",
       "| 11 | 0 | \n",
       "| 31 | 0 | \n",
       "| 32 | 0 | \n",
       "| 37 | 0 | \n",
       "| 38 | 0 | \n",
       "\n",
       "\n"
      ],
      "text/plain": [
       "   [,1]\n",
       "6  0   \n",
       "11 0   \n",
       "31 0   \n",
       "32 0   \n",
       "37 0   \n",
       "38 0   "
      ]
     },
     "metadata": {},
     "output_type": "display_data"
    }
   ],
   "source": [
    "head(y_hat9)"
   ]
  },
  {
   "cell_type": "code",
   "execution_count": 112,
   "metadata": {},
   "outputs": [],
   "source": [
    "threshold <- cbind(seq(0.1, 0.8, length.out = 8),\n",
    "    \n",
    "c(ACC(table(y_hat1, test$volact)),\n",
    "ACC(table(y_hat2, test$volact)),\n",
    "ACC(table(y_hat3, test$volact)),\n",
    "ACC(table(y_hat4, test$volact)),\n",
    "ACC(table(y_hat5, test$volact)),\n",
    "ACC(table(y_hat6, test$volact)),\n",
    "ACC(table(y_hat7, test$volact)),\n",
    "ACC(table(y_hat8, test$volact))),\n",
    "#ACC(table(y_hat9, test$volact))),\n",
    "\n",
    "c(PRE(table(y_hat1, test$volact)),\n",
    "PRE(table(y_hat2, test$volact)),\n",
    "PRE(table(y_hat3, test$volact)),\n",
    "PRE(table(y_hat4, test$volact)),\n",
    "PRE(table(y_hat5, test$volact)),\n",
    "PRE(table(y_hat6, test$volact)),\n",
    "PRE(table(y_hat7, test$volact)),\n",
    "PRE(table(y_hat8, test$volact))),\n",
    "#PRE(table(y_hat9, test$volact))),\n",
    "\n",
    "c(F1(table(y_hat1, test$volact)),\n",
    "F1(table(y_hat2, test$volact)),\n",
    "F1(table(y_hat3, test$volact)),\n",
    "F1(table(y_hat4, test$volact)),\n",
    "F1(table(y_hat5, test$volact)),\n",
    "F1(table(y_hat6, test$volact)),\n",
    "F1(table(y_hat7, test$volact)),\n",
    "F1(table(y_hat8, test$volact))))\n",
    "#F1(table(y_hat9, test$volact))))"
   ]
  },
  {
   "cell_type": "code",
   "execution_count": 113,
   "metadata": {},
   "outputs": [
    {
     "data": {
      "text/html": [
       "0.681265457543281"
      ],
      "text/latex": [
       "0.681265457543281"
      ],
      "text/markdown": [
       "0.681265457543281"
      ],
      "text/plain": [
       "[1] 0.6812655"
      ]
     },
     "metadata": {},
     "output_type": "display_data"
    }
   ],
   "source": [
    "max(threshold[,2])"
   ]
  },
  {
   "cell_type": "code",
   "execution_count": 114,
   "metadata": {},
   "outputs": [
    {
     "data": {
      "text/html": [
       "<strong>png:</strong> 2"
      ],
      "text/latex": [
       "\\textbf{png:} 2"
      ],
      "text/markdown": [
       "**png:** 2"
      ],
      "text/plain": [
       "png \n",
       "  2 "
      ]
     },
     "metadata": {},
     "output_type": "display_data"
    },
    {
     "data": {
      "image/png": "[encoded data removed]",
      "text/plain": [
       "plot without title"
      ]
     },
     "metadata": {},
     "output_type": "display_data"
    }
   ],
   "source": [
    "acc <- ggplot(data.frame(threshold),aes(threshold[,1],threshold[,2]))+geom_line(aes(color=\"Accuracy\"))+\n",
    "    labs(color=\" \") + \n",
    "    ylab(\"accuracy value\") + xlab(\"threshold\")\n",
    "pre <- ggplot(data.frame(threshold),aes(threshold[,1],threshold[,3]))+geom_line(aes(color=\"PRE\"))+\n",
    "    labs(color=\" \") + \n",
    "    ylab(\"pre value\") + xlab(\"threshold\")\n",
    "f1 <- ggplot(data.frame(threshold),aes(threshold[,1],threshold[,4]))+geom_line(aes(color=\"F1\"))+\n",
    "    labs(color=\" \") + \n",
    "    ylab(\"f1 value\") + xlab(\"threshold\")\n",
    "png(\"evaluation_log_threshold_unbal.png\") \n",
    "myplot <- ggarrange(acc, pre, f1 + rremove(\"x.text\"), \n",
    "          labels = c(\"ACC\", \"PRE\", \"F1\"),\n",
    "          ncol = 2, nrow = 2)\n",
    "print(myplot)\n",
    "dev.off()\n",
    "print(myplot)"
   ]
  },
  {
   "cell_type": "code",
   "execution_count": 115,
   "metadata": {},
   "outputs": [],
   "source": [
    "y.bal <- train.bal$volact\n",
    "X.bal <- as.matrix(cbind(1, train.bal[,-1]))"
   ]
  },
  {
   "cell_type": "code",
   "execution_count": 86,
   "metadata": {},
   "outputs": [],
   "source": [
    "startvals <- c(rep(0, 23))\n",
    "res <- optim(par = startvals,fn = ll_logit, y = y.bal, X = X.bal,\n",
    "              control = list(fnscale = -1), hessian = TRUE,\n",
    "              method = \"BFGS\"\n",
    "              ) "
   ]
  },
  {
   "cell_type": "code",
   "execution_count": 87,
   "metadata": {},
   "outputs": [],
   "source": [
    "mu <- as.matrix(cbind(1, test[,-1])) %*% res$par\n",
    "\n",
    "p <- 1/(1 + exp(-mu))\n",
    "\n",
    "y_hat.bal <- rbinom(nrow(p), 1, p)"
   ]
  },
  {
   "cell_type": "code",
   "execution_count": 16,
   "metadata": {},
   "outputs": [
    {
     "data": {
      "text/plain": [
       "         \n",
       "y_hat.bal    0    1\n",
       "        0 3399 1588\n",
       "        1 2875 1842"
      ]
     },
     "metadata": {},
     "output_type": "display_data"
    },
    {
     "data": {
      "text/html": [
       "0.540086562242374"
      ],
      "text/latex": [
       "0.540086562242374"
      ],
      "text/markdown": [
       "0.540086562242374"
      ],
      "text/plain": [
       "[1] 0.5400866"
      ]
     },
     "metadata": {},
     "output_type": "display_data"
    },
    {
     "data": {
      "text/html": [
       "-0.301166180758017"
      ],
      "text/latex": [
       "-0.301166180758017"
      ],
      "text/markdown": [
       "-0.301166180758017"
      ],
      "text/plain": [
       "[1] -0.3011662"
      ]
     },
     "metadata": {},
     "output_type": "display_data"
    },
    {
     "data": {
      "text/html": [
       "0.452190990548668"
      ],
      "text/latex": [
       "0.452190990548668"
      ],
      "text/markdown": [
       "0.452190990548668"
      ],
      "text/plain": [
       "[1] 0.452191"
      ]
     },
     "metadata": {},
     "output_type": "display_data"
    }
   ],
   "source": [
    "table(y_hat.bal, test$volact)\n",
    "ACC(table(y_hat.bal, test$volact))\n",
    "PRE(table(y_hat.bal, test$volact))\n",
    "F1(table(y_hat.bal, test$volact))"
   ]
  },
  {
   "cell_type": "code",
   "execution_count": 88,
   "metadata": {},
   "outputs": [],
   "source": [
    "y_hat1 <- ifelse(p > 0.1, 1, 0)\n",
    "y_hat2 <- ifelse(p > 0.2, 1, 0)\n",
    "y_hat3 <- ifelse(p > 0.3, 1, 0)\n",
    "y_hat4 <- ifelse(p > 0.4, 1, 0)\n",
    "y_hat5 <- ifelse(p > 0.5, 1, 0)\n",
    "y_hat6 <- ifelse(p > 0.6, 1, 0)\n",
    "y_hat7 <- ifelse(p > 0.7, 1, 0)\n",
    "y_hat8 <- ifelse(p > 0.8, 1, 0)\n",
    "y_hat9 <- ifelse(p > 0.9, 1, 0)"
   ]
  },
  {
   "cell_type": "code",
   "execution_count": 89,
   "metadata": {},
   "outputs": [],
   "source": [
    "threshold <- cbind(seq(0.1, 0.9, length.out = 9),\n",
    "    \n",
    "c(ACC(table(y_hat1, test$volact)),\n",
    "ACC(table(y_hat2, test$volact)),\n",
    "ACC(table(y_hat3, test$volact)),\n",
    "ACC(table(y_hat4, test$volact)),\n",
    "ACC(table(y_hat5, test$volact)),\n",
    "ACC(table(y_hat6, test$volact)),\n",
    "ACC(table(y_hat7, test$volact)),\n",
    "ACC(table(y_hat8, test$volact)),\n",
    "ACC(table(y_hat9, test$volact))),\n",
    "\n",
    "c(PRE(table(y_hat1, test$volact)),\n",
    "PRE(table(y_hat2, test$volact)),\n",
    "PRE(table(y_hat3, test$volact)),\n",
    "PRE(table(y_hat4, test$volact)),\n",
    "PRE(table(y_hat5, test$volact)),\n",
    "PRE(table(y_hat6, test$volact)),\n",
    "PRE(table(y_hat7, test$volact)),\n",
    "PRE(table(y_hat8, test$volact)),\n",
    "PRE(table(y_hat9, test$volact))),\n",
    "\n",
    "c(F1(table(y_hat1, test$volact)),\n",
    "F1(table(y_hat2, test$volact)),\n",
    "F1(table(y_hat3, test$volact)),\n",
    "F1(table(y_hat4, test$volact)),\n",
    "F1(table(y_hat5, test$volact)),\n",
    "F1(table(y_hat6, test$volact)),\n",
    "F1(table(y_hat7, test$volact)),\n",
    "F1(table(y_hat8, test$volact)),\n",
    "F1(table(y_hat9, test$volact))))"
   ]
  },
  {
   "cell_type": "code",
   "execution_count": 90,
   "metadata": {},
   "outputs": [
    {
     "data": {
      "text/html": [
       "0.67858615004122"
      ],
      "text/latex": [
       "0.67858615004122"
      ],
      "text/markdown": [
       "0.67858615004122"
      ],
      "text/plain": [
       "[1] 0.6785862"
      ]
     },
     "metadata": {},
     "output_type": "display_data"
    }
   ],
   "source": [
    "max(threshold[,2])"
   ]
  },
  {
   "cell_type": "code",
   "execution_count": 94,
   "metadata": {},
   "outputs": [
    {
     "data": {
      "text/html": [
       "<strong>png:</strong> 2"
      ],
      "text/latex": [
       "\\textbf{png:} 2"
      ],
      "text/markdown": [
       "**png:** 2"
      ],
      "text/plain": [
       "png \n",
       "  2 "
      ]
     },
     "metadata": {},
     "output_type": "display_data"
    },
    {
     "data": {
      "image/png": "[encoded data removed]",
      "text/plain": [
       "plot without title"
      ]
     },
     "metadata": {},
     "output_type": "display_data"
    }
   ],
   "source": [
    "acc <- ggplot(data.frame(threshold),aes(threshold[,1],threshold[,2]))+geom_line(aes(color=\"Accuracy\"))+\n",
    "    labs(color=\" \") + \n",
    "    ylab(\"accuracy value\") + xlab(\"threshold\")\n",
    "pre <- ggplot(data.frame(threshold),aes(threshold[,1],threshold[,3]))+geom_line(aes(color=\"PRE\"))+\n",
    "    labs(color=\" \") + \n",
    "    ylab(\"pre value\") + xlab(\"threshold\")\n",
    "f1 <- ggplot(data.frame(threshold),aes(threshold[,1],threshold[,4]))+geom_line(aes(color=\"F1\"))+\n",
    "    labs(color=\" \") + \n",
    "    ylab(\"f1 value\") + xlab(\"threshold\")\n",
    "png(\"evaluation_log_threshold_bal.png\") \n",
    "myplot <- ggarrange(acc, pre, f1 + rremove(\"x.text\"), \n",
    "          labels = c(\"ACC\", \"PRE\", \"F1\"),\n",
    "          ncol = 2, nrow = 2)\n",
    "print(myplot)\n",
    "dev.off()\n",
    "print(myplot)"
   ]
  },
  {
   "cell_type": "code",
   "execution_count": 21,
   "metadata": {},
   "outputs": [],
   "source": [
    "#ols_model <- glm(y ~ X[,-c(1)], family=binomial(link='logit'))"
   ]
  },
  {
   "cell_type": "code",
   "execution_count": 22,
   "metadata": {},
   "outputs": [],
   "source": [
    "#stargazer(ols_model)"
   ]
  },
  {
   "cell_type": "markdown",
   "metadata": {},
   "source": [
    "## marginal effects"
   ]
  },
  {
   "cell_type": "code",
   "execution_count": 52,
   "metadata": {},
   "outputs": [],
   "source": [
    "range <- seq(-4, 2, length.out = 20)\n",
    "sel <- 7\n",
    "plot.data <- matrix(NA, nrow = length(range), ncol = ncol(test[,-1]))\n",
    "for(i in 1:ncol(test[,-1])){\n",
    "    plot.data[,i] <- mean(test[,i])\n",
    "}\n",
    "for(i in 1:length(range)){\n",
    "    plot.data[i, sel] <- range[i]\n",
    "}"
   ]
  },
  {
   "cell_type": "code",
   "execution_count": 50,
   "metadata": {},
   "outputs": [],
   "source": [
    "mu <- as.matrix(cbind(1, plot.data)) %*% res$par\n",
    "p <- 1/(1 + exp(-mu))"
   ]
  },
  {
   "cell_type": "code",
   "execution_count": 51,
   "metadata": {},
   "outputs": [],
   "source": [
    "df <- data.frame(cbind(range, p))"
   ]
  },
  {
   "cell_type": "code",
   "execution_count": 53,
   "metadata": {},
   "outputs": [
    {
     "data": {
      "text/html": [
       "<strong>png:</strong> 2"
      ],
      "text/latex": [
       "\\textbf{png:} 2"
      ],
      "text/markdown": [
       "**png:** 2"
      ],
      "text/plain": [
       "png \n",
       "  2 "
      ]
     },
     "metadata": {},
     "output_type": "display_data"
    },
    {
     "data": {
      "image/png": "[encoded data removed]",
      "text/plain": [
       "plot without title"
      ]
     },
     "metadata": {},
     "output_type": "display_data"
    }
   ],
   "source": [
    "png(\"log-age-volact.png\")\n",
    "myplot <- ggplot(df,aes(x = df[,1], y = df[,2], ymin = 0, ymax = 0)) + \n",
    "    geom_pointrange(col = \"maroon3\") + \n",
    "    ylab(\"Predicted Probability of Voluntary Action\") + \n",
    "    xlab(\"Year of Birth (Scaled)\") + \n",
    "    ggtitle(\"Logistic Regression: \\n Predicted Probabilites of Voluntary Action for a range of Year of Births\") + \n",
    "    scale_x_continuous(breaks = range) + \n",
    "    theme_bw() \n",
    "print(myplot)\n",
    "dev.off()\n",
    "print(myplot)"
   ]
  },
  {
   "cell_type": "markdown",
   "metadata": {},
   "source": [
    "## hier beginnen die NN modelle"
   ]
  },
  {
   "cell_type": "code",
   "execution_count": 90,
   "metadata": {},
   "outputs": [],
   "source": [
    "m <- neuralnet(volact ~ sclmeet, \n",
    "              train, hidden = 1)"
   ]
  },
  {
   "cell_type": "code",
   "execution_count": 91,
   "metadata": {},
   "outputs": [],
   "source": [
    "p <- compute(m, test[,13])"
   ]
  },
  {
   "cell_type": "code",
   "execution_count": 92,
   "metadata": {},
   "outputs": [],
   "source": [
    "predictions <- p$net.result"
   ]
  },
  {
   "cell_type": "code",
   "execution_count": 93,
   "metadata": {},
   "outputs": [
    {
     "name": "stdout",
     "output_type": "stream",
     "text": [
      "             [,1]\n",
      "[1,] 0.1504734077\n"
     ]
    }
   ],
   "source": [
    "print(cor(predictions, test$volact))"
   ]
  },
  {
   "cell_type": "code",
   "execution_count": 94,
   "metadata": {},
   "outputs": [
    {
     "data": {
      "text/html": [
       "0.533716440693185"
      ],
      "text/latex": [
       "0.533716440693185"
      ],
      "text/markdown": [
       "0.533716440693185"
      ],
      "text/plain": [
       "[1] 0.5337164407"
      ]
     },
     "metadata": {},
     "output_type": "display_data"
    },
    {
     "data": {
      "text/html": [
       "0.172298374242907"
      ],
      "text/latex": [
       "0.172298374242907"
      ],
      "text/markdown": [
       "0.172298374242907"
      ],
      "text/plain": [
       "[1] 0.1722983742"
      ]
     },
     "metadata": {},
     "output_type": "display_data"
    }
   ],
   "source": [
    "result <- ifelse(predictions >= 0.3, 1, 0)\n",
    "F1(table(result, test$volact))\n",
    "PRE(table(result, test$volact))"
   ]
  },
  {
   "cell_type": "code",
   "execution_count": 95,
   "metadata": {},
   "outputs": [
    {
     "data": {
      "image/png": "[encoded data removed]",
      "text/plain": [
       "plot without title"
      ]
     },
     "metadata": {},
     "output_type": "display_data"
    }
   ],
   "source": [
    "plot.nnet(m)"
   ]
  },
  {
   "cell_type": "code",
   "execution_count": 34,
   "metadata": {},
   "outputs": [],
   "source": [
    "m2 <- neuralnet(volact ~ sclmeet + social_trust + tolerance + self_realisation + solidarity, \n",
    "              train, hidden = 2)"
   ]
  },
  {
   "cell_type": "code",
   "execution_count": 35,
   "metadata": {},
   "outputs": [],
   "source": [
    "p2 <- compute(m2, test[,c(13, 14, 15, 16, 17)])"
   ]
  },
  {
   "cell_type": "code",
   "execution_count": 36,
   "metadata": {},
   "outputs": [],
   "source": [
    "predictions2 <- p2$net.result"
   ]
  },
  {
   "cell_type": "code",
   "execution_count": 37,
   "metadata": {},
   "outputs": [
    {
     "name": "stdout",
     "output_type": "stream",
     "text": [
      "             [,1]\n",
      "[1,] 0.2191669913\n"
     ]
    }
   ],
   "source": [
    "print(cor(predictions2, test$volact))"
   ]
  },
  {
   "cell_type": "code",
   "execution_count": 41,
   "metadata": {},
   "outputs": [],
   "source": [
    "result3 <- ifelse(predictions2 >= 0.3, 1, 0)\n",
    "result2 <- ifelse(predictions2 >= 0.2, 1, 0)\n",
    "result4 <- ifelse(predictions2 >= 0.4, 1, 0)"
   ]
  },
  {
   "cell_type": "code",
   "execution_count": 51,
   "metadata": {},
   "outputs": [
    {
     "data": {
      "text/html": [
       "0.624278647980214"
      ],
      "text/latex": [
       "0.624278647980214"
      ],
      "text/markdown": [
       "0.624278647980214"
      ],
      "text/plain": [
       "[1] 0.624278648"
      ]
     },
     "metadata": {},
     "output_type": "display_data"
    },
    {
     "data": {
      "text/html": [
       "0.460650887573964"
      ],
      "text/latex": [
       "0.460650887573964"
      ],
      "text/markdown": [
       "0.460650887573964"
      ],
      "text/plain": [
       "[1] 0.4606508876"
      ]
     },
     "metadata": {},
     "output_type": "display_data"
    },
    {
     "data": {
      "text/html": [
       "0.418871533312082"
      ],
      "text/latex": [
       "0.418871533312082"
      ],
      "text/markdown": [
       "0.418871533312082"
      ],
      "text/plain": [
       "[1] 0.4188715333"
      ]
     },
     "metadata": {},
     "output_type": "display_data"
    }
   ],
   "source": [
    "ACC(table(result4, test$volact))\n",
    "F1(table(result4, test$volact))\n",
    "PRE(table(result4, test$volact))"
   ]
  },
  {
   "cell_type": "code",
   "execution_count": 52,
   "metadata": {},
   "outputs": [
    {
     "data": {
      "text/html": [
       "<strong>png:</strong> 2"
      ],
      "text/latex": [
       "\\textbf{png:} 2"
      ],
      "text/markdown": [
       "**png:** 2"
      ],
      "text/plain": [
       "png \n",
       "  2 "
      ]
     },
     "metadata": {},
     "output_type": "display_data"
    }
   ],
   "source": [
    "png(\"more-complex_nn.png\", width = 800, height = 600)\n",
    "plot.nnet(m2)\n",
    "dev.off()"
   ]
  },
  {
   "cell_type": "code",
   "execution_count": 68,
   "metadata": {},
   "outputs": [],
   "source": [
    "m3 <- neuralnet(volact ~ round1 + female + yrbrn + eduyrs + domicil + married + \n",
    "               children + houseperson + wkhtot + church + sclmeet + social_trust + \n",
    "               tolerance + self_realisation + solidarity + tvpol + tvtot + \n",
    "               political_interest + trust_exe + trust_leg + trstep + stfdem, \n",
    "               train, hidden = 1)"
   ]
  },
  {
   "cell_type": "code",
   "execution_count": 70,
   "metadata": {},
   "outputs": [],
   "source": [
    "p3 <- compute(m3, test[,-c(1, 2, 25)])"
   ]
  },
  {
   "cell_type": "code",
   "execution_count": 71,
   "metadata": {},
   "outputs": [],
   "source": [
    "predictions3 <- p3$net.result"
   ]
  },
  {
   "cell_type": "code",
   "execution_count": 72,
   "metadata": {},
   "outputs": [
    {
     "name": "stdout",
     "output_type": "stream",
     "text": [
      "             [,1]\n",
      "[1,] 0.3230475632\n"
     ]
    }
   ],
   "source": [
    "print(cor(predictions3, test$volact))"
   ]
  },
  {
   "cell_type": "code",
   "execution_count": 83,
   "metadata": {},
   "outputs": [
    {
     "ename": "ERROR",
     "evalue": "Error in plot.nnet(m3): konnte Funktion \"plot.nnet\" nicht finden\n",
     "execution_count": 83,
     "output_type": "error",
     "traceback": [
      "Error in plot.nnet(m3): konnte Funktion \"plot.nnet\" nicht finden\nTraceback:\n"
     ]
    }
   ],
   "source": [
    "#library(nnet)\n",
    "png(\"total-input_nn.png\", width = 800, height = 600)\n",
    "plot.nnet(m3)\n",
    "dev.off()"
   ]
  },
  {
   "cell_type": "markdown",
   "metadata": {},
   "source": [
    "> **under construction** \n",
    "\n",
    "> vllt wäre es sinnvoll, solche komplexen modelle dann in keras/tensorflow zu machen"
   ]
  },
  {
   "cell_type": "code",
   "execution_count": null,
   "metadata": {},
   "outputs": [],
   "source": [
    "#m <- neuralnet(volact ~ round1 + female + yrbrn + eduyrs + domicil + married + \n",
    "#               children + houseperson + wkhtot + church + sclmeet + social_trust + \n",
    "#               tolerance + self_realisation + solidarity + tvpol + tvtot + \n",
    "#               political_interest + trust_exe + trust_leg + trstep + stfdem, \n",
    "#               train, hidden = 3)"
   ]
  },
  {
   "cell_type": "markdown",
   "metadata": {},
   "source": [
    "## ab hier mit **keras** und **tensorflow**"
   ]
  },
  {
   "cell_type": "code",
   "execution_count": 4,
   "metadata": {},
   "outputs": [
    {
     "name": "stderr",
     "output_type": "stream",
     "text": [
      "Warning message:\n",
      "\"package 'keras' was built under R version 3.4.4\""
     ]
    }
   ],
   "source": [
    "library(keras)"
   ]
  },
  {
   "cell_type": "code",
   "execution_count": 5,
   "metadata": {},
   "outputs": [
    {
     "name": "stdout",
     "output_type": "stream",
     "text": [
      "Using r-tensorflow conda environment for TensorFlow installation\n",
      "\n",
      "Installation complete.\n",
      "\n"
     ]
    }
   ],
   "source": [
    "install_keras()"
   ]
  },
  {
   "cell_type": "code",
   "execution_count": 19,
   "metadata": {},
   "outputs": [
    {
     "data": {
      "text/html": [
       "<ol class=list-inline>\n",
       "\t<li>87328</li>\n",
       "\t<li>23</li>\n",
       "</ol>\n"
      ],
      "text/latex": [
       "\\begin{enumerate*}\n",
       "\\item 87328\n",
       "\\item 23\n",
       "\\end{enumerate*}\n"
      ],
      "text/markdown": [
       "1. 87328\n",
       "2. 23\n",
       "\n",
       "\n"
      ],
      "text/plain": [
       "[1] 87328    23"
      ]
     },
     "metadata": {},
     "output_type": "display_data"
    },
    {
     "data": {
      "text/html": [
       "<ol class=list-inline>\n",
       "\t<li>9704</li>\n",
       "\t<li>23</li>\n",
       "</ol>\n"
      ],
      "text/latex": [
       "\\begin{enumerate*}\n",
       "\\item 9704\n",
       "\\item 23\n",
       "\\end{enumerate*}\n"
      ],
      "text/markdown": [
       "1. 9704\n",
       "2. 23\n",
       "\n",
       "\n"
      ],
      "text/plain": [
       "[1] 9704   23"
      ]
     },
     "metadata": {},
     "output_type": "display_data"
    }
   ],
   "source": [
    "dim(train)\n",
    "dim(test)"
   ]
  },
  {
   "cell_type": "code",
   "execution_count": 6,
   "metadata": {},
   "outputs": [],
   "source": [
    "train.target <- train$volact\n",
    "test.target <- test$volact"
   ]
  },
  {
   "cell_type": "code",
   "execution_count": 7,
   "metadata": {},
   "outputs": [],
   "source": [
    "train <- train[,-c(1, 2, 3)]\n",
    "test <- test[,-c(1, 2, 3)]"
   ]
  },
  {
   "cell_type": "code",
   "execution_count": 8,
   "metadata": {},
   "outputs": [],
   "source": [
    "model <- keras_model_sequential()"
   ]
  },
  {
   "cell_type": "code",
   "execution_count": 77,
   "metadata": {},
   "outputs": [],
   "source": [
    "model %>% layer_dense(units = 23, activation = \"softmax\", input_shape = c(23)) %>% \n",
    "    layer_dense(units = 1, activation = \"sigmoid\")"
   ]
  },
  {
   "cell_type": "code",
   "execution_count": 78,
   "metadata": {},
   "outputs": [],
   "source": [
    "model %>% compile(\n",
    "    loss = \"mean_squared_error\",\n",
    "    optimizer = \"adam\",\n",
    "    metrics = \"accuracy\")"
   ]
  },
  {
   "cell_type": "code",
   "execution_count": 46,
   "metadata": {},
   "outputs": [],
   "source": [
    "test.asmatrix <- data.matrix(test)"
   ]
  },
  {
   "cell_type": "code",
   "execution_count": 11,
   "metadata": {},
   "outputs": [],
   "source": [
    "train.asmatrix <- data.matrix(train)"
   ]
  },
  {
   "cell_type": "code",
   "execution_count": 28,
   "metadata": {},
   "outputs": [
    {
     "data": {
      "text/html": [
       "<table>\n",
       "<thead><tr><th></th><th scope=col>round1</th><th scope=col>female</th><th scope=col>yrbrn</th><th scope=col>eduyrs</th><th scope=col>domicil</th><th scope=col>married</th><th scope=col>children</th><th scope=col>houseperson</th><th scope=col>wkhtot</th><th scope=col>church</th><th scope=col>...</th><th scope=col>self_realisation</th><th scope=col>solidarity</th><th scope=col>tvpol</th><th scope=col>tvtot</th><th scope=col>political_interest</th><th scope=col>trust_exe</th><th scope=col>trust_leg</th><th scope=col>trstep</th><th scope=col>stfdem</th><th scope=col>dweight</th></tr></thead>\n",
       "<tbody>\n",
       "\t<tr><th scope=row>27905</th><td>1            </td><td>-1.0754603   </td><td>-0.08133278  </td><td> 1.18402517  </td><td>-0.7113997   </td><td> 0.9599234   </td><td> 1.2465789   </td><td>-0.1840728   </td><td>0.9533704    </td><td> 0.2417382   </td><td>...          </td><td>-0.7954018   </td><td>-0.7986794   </td><td>-0.68740222  </td><td>-0.1375566   </td><td> 0.6838942   </td><td> 0.6129693   </td><td>-0.1840277   </td><td>-0.2100691   </td><td> 1.1026226   </td><td> 2.335403e+00</td></tr>\n",
       "\t<tr><th scope=row>76491</th><td>0            </td><td> 0.9305153   </td><td>-0.77043692  </td><td>-1.05284615  </td><td> 0.9269004   </td><td> 0.9599234   </td><td> 1.2465789   </td><td>-0.1840728   </td><td>0.6707508    </td><td> 1.5369295   </td><td>...          </td><td> 1.1026080   </td><td> 1.2495466   </td><td> 3.59538508  </td><td> 1.3162940   </td><td> 1.7828335   </td><td> 0.4095847   </td><td>-1.2529655   </td><td>-1.0612099   </td><td>-0.1206780   </td><td> 2.100667e-05</td></tr>\n",
       "\t<tr><th scope=row>39684</th><td>1            </td><td>-1.0754603   </td><td>-0.87645294  </td><td>-1.30138741  </td><td> 0.1077504   </td><td> 0.9599234   </td><td>-0.8044838   </td><td>-0.1840728   </td><td>0.2185595    </td><td>-0.4058574   </td><td>...          </td><td>-0.7954018   </td><td>-0.7986794   </td><td> 0.02639567  </td><td> 0.3470603   </td><td>-0.4150452   </td><td> 0.2062001   </td><td>-0.1840277   </td><td>-1.0612099   </td><td>-0.1206780   </td><td> 2.100667e-05</td></tr>\n",
       "\t<tr><th scope=row>85679</th><td>0            </td><td> 0.9305153   </td><td>-1.14149299  </td><td>-0.05868112  </td><td>-1.5305498   </td><td>-1.0677190   </td><td>-0.8044838   </td><td>-0.1840728   </td><td>0.5011791    </td><td>-0.4058574   </td><td>...          </td><td> 0.1536031   </td><td> 0.2254336   </td><td> 0.74019355  </td><td> 1.3162940   </td><td> 0.6838942   </td><td>-0.2005690   </td><td>-0.3978152   </td><td>-1.0612099   </td><td>-0.1206780   </td><td>-2.069303e+00</td></tr>\n",
       "\t<tr><th scope=row>91252</th><td>0            </td><td> 0.9305153   </td><td> 1.08484346  </td><td> 0.00000000  </td><td> 0.9269004   </td><td>-1.0677190   </td><td>-0.8044838   </td><td>-0.1840728   </td><td>0.2185595    </td><td>-1.0534530   </td><td>...          </td><td> 0.1536031   </td><td> 0.2254336   </td><td> 0.02639567  </td><td>-0.6221735   </td><td>-0.4150452   </td><td>-0.8107228   </td><td>-0.3978152   </td><td>-0.6356395   </td><td>-0.5284449   </td><td> 2.100667e-05</td></tr>\n",
       "\t<tr><th scope=row>4421</th><td>1            </td><td> 0.9305153   </td><td>-0.39938084  </td><td> 0.93548391  </td><td> 0.9269004   </td><td>-1.0677190   </td><td>-0.8044838   </td><td>-0.1840728   </td><td>0.8403225    </td><td>-1.0534530   </td><td>...          </td><td> 1.1026080   </td><td> 0.2254336   </td><td> 0.74019355  </td><td>-0.6221735   </td><td> 1.7828335   </td><td>-0.2005690   </td><td>-0.1840277   </td><td>-0.6356395   </td><td> 1.1026226   </td><td> 1.492933e-01</td></tr>\n",
       "</tbody>\n",
       "</table>\n"
      ],
      "text/latex": [
       "\\begin{tabular}{r|lllllllllllllllllllllll}\n",
       "  & round1 & female & yrbrn & eduyrs & domicil & married & children & houseperson & wkhtot & church & ... & self\\_realisation & solidarity & tvpol & tvtot & political\\_interest & trust\\_exe & trust\\_leg & trstep & stfdem & dweight\\\\\n",
       "\\hline\n",
       "\t27905 & 1             & -1.0754603    & -0.08133278   &  1.18402517   & -0.7113997    &  0.9599234    &  1.2465789    & -0.1840728    & 0.9533704     &  0.2417382    & ...           & -0.7954018    & -0.7986794    & -0.68740222   & -0.1375566    &  0.6838942    &  0.6129693    & -0.1840277    & -0.2100691    &  1.1026226    &  2.335403e+00\\\\\n",
       "\t76491 & 0             &  0.9305153    & -0.77043692   & -1.05284615   &  0.9269004    &  0.9599234    &  1.2465789    & -0.1840728    & 0.6707508     &  1.5369295    & ...           &  1.1026080    &  1.2495466    &  3.59538508   &  1.3162940    &  1.7828335    &  0.4095847    & -1.2529655    & -1.0612099    & -0.1206780    &  2.100667e-05\\\\\n",
       "\t39684 & 1             & -1.0754603    & -0.87645294   & -1.30138741   &  0.1077504    &  0.9599234    & -0.8044838    & -0.1840728    & 0.2185595     & -0.4058574    & ...           & -0.7954018    & -0.7986794    &  0.02639567   &  0.3470603    & -0.4150452    &  0.2062001    & -0.1840277    & -1.0612099    & -0.1206780    &  2.100667e-05\\\\\n",
       "\t85679 & 0             &  0.9305153    & -1.14149299   & -0.05868112   & -1.5305498    & -1.0677190    & -0.8044838    & -0.1840728    & 0.5011791     & -0.4058574    & ...           &  0.1536031    &  0.2254336    &  0.74019355   &  1.3162940    &  0.6838942    & -0.2005690    & -0.3978152    & -1.0612099    & -0.1206780    & -2.069303e+00\\\\\n",
       "\t91252 & 0             &  0.9305153    &  1.08484346   &  0.00000000   &  0.9269004    & -1.0677190    & -0.8044838    & -0.1840728    & 0.2185595     & -1.0534530    & ...           &  0.1536031    &  0.2254336    &  0.02639567   & -0.6221735    & -0.4150452    & -0.8107228    & -0.3978152    & -0.6356395    & -0.5284449    &  2.100667e-05\\\\\n",
       "\t4421 & 1             &  0.9305153    & -0.39938084   &  0.93548391   &  0.9269004    & -1.0677190    & -0.8044838    & -0.1840728    & 0.8403225     & -1.0534530    & ...           &  1.1026080    &  0.2254336    &  0.74019355   & -0.6221735    &  1.7828335    & -0.2005690    & -0.1840277    & -0.6356395    &  1.1026226    &  1.492933e-01\\\\\n",
       "\\end{tabular}\n"
      ],
      "text/markdown": [
       "\n",
       "| <!--/--> | round1 | female | yrbrn | eduyrs | domicil | married | children | houseperson | wkhtot | church | ... | self_realisation | solidarity | tvpol | tvtot | political_interest | trust_exe | trust_leg | trstep | stfdem | dweight | \n",
       "|---|---|---|---|---|---|\n",
       "| 27905 | 1             | -1.0754603    | -0.08133278   |  1.18402517   | -0.7113997    |  0.9599234    |  1.2465789    | -0.1840728    | 0.9533704     |  0.2417382    | ...           | -0.7954018    | -0.7986794    | -0.68740222   | -0.1375566    |  0.6838942    |  0.6129693    | -0.1840277    | -0.2100691    |  1.1026226    |  2.335403e+00 | \n",
       "| 76491 | 0             |  0.9305153    | -0.77043692   | -1.05284615   |  0.9269004    |  0.9599234    |  1.2465789    | -0.1840728    | 0.6707508     |  1.5369295    | ...           |  1.1026080    |  1.2495466    |  3.59538508   |  1.3162940    |  1.7828335    |  0.4095847    | -1.2529655    | -1.0612099    | -0.1206780    |  2.100667e-05 | \n",
       "| 39684 | 1             | -1.0754603    | -0.87645294   | -1.30138741   |  0.1077504    |  0.9599234    | -0.8044838    | -0.1840728    | 0.2185595     | -0.4058574    | ...           | -0.7954018    | -0.7986794    |  0.02639567   |  0.3470603    | -0.4150452    |  0.2062001    | -0.1840277    | -1.0612099    | -0.1206780    |  2.100667e-05 | \n",
       "| 85679 | 0             |  0.9305153    | -1.14149299   | -0.05868112   | -1.5305498    | -1.0677190    | -0.8044838    | -0.1840728    | 0.5011791     | -0.4058574    | ...           |  0.1536031    |  0.2254336    |  0.74019355   |  1.3162940    |  0.6838942    | -0.2005690    | -0.3978152    | -1.0612099    | -0.1206780    | -2.069303e+00 | \n",
       "| 91252 | 0             |  0.9305153    |  1.08484346   |  0.00000000   |  0.9269004    | -1.0677190    | -0.8044838    | -0.1840728    | 0.2185595     | -1.0534530    | ...           |  0.1536031    |  0.2254336    |  0.02639567   | -0.6221735    | -0.4150452    | -0.8107228    | -0.3978152    | -0.6356395    | -0.5284449    |  2.100667e-05 | \n",
       "| 4421 | 1             |  0.9305153    | -0.39938084   |  0.93548391   |  0.9269004    | -1.0677190    | -0.8044838    | -0.1840728    | 0.8403225     | -1.0534530    | ...           |  1.1026080    |  0.2254336    |  0.74019355   | -0.6221735    |  1.7828335    | -0.2005690    | -0.1840277    | -0.6356395    |  1.1026226    |  1.492933e-01 | \n",
       "\n",
       "\n"
      ],
      "text/plain": [
       "      round1 female     yrbrn       eduyrs      domicil    married   \n",
       "27905 1      -1.0754603 -0.08133278  1.18402517 -0.7113997  0.9599234\n",
       "76491 0       0.9305153 -0.77043692 -1.05284615  0.9269004  0.9599234\n",
       "39684 1      -1.0754603 -0.87645294 -1.30138741  0.1077504  0.9599234\n",
       "85679 0       0.9305153 -1.14149299 -0.05868112 -1.5305498 -1.0677190\n",
       "91252 0       0.9305153  1.08484346  0.00000000  0.9269004 -1.0677190\n",
       "4421  1       0.9305153 -0.39938084  0.93548391  0.9269004 -1.0677190\n",
       "      children   houseperson wkhtot    church     ... self_realisation\n",
       "27905  1.2465789 -0.1840728  0.9533704  0.2417382 ... -0.7954018      \n",
       "76491  1.2465789 -0.1840728  0.6707508  1.5369295 ...  1.1026080      \n",
       "39684 -0.8044838 -0.1840728  0.2185595 -0.4058574 ... -0.7954018      \n",
       "85679 -0.8044838 -0.1840728  0.5011791 -0.4058574 ...  0.1536031      \n",
       "91252 -0.8044838 -0.1840728  0.2185595 -1.0534530 ...  0.1536031      \n",
       "4421  -0.8044838 -0.1840728  0.8403225 -1.0534530 ...  1.1026080      \n",
       "      solidarity tvpol       tvtot      political_interest trust_exe \n",
       "27905 -0.7986794 -0.68740222 -0.1375566  0.6838942          0.6129693\n",
       "76491  1.2495466  3.59538508  1.3162940  1.7828335          0.4095847\n",
       "39684 -0.7986794  0.02639567  0.3470603 -0.4150452          0.2062001\n",
       "85679  0.2254336  0.74019355  1.3162940  0.6838942         -0.2005690\n",
       "91252  0.2254336  0.02639567 -0.6221735 -0.4150452         -0.8107228\n",
       "4421   0.2254336  0.74019355 -0.6221735  1.7828335         -0.2005690\n",
       "      trust_leg  trstep     stfdem     dweight      \n",
       "27905 -0.1840277 -0.2100691  1.1026226  2.335403e+00\n",
       "76491 -1.2529655 -1.0612099 -0.1206780  2.100667e-05\n",
       "39684 -0.1840277 -1.0612099 -0.1206780  2.100667e-05\n",
       "85679 -0.3978152 -1.0612099 -0.1206780 -2.069303e+00\n",
       "91252 -0.3978152 -0.6356395 -0.5284449  2.100667e-05\n",
       "4421  -0.1840277 -0.6356395  1.1026226  1.492933e-01"
      ]
     },
     "metadata": {},
     "output_type": "display_data"
    }
   ],
   "source": [
    "head(train.asmatrix)"
   ]
  },
  {
   "cell_type": "code",
   "execution_count": 79,
   "metadata": {},
   "outputs": [],
   "source": [
    "history <- model %>% fit(\n",
    "    train.asmatrix,\n",
    "    train.target,\n",
    "    epochs = 100,\n",
    "    batch_size = 900,\n",
    "    validation_split = 0.2,\n",
    "    verbose = 1)"
   ]
  },
  {
   "cell_type": "code",
   "execution_count": 54,
   "metadata": {},
   "outputs": [
    {
     "data": {},
     "metadata": {},
     "output_type": "display_data"
    },
    {
     "ename": "ERROR",
     "evalue": "Error in png(tf, width, height, \"in\", pointsize, bg, res, antialias = antialias): kann png()-Gerät nicht starten\n",
     "execution_count": 54,
     "output_type": "error",
     "traceback": [
      "Error in png(tf, width, height, \"in\", pointsize, bg, res, antialias = antialias): kann png()-Gerät nicht starten\nTraceback:\n"
     ]
    },
    {
     "data": {
      "text/plain": [
       "plot without title"
      ]
     },
     "metadata": {},
     "output_type": "display_data"
    }
   ],
   "source": [
    "plot(history, to_file='model.png', show_shapes=False, show_layer_names=True, rankdir='TB')"
   ]
  },
  {
   "cell_type": "code",
   "execution_count": 75,
   "metadata": {},
   "outputs": [],
   "source": [
    "classes <- model %>% predict_classes(test.asmatrix, batch_size = 128)"
   ]
  },
  {
   "cell_type": "code",
   "execution_count": 76,
   "metadata": {},
   "outputs": [
    {
     "data": {
      "text/plain": [
       "           classes\n",
       "test.target    0\n",
       "          0 6274\n",
       "          1 3430"
      ]
     },
     "metadata": {},
     "output_type": "display_data"
    }
   ],
   "source": [
    "table(test.target, classes)"
   ]
  },
  {
   "cell_type": "code",
   "execution_count": 73,
   "metadata": {},
   "outputs": [
    {
     "name": "stdout",
     "output_type": "stream",
     "text": [
      "$loss\n",
      "[1] 0.6497262\n",
      "\n",
      "$acc\n",
      "[1] 0.6465375\n",
      "\n"
     ]
    }
   ],
   "source": [
    "score <- model %>% evaluate(test.asmatrix, test.target, batch_size = 1000)\n",
    "print(score)"
   ]
  },
  {
   "cell_type": "code",
   "execution_count": null,
   "metadata": {},
   "outputs": [],
   "source": []
  }
 ],
 "metadata": {
  "kernelspec": {
   "display_name": "R",
   "language": "R",
   "name": "ir"
  },
  "language_info": {
   "codemirror_mode": "r",
   "file_extension": ".r",
   "mimetype": "text/x-r-source",
   "name": "R",
   "pygments_lexer": "r",
   "version": "3.4.1"
  }
 },
 "nbformat": 4,
 "nbformat_minor": 2
}
