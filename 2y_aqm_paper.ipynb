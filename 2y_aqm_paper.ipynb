{
 "cells": [
  {
   "cell_type": "markdown",
   "metadata": {},
   "source": [
    "# what happens if I split the years and run the algos separately?"
   ]
  },
  {
   "cell_type": "code",
   "execution_count": 1,
   "metadata": {},
   "outputs": [
    {
     "name": "stderr",
     "output_type": "stream",
     "text": [
      "Warning message:\n",
      "\"package 'neuralnet' was built under R version 3.4.4\"Warning message:\n",
      "\"package 'devtools' was built under R version 3.4.3\"\n",
      "Please cite as: \n",
      "\n",
      " Hlavac, Marek (2015). stargazer: Well-Formatted Regression and Summary Statistics Tables.\n",
      " R package version 5.2. http://CRAN.R-project.org/package=stargazer \n",
      "\n"
     ]
    }
   ],
   "source": [
    "library(neuralnet)\n",
    "#library(rms)\n",
    "library(devtools)\n",
    "library(stargazer)"
   ]
  },
  {
   "cell_type": "code",
   "execution_count": 2,
   "metadata": {},
   "outputs": [
    {
     "name": "stderr",
     "output_type": "stream",
     "text": [
      "Loading required package: bitops\n",
      "Warning message:\n",
      "\"package 'caret' was built under R version 3.4.4\"Loading required package: lattice\n",
      "Loading required package: ggplot2\n",
      "Warning message:\n",
      "\"package 'ggplot2' was built under R version 3.4.4\"Warning message:\n",
      "\"package 'e1071' was built under R version 3.4.3\"Warning message:\n",
      "\"package 'h2o' was built under R version 3.4.4\"\n",
      "----------------------------------------------------------------------\n",
      "\n",
      "Your next step is to start H2O:\n",
      "    > h2o.init()\n",
      "\n",
      "For H2O package documentation, ask for help:\n",
      "    > ??h2o\n",
      "\n",
      "After starting H2O, you can use the Web UI at http://localhost:54321\n",
      "For more information visit http://docs.h2o.ai\n",
      "\n",
      "----------------------------------------------------------------------\n",
      "\n",
      "\n",
      "Attaching package: 'h2o'\n",
      "\n",
      "The following objects are masked from 'package:stats':\n",
      "\n",
      "    cor, sd, var\n",
      "\n",
      "The following objects are masked from 'package:base':\n",
      "\n",
      "    %*%, %in%, &&, ||, apply, as.factor, as.numeric, colnames,\n",
      "    colnames<-, ifelse, is.character, is.factor, is.numeric, log,\n",
      "    log10, log1p, log2, round, signif, trunc\n",
      "\n",
      "Warning message:\n",
      "\"package 'statmod' was built under R version 3.4.4\"Warning message:\n",
      "\"package 'corrplot' was built under R version 3.4.4\"corrplot 0.84 loaded\n",
      "\n",
      "Attaching package: 'data.table'\n",
      "\n",
      "The following objects are masked from 'package:h2o':\n",
      "\n",
      "    hour, month, week, year\n",
      "\n",
      "Warning message:\n",
      "\"package 'ROSE' was built under R version 3.4.4\"Loaded ROSE 0.0-3\n",
      "\n"
     ]
    }
   ],
   "source": [
    "library(RCurl)\n",
    "library(jsonlite)\n",
    "library(caret)\n",
    "library(ggplot2)\n",
    "library(e1071)\n",
    "library(h2o)\n",
    "library(statmod)\n",
    "library(MASS)\n",
    "library(corrplot)\n",
    "library(data.table)\n",
    "library(ROSE)"
   ]
  },
  {
   "cell_type": "markdown",
   "metadata": {},
   "source": [
    "# data preparation"
   ]
  },
  {
   "cell_type": "code",
   "execution_count": 4,
   "metadata": {},
   "outputs": [],
   "source": [
    "# loading the data\n",
    "ess1 <- read.table(\"C:/Users/laris/Desktop/MMDS/Semester3-FSS2018/Advanced-Quantitative-Methods/paper/ess1_with-vars-nolabel.csv\", header=TRUE, sep=\",\") "
   ]
  },
  {
   "cell_type": "code",
   "execution_count": 5,
   "metadata": {},
   "outputs": [],
   "source": [
    "ess6 <- read.table(\"C:/Users/laris/Desktop/MMDS/Semester3-FSS2018/Advanced-Quantitative-Methods/paper/ess6_with-vars-nolabel.csv\", header=TRUE, sep=\",\") "
   ]
  },
  {
   "cell_type": "code",
   "execution_count": 6,
   "metadata": {},
   "outputs": [],
   "source": [
    "for(i in c(4,5,6,10,11,12,13,14,15,16,17,18,19,20,21,22,23)){\n",
    "    ess1[is.na(ess1[,i]), i] <- mean(ess1[,i], na.rm = TRUE)\n",
    "}"
   ]
  },
  {
   "cell_type": "code",
   "execution_count": 7,
   "metadata": {},
   "outputs": [],
   "source": [
    "ess1[is.na(ess1[,3]), 3] <- 1\n",
    "ess1[is.na(ess1[,7]), 7] <- 1\n",
    "ess1[is.na(ess1[,8]), 8] <- 0\n",
    "ess1[is.na(ess1[,9]), 9] <- 0"
   ]
  },
  {
   "cell_type": "code",
   "execution_count": 8,
   "metadata": {},
   "outputs": [],
   "source": [
    "for(i in c(4,5,6,10,11,12,13,14,15,16,17,18,19,20,21,22,23)){\n",
    "    ess6[is.na(ess6[,i]), i] <- mean(ess6[,i], na.rm = TRUE)\n",
    "}"
   ]
  },
  {
   "cell_type": "code",
   "execution_count": 9,
   "metadata": {},
   "outputs": [],
   "source": [
    "ess6[is.na(ess6[,3]), 3] <- 1\n",
    "ess6[is.na(ess6[,7]), 7] <- 1\n",
    "ess6[is.na(ess6[,8]), 8] <- 0\n",
    "ess6[is.na(ess6[,9]), 9] <- 0"
   ]
  },
  {
   "cell_type": "code",
   "execution_count": 10,
   "metadata": {},
   "outputs": [],
   "source": [
    "ess1.scaled <- cbind(ess1[c(1, 3, 7, 8, 9)], scale(ess1[-c(1, 2, 3, 7, 8, 9, 24)]))"
   ]
  },
  {
   "cell_type": "code",
   "execution_count": 11,
   "metadata": {},
   "outputs": [],
   "source": [
    "ess1c.scaled <- cbind(ess1[c(1, 2, 3, 7, 8, 9)], scale(ess1[-c(1, 2, 3, 7, 8, 9, 24)]))"
   ]
  },
  {
   "cell_type": "code",
   "execution_count": 12,
   "metadata": {},
   "outputs": [],
   "source": [
    "ess6.scaled <- cbind(ess6[c(1, 3, 7, 8, 9)], scale(ess6[-c(1, 2, 3, 7, 8, 9, 24)]))"
   ]
  },
  {
   "cell_type": "code",
   "execution_count": 13,
   "metadata": {},
   "outputs": [],
   "source": [
    "ess6c.scaled <- cbind(ess6[c(1, 2, 3, 7, 8, 9)], scale(ess6[-c(1, 2, 3, 7, 8, 9, 24)]))"
   ]
  },
  {
   "cell_type": "code",
   "execution_count": 14,
   "metadata": {},
   "outputs": [],
   "source": [
    "for(t in unique(ess1c.scaled$cntry)) {\n",
    "    ess1c.scaled[paste(\"cntry\",t,sep=\"\")] <- ifelse(ess1c.scaled$cntry==t,1,0)\n",
    "}"
   ]
  },
  {
   "cell_type": "code",
   "execution_count": 15,
   "metadata": {},
   "outputs": [],
   "source": [
    "ess1c.scaled <- ess1c.scaled[,-2]"
   ]
  },
  {
   "cell_type": "code",
   "execution_count": 16,
   "metadata": {},
   "outputs": [],
   "source": [
    "for(t in unique(ess6c.scaled$cntry)) {\n",
    "    ess6c.scaled[paste(\"cntry\",t,sep=\"\")] <- ifelse(ess6c.scaled$cntry==t,1,0)\n",
    "}"
   ]
  },
  {
   "cell_type": "code",
   "execution_count": 17,
   "metadata": {},
   "outputs": [],
   "source": [
    "ess6c.scaled <- ess6c.scaled[,-2]"
   ]
  },
  {
   "cell_type": "code",
   "execution_count": 18,
   "metadata": {},
   "outputs": [],
   "source": [
    "write.csv(ess1.scaled, file = \"ess1-scaled.csv\")\n",
    "write.csv(ess1c.scaled, file = \"ess1-scaled-cntry.csv\")"
   ]
  },
  {
   "cell_type": "code",
   "execution_count": 19,
   "metadata": {},
   "outputs": [],
   "source": [
    "write.csv(ess6.scaled, file = \"ess6-scaled.csv\")\n",
    "write.csv(ess6c.scaled, file = \"ess6-scaled-cntry.csv\")"
   ]
  },
  {
   "cell_type": "code",
   "execution_count": 3,
   "metadata": {},
   "outputs": [],
   "source": [
    "PRE <- function(table){\n",
    "    tp <- table[2,2]\n",
    "    tn <- table[1,1]\n",
    "    fp <- table[2,1]\n",
    "    fn <- table[1,2]\n",
    "    PCP <- (tp + tn)/(tp + tn + fp + fn)\n",
    "    PMC <- max(tp + fn, tn + fp)/(tp + tn + fp + fn)\n",
    "    result <- (PCP - PMC)/(1 - PMC)\n",
    "    return(result)\n",
    "}"
   ]
  },
  {
   "cell_type": "code",
   "execution_count": 4,
   "metadata": {},
   "outputs": [],
   "source": [
    "F1 <- function(table){\n",
    "    tp <- table[2,2]\n",
    "    tn <- table[1,1]\n",
    "    fp <- table[2,1]\n",
    "    fn <- table[1,2]\n",
    "    precision <- tp / (tp + fp)\n",
    "    recall <- tp / (tp + fn)\n",
    "    result <- (2 * precision * recall) / (precision + recall)\n",
    "    return(result)\n",
    "}"
   ]
  },
  {
   "cell_type": "code",
   "execution_count": 5,
   "metadata": {},
   "outputs": [],
   "source": [
    "ACC <- function(table){\n",
    "    tp <- table[2,2]\n",
    "    tn <- table[1,1]\n",
    "    fp <- table[2,1]\n",
    "    fn <- table[1,2]\n",
    "    acc <- (tn + tp) / (tn + tp + fn + fp)\n",
    "    return(acc)\n",
    "}"
   ]
  },
  {
   "cell_type": "markdown",
   "metadata": {},
   "source": [
    "# data loading"
   ]
  },
  {
   "cell_type": "code",
   "execution_count": 6,
   "metadata": {},
   "outputs": [],
   "source": [
    "ess1.scaled <- read.table(\"ess1-scaled.csv\", header=TRUE, sep=\",\") \n",
    "ess6.scaled <- read.table(\"ess6-scaled.csv\", header=TRUE, sep=\",\") \n",
    "ess1c.scaled <- read.table(\"ess1-scaled-cntry.csv\", header=TRUE, sep=\",\") \n",
    "ess6c.scaled <- read.table(\"ess6-scaled-cntry.csv\", header=TRUE, sep=\",\") "
   ]
  },
  {
   "cell_type": "code",
   "execution_count": 7,
   "metadata": {},
   "outputs": [],
   "source": [
    "ess1.scaled <- ess1.scaled[,-1]\n",
    "ess6.scaled <- ess6.scaled[,-1]"
   ]
  },
  {
   "cell_type": "code",
   "execution_count": 8,
   "metadata": {},
   "outputs": [],
   "source": [
    "ess1c.scaled <- ess1c.scaled[,-1]\n",
    "ess6c.scaled <- ess6c.scaled[,-1]"
   ]
  },
  {
   "cell_type": "code",
   "execution_count": 9,
   "metadata": {},
   "outputs": [],
   "source": [
    "set.seed(123)\n",
    "smp_size <- floor(0.9 * nrow(ess1.scaled))\n",
    "train_ind <- sample(seq_len(nrow(ess1.scaled)), size = smp_size)\n",
    "train1 <- ess1.scaled[train_ind,]\n",
    "test1 <- ess1.scaled[-train_ind,]\n",
    "train1c <- ess1c.scaled[train_ind,]\n",
    "test1c <- ess1c.scaled[-train_ind,]"
   ]
  },
  {
   "cell_type": "code",
   "execution_count": 10,
   "metadata": {},
   "outputs": [],
   "source": [
    "set.seed(123)\n",
    "smp_size <- floor(0.9 * nrow(ess6.scaled))\n",
    "train_ind <- sample(seq_len(nrow(ess6.scaled)), size = smp_size)\n",
    "train6 <- ess6.scaled[train_ind,]\n",
    "test6 <- ess6.scaled[-train_ind,]\n",
    "train6c <- ess6c.scaled[train_ind,]\n",
    "test6c <- ess6c.scaled[-train_ind,]"
   ]
  },
  {
   "cell_type": "code",
   "execution_count": 28,
   "metadata": {},
   "outputs": [],
   "source": [
    "#train.balanced <- ovun.sample(volact ~ ., data = train, method = \"over\", N = 114264)$data"
   ]
  },
  {
   "cell_type": "code",
   "execution_count": 29,
   "metadata": {},
   "outputs": [],
   "source": [
    "#table(train.balanced$volact)"
   ]
  },
  {
   "cell_type": "markdown",
   "metadata": {},
   "source": [
    "# logistic regression"
   ]
  },
  {
   "cell_type": "code",
   "execution_count": 30,
   "metadata": {},
   "outputs": [],
   "source": [
    "ll_logit <- function(theta, y, X) {\n",
    "    \n",
    "  # theta consists merely of beta (dim is ncol(X))\n",
    "    beta <- theta[1:ncol(X)]\n",
    "    # linear predictor; make sure that X is stored as.matrix\n",
    "    mu <- X %*% beta\n",
    "    # response function\n",
    "    p <- 1/(1 + exp(-mu))\n",
    "    # log-likelihood\n",
    "    ll <- y * log(p) + (1 - y) * log(1 - p)\n",
    "    # sum\n",
    "    ll <- sum(ll)\n",
    "    return(ll)\n",
    "}"
   ]
  },
  {
   "cell_type": "code",
   "execution_count": 31,
   "metadata": {},
   "outputs": [],
   "source": [
    "y <- train1$volact\n",
    "X <- as.matrix(cbind(1, train1[,-1]))\n",
    "startvals <- c(rep(0, 22))\n",
    "res <- optim(par = startvals,fn = ll_logit, y = y, X = X,\n",
    "              control = list(fnscale = -1),\n",
    "              method = \"BFGS\"\n",
    "              ) "
   ]
  },
  {
   "cell_type": "code",
   "execution_count": 32,
   "metadata": {},
   "outputs": [],
   "source": [
    "X2 <- as.matrix(cbind(1, test1[,-1]))\n",
    "mu <- X2 %*% res$par\n",
    "p <- 1/(1 + exp(-mu))\n",
    "y_hat1 <- rbinom(nrow(p), 1, p)"
   ]
  },
  {
   "cell_type": "code",
   "execution_count": 33,
   "metadata": {},
   "outputs": [
    {
     "data": {
      "text/plain": [
       "      \n",
       "y_hat1    0    1\n",
       "     0 1978  860\n",
       "     1  863  535"
      ]
     },
     "metadata": {},
     "output_type": "display_data"
    },
    {
     "data": {
      "text/html": [
       "0.593248347497639"
      ],
      "text/latex": [
       "0.593248347497639"
      ],
      "text/markdown": [
       "0.593248347497639"
      ],
      "text/plain": [
       "[1] 0.5932483"
      ]
     },
     "metadata": {},
     "output_type": "display_data"
    },
    {
     "data": {
      "text/html": [
       "-0.235125448028674"
      ],
      "text/latex": [
       "-0.235125448028674"
      ],
      "text/markdown": [
       "-0.235125448028674"
      ],
      "text/plain": [
       "[1] -0.2351254"
      ]
     },
     "metadata": {},
     "output_type": "display_data"
    },
    {
     "data": {
      "text/html": [
       "0.383100608664518"
      ],
      "text/latex": [
       "0.383100608664518"
      ],
      "text/markdown": [
       "0.383100608664518"
      ],
      "text/plain": [
       "[1] 0.3831006"
      ]
     },
     "metadata": {},
     "output_type": "display_data"
    }
   ],
   "source": [
    "table(y_hat1, test1$volact)\n",
    "ACC(table(y_hat1, test1$volact))\n",
    "PRE(table(y_hat1, test1$volact))\n",
    "F1(table(y_hat1, test1$volact))"
   ]
  },
  {
   "cell_type": "code",
   "execution_count": 34,
   "metadata": {},
   "outputs": [],
   "source": [
    "y <- train6$volact\n",
    "X <- as.matrix(cbind(1, train6[,-1]))\n",
    "startvals <- c(rep(0, 22))\n",
    "res <- optim(par = startvals,fn = ll_logit, y = y, X = X,\n",
    "              control = list(fnscale = -1),\n",
    "              method = \"BFGS\"\n",
    "              ) "
   ]
  },
  {
   "cell_type": "code",
   "execution_count": 35,
   "metadata": {},
   "outputs": [],
   "source": [
    "X2 <- as.matrix(cbind(1, test6[,-1]))\n",
    "mu <- X2 %*% res$par\n",
    "p <- 1/(1 + exp(-mu))\n",
    "y_hat6 <- rbinom(nrow(p), 1, p)"
   ]
  },
  {
   "cell_type": "code",
   "execution_count": 36,
   "metadata": {},
   "outputs": [
    {
     "data": {
      "text/plain": [
       "      \n",
       "y_hat6    0    1\n",
       "     0 2392 1128\n",
       "     1 1078  870"
      ]
     },
     "metadata": {},
     "output_type": "display_data"
    },
    {
     "data": {
      "text/html": [
       "0.596561814191661"
      ],
      "text/latex": [
       "0.596561814191661"
      ],
      "text/markdown": [
       "0.596561814191661"
      ],
      "text/plain": [
       "[1] 0.5965618"
      ]
     },
     "metadata": {},
     "output_type": "display_data"
    },
    {
     "data": {
      "text/html": [
       "-0.104104104104104"
      ],
      "text/latex": [
       "-0.104104104104104"
      ],
      "text/markdown": [
       "-0.104104104104104"
      ],
      "text/plain": [
       "[1] -0.1041041"
      ]
     },
     "metadata": {},
     "output_type": "display_data"
    },
    {
     "data": {
      "text/html": [
       "0.440952863659402"
      ],
      "text/latex": [
       "0.440952863659402"
      ],
      "text/markdown": [
       "0.440952863659402"
      ],
      "text/plain": [
       "[1] 0.4409529"
      ]
     },
     "metadata": {},
     "output_type": "display_data"
    }
   ],
   "source": [
    "table(y_hat6, test6$volact)\n",
    "ACC(table(y_hat6, test6$volact))\n",
    "PRE(table(y_hat6, test6$volact))\n",
    "F1(table(y_hat6, test6$volact))"
   ]
  },
  {
   "cell_type": "markdown",
   "metadata": {},
   "source": [
    "# neural net"
   ]
  },
  {
   "cell_type": "code",
   "execution_count": 11,
   "metadata": {},
   "outputs": [
    {
     "name": "stdout",
     "output_type": "stream",
     "text": [
      "\n",
      "H2O is not running yet, starting it now...\n",
      "\n",
      "Note:  In case of errors look at the following log files:\n",
      "    C:\\Users\\laris\\AppData\\Local\\Temp\\RtmpsxUg2n/h2o_laris_started_from_r.out\n",
      "    C:\\Users\\laris\\AppData\\Local\\Temp\\RtmpsxUg2n/h2o_laris_started_from_r.err\n",
      "\n",
      "\n",
      "Starting H2O JVM and connecting: ... Connection successful!\n",
      "\n",
      "R is connected to the H2O cluster: \n",
      "    H2O cluster uptime:         9 seconds 461 milliseconds \n",
      "    H2O cluster timezone:       Europe/Berlin \n",
      "    H2O data parsing timezone:  UTC \n",
      "    H2O cluster version:        3.18.0.8 \n",
      "    H2O cluster version age:    1 month and 11 days  \n",
      "    H2O cluster name:           H2O_started_from_R_laris_pfs973 \n",
      "    H2O cluster total nodes:    1 \n",
      "    H2O cluster total memory:   1.66 GB \n",
      "    H2O cluster total cores:    4 \n",
      "    H2O cluster allowed cores:  4 \n",
      "    H2O cluster healthy:        TRUE \n",
      "    H2O Connection ip:          localhost \n",
      "    H2O Connection port:        54321 \n",
      "    H2O Connection proxy:       NA \n",
      "    H2O Internal Security:      FALSE \n",
      "    H2O API Extensions:         Algos, AutoML, Core V3, Core V4 \n",
      "    R Version:                  R version 3.4.1 (2017-06-30) \n",
      "\n"
     ]
    }
   ],
   "source": [
    "c1 <- h2o.init()"
   ]
  },
  {
   "cell_type": "code",
   "execution_count": 12,
   "metadata": {},
   "outputs": [
    {
     "name": "stdout",
     "output_type": "stream",
     "text": [
      "  |======================================================================| 100%\n",
      "  |======================================================================| 100%\n",
      "  |======================================================================| 100%\n",
      "  |======================================================================| 100%\n"
     ]
    }
   ],
   "source": [
    "train1$volact <- as.factor(train1$volact)\n",
    "test1$volact <- as.factor(test1$volact)\n",
    "train6$volact <- as.factor(train6$volact)\n",
    "test6$volact <- as.factor(test6$volact)\n",
    "\n",
    "h2o.train1 <- as.h2o(train1)\n",
    "h2o.test1 <- as.h2o(test1)\n",
    "h2o.train6 <- as.h2o(train6)\n",
    "h2o.test6 <- as.h2o(test6)"
   ]
  },
  {
   "cell_type": "code",
   "execution_count": 13,
   "metadata": {},
   "outputs": [
    {
     "name": "stdout",
     "output_type": "stream",
     "text": [
      "  |======================================================================| 100%\n",
      "  |======================================================================| 100%\n",
      "  |======================================================================| 100%\n",
      "  |======================================================================| 100%\n"
     ]
    }
   ],
   "source": [
    "train1c$volact <- as.factor(train1c$volact)\n",
    "test1c$volact <- as.factor(test1c$volact)\n",
    "train6c$volact <- as.factor(train6c$volact)\n",
    "test6c$volact <- as.factor(test6c$volact)\n",
    "\n",
    "h2o.train1c <- as.h2o(train1c)\n",
    "h2o.test1c <- as.h2o(test1c)\n",
    "h2o.train6c <- as.h2o(train6c)\n",
    "h2o.test6c <- as.h2o(test6c)"
   ]
  },
  {
   "cell_type": "code",
   "execution_count": 14,
   "metadata": {},
   "outputs": [],
   "source": [
    "xnames1 <- colnames(train1[,-1])\n",
    "xnames6 <- colnames(train6[,-1])"
   ]
  },
  {
   "cell_type": "code",
   "execution_count": 15,
   "metadata": {},
   "outputs": [],
   "source": [
    "xnames1c <- colnames(train1c[,-1])\n",
    "xnames6c <- colnames(train6c[,-1])"
   ]
  },
  {
   "cell_type": "code",
   "execution_count": 42,
   "metadata": {},
   "outputs": [
    {
     "name": "stdout",
     "output_type": "stream",
     "text": [
      "  |======================================================================| 100%\n",
      "  |======================================================================| 100%\n"
     ]
    }
   ],
   "source": [
    "nn1_1 <- h2o.deeplearning(\n",
    "  x = xnames1,\n",
    "  y = \"volact\",\n",
    "  training_frame = h2o.train1,\n",
    "  validation_frame = h2o.test1,\n",
    "  activation = \"Rectifier\",\n",
    "  hidden = c(200, 200, 100),\n",
    "  epochs = 10,\n",
    "  rate = .005,\n",
    "  loss = \"CrossEntropy\",\n",
    "  export_weights_and_biases = TRUE,\n",
    "  seed = 1000000\n",
    ")\n",
    "\n",
    "nn6_1 <- h2o.deeplearning(\n",
    "  x = xnames6,\n",
    "  y = \"volact\",\n",
    "  training_frame = h2o.train6,\n",
    "  validation_frame = h2o.test6,\n",
    "  activation = \"Rectifier\",\n",
    "  hidden = c(200, 200, 100),\n",
    "  epochs = 10,\n",
    "  rate = .005,\n",
    "  loss = \"CrossEntropy\",\n",
    "  export_weights_and_biases = TRUE, \n",
    "  seed = 1000000\n",
    ")"
   ]
  },
  {
   "cell_type": "code",
   "execution_count": 43,
   "metadata": {},
   "outputs": [
    {
     "name": "stdout",
     "output_type": "stream",
     "text": [
      "Model Details:\n",
      "==============\n",
      "\n",
      "H2OBinomialModel: deeplearning\n",
      "Model Key:  DeepLearning_model_R_1527753908592_473 \n",
      "Status of Neuron Layers: predicting volact, 2-class classification, bernoulli distribution, CrossEntropy loss, 64.902 weights/biases, 773,7 KB, 381.230 training samples, mini-batch size 1\n",
      "  layer units      type dropout       l1       l2 mean_rate rate_rms momentum\n",
      "1     1    21     Input  0.00 %                                              \n",
      "2     2   200 Rectifier  0.00 % 0.000000 0.000000  0.023449 0.007265 0.000000\n",
      "3     3   200 Rectifier  0.00 % 0.000000 0.000000  0.011245 0.006026 0.000000\n",
      "4     4   100 Rectifier  0.00 % 0.000000 0.000000  0.030819 0.054879 0.000000\n",
      "5     5     2   Softmax         0.000000 0.000000  0.008541 0.004004 0.000000\n",
      "  mean_weight weight_rms mean_bias bias_rms\n",
      "1                                          \n",
      "2    0.018726   0.155087  0.324421 0.096519\n",
      "3   -0.025297   0.072099  0.925869 0.049365\n",
      "4   -0.008851   0.084945 -0.074801 0.270474\n",
      "5   -0.011092   0.373333 -0.003117 0.274842\n",
      "\n",
      "H2OBinomialMetrics: deeplearning\n",
      "** Reported on training data. **\n",
      "** Metrics reported on temporary training frame with 9874 samples **\n",
      "\n",
      "MSE:  0.2013871\n",
      "RMSE:  0.4487617\n",
      "LogLoss:  0.5863539\n",
      "Mean Per-Class Error:  0.361308\n",
      "AUC:  0.6960468\n",
      "Gini:  0.3920935\n",
      "\n",
      "Confusion Matrix (vertical: actual; across: predicted) for F1-optimal threshold:\n",
      "          0    1    Error        Rate\n",
      "0      3166 3370 0.515606  =3370/6536\n",
      "1       691 2647 0.207010   =691/3338\n",
      "Totals 3857 6017 0.411282  =4061/9874\n",
      "\n",
      "Maximum Metrics: Maximum metrics at their respective thresholds\n",
      "                        metric threshold    value idx\n",
      "1                       max f1  0.277901 0.565901 233\n",
      "2                       max f2  0.100338 0.731953 355\n",
      "3                 max f0point5  0.397420 0.511561 142\n",
      "4                 max accuracy  0.443203 0.688272 104\n",
      "5                max precision  0.721418 1.000000   0\n",
      "6                   max recall  0.034919 1.000000 394\n",
      "7              max specificity  0.721418 1.000000   0\n",
      "8             max absolute_mcc  0.362979 0.270627 167\n",
      "9   max min_per_class_accuracy  0.347854 0.637087 180\n",
      "10 max mean_per_class_accuracy  0.357646 0.641331 172\n",
      "\n",
      "Gains/Lift Table: Extract with `h2o.gainsLift(<model>, <data>)` or `h2o.gainsLift(<model>, valid=<T/F>, xval=<T/F>)`\n",
      "H2OBinomialMetrics: deeplearning\n",
      "** Reported on validation data. **\n",
      "** Metrics reported on full validation frame **\n",
      "\n",
      "MSE:  0.2033464\n",
      "RMSE:  0.4509395\n",
      "LogLoss:  0.5938871\n",
      "Mean Per-Class Error:  0.3690136\n",
      "AUC:  0.6757958\n",
      "Gini:  0.3515916\n",
      "\n",
      "Confusion Matrix (vertical: actual; across: predicted) for F1-optimal threshold:\n",
      "          0    1    Error        Rate\n",
      "0      1398 1443 0.507920  =1443/2841\n",
      "1       321 1074 0.230108   =321/1395\n",
      "Totals 1719 2517 0.416431  =1764/4236\n",
      "\n",
      "Maximum Metrics: Maximum metrics at their respective thresholds\n",
      "                        metric threshold    value idx\n",
      "1                       max f1  0.286298 0.549080 221\n",
      "2                       max f2  0.065495 0.715762 375\n",
      "3                 max f0point5  0.377453 0.488551 151\n",
      "4                 max accuracy  0.468012 0.682720  73\n",
      "5                max precision  0.682412 1.000000   0\n",
      "6                   max recall  0.025849 1.000000 397\n",
      "7              max specificity  0.682412 1.000000   0\n",
      "8             max absolute_mcc  0.329936 0.254145 188\n",
      "9   max min_per_class_accuracy  0.356358 0.632258 169\n",
      "10 max mean_per_class_accuracy  0.329936 0.635181 188\n",
      "\n",
      "Gains/Lift Table: Extract with `h2o.gainsLift(<model>, <data>)` or `h2o.gainsLift(<model>, valid=<T/F>, xval=<T/F>)`\n",
      "\n",
      "\n",
      "Scoring History: \n",
      "            timestamp          duration training_speed   epochs iterations\n",
      "1 2018-05-31 13:03:26         0.000 sec                 0.00000          0\n",
      "2 2018-05-31 13:03:34        10.535 sec   5336 obs/sec  1.00000          1\n",
      "3 2018-05-31 13:03:58        34.692 sec   6575 obs/sec  5.00000          5\n",
      "4 2018-05-31 13:04:22        57.249 sec   7554 obs/sec 10.00000         10\n",
      "5 2018-05-31 13:04:27  1 min  1.959 sec   7045 obs/sec 10.00000         10\n",
      "        samples training_rmse training_logloss training_auc training_lift\n",
      "1      0.000000                                                          \n",
      "2  38123.000000       0.48695          0.68930      0.67876       2.12144\n",
      "3 190615.000000       0.44876          0.58635      0.69605       2.12144\n",
      "4 381230.000000       0.44204          0.56895      0.72554       2.33059\n",
      "5 381230.000000       0.44876          0.58635      0.69605       2.12144\n",
      "  training_classification_error validation_rmse validation_logloss\n",
      "1                                                                 \n",
      "2                       0.42232         0.48366            0.68335\n",
      "3                       0.41128         0.45094            0.59389\n",
      "4                       0.38515         0.45239            0.59821\n",
      "5                       0.41128         0.45094            0.59389\n",
      "  validation_auc validation_lift validation_classification_error\n",
      "1                                                               \n",
      "2        0.66262         1.55359                         0.43130\n",
      "3        0.67580         1.55359                         0.41643\n",
      "4        0.67268         2.04791                         0.41076\n",
      "5        0.67580         1.55359                         0.41643\n",
      "\n",
      "Variable Importances: (Extract with `h2o.varimp`) \n",
      "=================================================\n",
      "\n",
      "Variable Importances: \n",
      "            variable relative_importance scaled_importance percentage\n",
      "1             eduyrs            1.000000          1.000000   0.077445\n",
      "2            sclmeet            0.909663          0.909663   0.070449\n",
      "3       social_trust            0.858594          0.858594   0.066494\n",
      "4             wkhtot            0.744872          0.744872   0.057687\n",
      "5 political_interest            0.739509          0.739509   0.057272\n",
      "\n",
      "---\n",
      "           variable relative_importance scaled_importance percentage\n",
      "16       solidarity            0.485570          0.485570   0.037605\n",
      "17           trstep            0.481749          0.481749   0.037309\n",
      "18        trust_exe            0.468642          0.468642   0.036294\n",
      "19           stfdem            0.446595          0.446595   0.034587\n",
      "20 self_realisation            0.443570          0.443570   0.034352\n",
      "21      houseperson            0.399283          0.399283   0.030923\n"
     ]
    }
   ],
   "source": [
    "summary(nn1_1)"
   ]
  },
  {
   "cell_type": "code",
   "execution_count": 44,
   "metadata": {},
   "outputs": [
    {
     "name": "stdout",
     "output_type": "stream",
     "text": [
      "Model Details:\n",
      "==============\n",
      "\n",
      "H2OBinomialModel: deeplearning\n",
      "Model Key:  DeepLearning_model_R_1527753908592_490 \n",
      "Status of Neuron Layers: predicting volact, 2-class classification, bernoulli distribution, CrossEntropy loss, 64.902 weights/biases, 773,7 KB, 492.050 training samples, mini-batch size 1\n",
      "  layer units      type dropout       l1       l2 mean_rate rate_rms momentum\n",
      "1     1    21     Input  0.00 %                                              \n",
      "2     2   200 Rectifier  0.00 % 0.000000 0.000000  0.025428 0.012053 0.000000\n",
      "3     3   200 Rectifier  0.00 % 0.000000 0.000000  0.015898 0.007762 0.000000\n",
      "4     4   100 Rectifier  0.00 % 0.000000 0.000000  0.036133 0.057225 0.000000\n",
      "5     5     2   Softmax         0.000000 0.000000  0.009030 0.005050 0.000000\n",
      "  mean_weight weight_rms mean_bias bias_rms\n",
      "1                                          \n",
      "2    0.009545   0.192716  0.275757 0.112267\n",
      "3   -0.029518   0.074397  0.909455 0.085216\n",
      "4   -0.006929   0.084919 -0.164714 0.254429\n",
      "5   -0.014307   0.367444  0.002704 0.139585\n",
      "\n",
      "H2OBinomialMetrics: deeplearning\n",
      "** Reported on training data. **\n",
      "** Metrics reported on temporary training frame with 9885 samples **\n",
      "\n",
      "MSE:  0.1972716\n",
      "RMSE:  0.4441527\n",
      "LogLoss:  0.5773979\n",
      "Mean Per-Class Error:  0.3429751\n",
      "AUC:  0.7277825\n",
      "Gini:  0.455565\n",
      "\n",
      "Confusion Matrix (vertical: actual; across: predicted) for F1-optimal threshold:\n",
      "          0    1    Error        Rate\n",
      "0      3331 2978 0.472024  =2978/6309\n",
      "1       765 2811 0.213926   =765/3576\n",
      "Totals 4096 5789 0.378655  =3743/9885\n",
      "\n",
      "Maximum Metrics: Maximum metrics at their respective thresholds\n",
      "                        metric threshold    value idx\n",
      "1                       max f1  0.296037 0.600320 241\n",
      "2                       max f2  0.138928 0.752251 336\n",
      "3                 max f0point5  0.444660 0.574580 150\n",
      "4                 max accuracy  0.444660 0.699545 150\n",
      "5                max precision  0.843539 1.000000   0\n",
      "6                   max recall  0.033441 1.000000 392\n",
      "7              max specificity  0.843539 1.000000   0\n",
      "8             max absolute_mcc  0.372193 0.326527 191\n",
      "9   max min_per_class_accuracy  0.355341 0.664923 202\n",
      "10 max mean_per_class_accuracy  0.372193 0.667255 191\n",
      "\n",
      "Gains/Lift Table: Extract with `h2o.gainsLift(<model>, <data>)` or `h2o.gainsLift(<model>, valid=<T/F>, xval=<T/F>)`\n",
      "H2OBinomialMetrics: deeplearning\n",
      "** Reported on validation data. **\n",
      "** Metrics reported on full validation frame **\n",
      "\n",
      "MSE:  0.2047345\n",
      "RMSE:  0.4524759\n",
      "LogLoss:  0.5991095\n",
      "Mean Per-Class Error:  0.3533225\n",
      "AUC:  0.7053998\n",
      "Gini:  0.4107996\n",
      "\n",
      "Confusion Matrix (vertical: actual; across: predicted) for F1-optimal threshold:\n",
      "          0    1    Error        Rate\n",
      "0      1796 1674 0.482421  =1674/3470\n",
      "1       448 1550 0.224224   =448/1998\n",
      "Totals 2244 3224 0.388076  =2122/5468\n",
      "\n",
      "Maximum Metrics: Maximum metrics at their respective thresholds\n",
      "                        metric threshold    value idx\n",
      "1                       max f1  0.292810 0.593642 241\n",
      "2                       max f2  0.120165 0.745416 345\n",
      "3                 max f0point5  0.402002 0.556725 169\n",
      "4                 max accuracy  0.473208 0.686540 129\n",
      "5                max precision  0.813318 1.000000   0\n",
      "6                   max recall  0.015395 1.000000 397\n",
      "7              max specificity  0.813318 1.000000   0\n",
      "8             max absolute_mcc  0.375512 0.302930 185\n",
      "9   max min_per_class_accuracy  0.355021 0.653890 199\n",
      "10 max mean_per_class_accuracy  0.341566 0.656592 208\n",
      "\n",
      "Gains/Lift Table: Extract with `h2o.gainsLift(<model>, <data>)` or `h2o.gainsLift(<model>, valid=<T/F>, xval=<T/F>)`\n",
      "\n",
      "\n",
      "Scoring History: \n",
      "            timestamp          duration training_speed   epochs iterations\n",
      "1 2018-05-31 13:04:32         0.000 sec                 0.00000          0\n",
      "2 2018-05-31 13:04:41        10.343 sec   5772 obs/sec  1.00000          1\n",
      "3 2018-05-31 13:05:00        30.034 sec   7556 obs/sec  4.00000          4\n",
      "4 2018-05-31 13:05:24        53.517 sec   7204 obs/sec  7.00000          7\n",
      "5 2018-05-31 13:05:44  1 min 12.980 sec   7504 obs/sec 10.00000         10\n",
      "6 2018-05-31 13:05:49  1 min 18.094 sec   7110 obs/sec 10.00000         10\n",
      "        samples training_rmse training_logloss training_auc training_lift\n",
      "1      0.000000                                                          \n",
      "2  49205.000000       0.47930          0.65437      0.70857       1.98245\n",
      "3 196820.000000       0.44708          0.58398      0.72136       2.28959\n",
      "4 344435.000000       0.44415          0.57740      0.72778       2.28959\n",
      "5 492050.000000       0.43971          0.56730      0.73986       2.31751\n",
      "6 492050.000000       0.44415          0.57740      0.72778       2.28959\n",
      "  training_classification_error validation_rmse validation_logloss\n",
      "1                                                                 \n",
      "2                       0.39170         0.48099            0.65823\n",
      "3                       0.38948         0.45342            0.60061\n",
      "4                       0.37865         0.45248            0.59911\n",
      "5                       0.37754         0.45242            0.59913\n",
      "6                       0.37865         0.45248            0.59911\n",
      "  validation_auc validation_lift validation_classification_error\n",
      "1                                                               \n",
      "2        0.70175         2.04011                         0.36668\n",
      "3        0.70535         2.18939                         0.37418\n",
      "4        0.70540         2.18939                         0.38808\n",
      "5        0.70495         2.28891                         0.40362\n",
      "6        0.70540         2.18939                         0.38808\n",
      "\n",
      "Variable Importances: (Extract with `h2o.varimp`) \n",
      "=================================================\n",
      "\n",
      "Variable Importances: \n",
      "      variable relative_importance scaled_importance percentage\n",
      "1       eduyrs            1.000000          1.000000   0.068459\n",
      "2      sclmeet            0.997822          0.997822   0.068310\n",
      "3        yrbrn            0.961676          0.961676   0.065835\n",
      "4       church            0.823528          0.823528   0.056378\n",
      "5 social_trust            0.780572          0.780572   0.053437\n",
      "\n",
      "---\n",
      "           variable relative_importance scaled_importance percentage\n",
      "16            tvtot            0.634262          0.634262   0.043421\n",
      "17 self_realisation            0.620693          0.620693   0.042492\n",
      "18           female            0.605804          0.605804   0.041473\n",
      "19      houseperson            0.535400          0.535400   0.036653\n",
      "20        tolerance            0.515773          0.515773   0.035309\n",
      "21           wkhtot            0.502091          0.502091   0.034373\n"
     ]
    }
   ],
   "source": [
    "summary(nn6_1)"
   ]
  },
  {
   "cell_type": "code",
   "execution_count": 45,
   "metadata": {},
   "outputs": [
    {
     "name": "stdout",
     "output_type": "stream",
     "text": [
      "  |======================================================================| 100%\n",
      "  |======================================================================| 100%\n"
     ]
    },
    {
     "data": {
      "text/html": [
       "0.583333333333333"
      ],
      "text/latex": [
       "0.583333333333333"
      ],
      "text/markdown": [
       "0.583333333333333"
      ],
      "text/plain": [
       "[1] 0.5833333"
      ]
     },
     "metadata": {},
     "output_type": "display_data"
    },
    {
     "data": {
      "text/html": [
       "-0.265232974910394"
      ],
      "text/latex": [
       "-0.265232974910394"
      ],
      "text/markdown": [
       "-0.265232974910394"
      ],
      "text/plain": [
       "[1] -0.265233"
      ]
     },
     "metadata": {},
     "output_type": "display_data"
    },
    {
     "data": {
      "text/html": [
       "0.548246736626568"
      ],
      "text/latex": [
       "0.548246736626568"
      ],
      "text/markdown": [
       "0.548246736626568"
      ],
      "text/plain": [
       "[1] 0.5482467"
      ]
     },
     "metadata": {},
     "output_type": "display_data"
    },
    {
     "data": {
      "text/html": [
       "0.612655449890271"
      ],
      "text/latex": [
       "0.612655449890271"
      ],
      "text/markdown": [
       "0.612655449890271"
      ],
      "text/plain": [
       "[1] 0.6126554"
      ]
     },
     "metadata": {},
     "output_type": "display_data"
    },
    {
     "data": {
      "text/html": [
       "-0.0600600600600601"
      ],
      "text/latex": [
       "-0.0600600600600601"
      ],
      "text/markdown": [
       "-0.0600600600600601"
      ],
      "text/plain": [
       "[1] -0.06006006"
      ]
     },
     "metadata": {},
     "output_type": "display_data"
    },
    {
     "data": {
      "text/html": [
       "0.593785960874568"
      ],
      "text/latex": [
       "0.593785960874568"
      ],
      "text/markdown": [
       "0.593785960874568"
      ],
      "text/plain": [
       "[1] 0.593786"
      ]
     },
     "metadata": {},
     "output_type": "display_data"
    }
   ],
   "source": [
    "nn1_1_pred <- h2o.predict(nn1_1, h2o.test1)\n",
    "nn6_1_pred <- h2o.predict(nn6_1, h2o.test6)\n",
    "ACC(table(as.vector(nn1_1_pred$predict), test1$volact))\n",
    "PRE(table(as.vector(nn1_1_pred$predict), test1$volact))\n",
    "F1(table(as.vector(nn1_1_pred$predict), test1$volact))\n",
    "ACC(table(as.vector(nn6_1_pred$predict), test6$volact))\n",
    "PRE(table(as.vector(nn6_1_pred$predict), test6$volact))\n",
    "F1(table(as.vector(nn6_1_pred$predict), test6$volact))"
   ]
  },
  {
   "cell_type": "code",
   "execution_count": 46,
   "metadata": {},
   "outputs": [
    {
     "name": "stdout",
     "output_type": "stream",
     "text": [
      "  |======================================================================| 100%\n",
      "  |======================================================================| 100%\n"
     ]
    }
   ],
   "source": [
    "nn1_1c <- h2o.deeplearning(\n",
    "  x = xnames1c,\n",
    "  y = \"volact\",\n",
    "  training_frame = h2o.train1c,\n",
    "  validation_frame = h2o.test1c,\n",
    "  activation = \"Rectifier\",\n",
    "  hidden = c(200, 200, 100),\n",
    "  epochs = 10,\n",
    "  rate = .005,\n",
    "  loss = \"CrossEntropy\",\n",
    "  export_weights_and_biases = TRUE,\n",
    "  seed = 1000000\n",
    ")\n",
    "\n",
    "nn6_1c <- h2o.deeplearning(\n",
    "  x = xnames6c,\n",
    "  y = \"volact\",\n",
    "  training_frame = h2o.train6c,\n",
    "  validation_frame = h2o.test6c,\n",
    "  activation = \"Rectifier\",\n",
    "  hidden = c(200, 200, 100),\n",
    "  epochs = 10,\n",
    "  rate = .005,\n",
    "  loss = \"CrossEntropy\",\n",
    "  export_weights_and_biases = TRUE, \n",
    "  seed = 1000000\n",
    ")"
   ]
  },
  {
   "cell_type": "code",
   "execution_count": 47,
   "metadata": {},
   "outputs": [
    {
     "name": "stdout",
     "output_type": "stream",
     "text": [
      "Model Details:\n",
      "==============\n",
      "\n",
      "H2OBinomialModel: deeplearning\n",
      "Model Key:  DeepLearning_model_R_1527753908592_505 \n",
      "Status of Neuron Layers: predicting volact, 2-class classification, bernoulli distribution, CrossEntropy loss, 69.302 weights/biases, 828,8 KB, 381.230 training samples, mini-batch size 1\n",
      "  layer units      type dropout       l1       l2 mean_rate rate_rms momentum\n",
      "1     1    43     Input  0.00 %                                              \n",
      "2     2   200 Rectifier  0.00 % 0.000000 0.000000  0.041933 0.039444 0.000000\n",
      "3     3   200 Rectifier  0.00 % 0.000000 0.000000  0.011634 0.006996 0.000000\n",
      "4     4   100 Rectifier  0.00 % 0.000000 0.000000  0.037490 0.098025 0.000000\n",
      "5     5     2   Softmax         0.000000 0.000000  0.006113 0.004200 0.000000\n",
      "  mean_weight weight_rms mean_bias bias_rms\n",
      "1                                          \n",
      "2   -0.020447   0.175266  0.399573 0.094940\n",
      "3   -0.021160   0.073089  0.946080 0.048659\n",
      "4   -0.011110   0.086024  0.779643 0.080492\n",
      "5   -0.013758   0.440890  0.003934 0.066882\n",
      "\n",
      "H2OBinomialMetrics: deeplearning\n",
      "** Reported on training data. **\n",
      "** Metrics reported on temporary training frame with 9874 samples **\n",
      "\n",
      "MSE:  0.1813922\n",
      "RMSE:  0.4259016\n",
      "LogLoss:  0.5296029\n",
      "Mean Per-Class Error:  0.3112474\n",
      "AUC:  0.7659989\n",
      "Gini:  0.5319977\n",
      "\n",
      "Confusion Matrix (vertical: actual; across: predicted) for F1-optimal threshold:\n",
      "          0    1    Error        Rate\n",
      "0      3652 2884 0.441248  =2884/6536\n",
      "1       605 2733 0.181246   =605/3338\n",
      "Totals 4257 5617 0.353352  =3489/9874\n",
      "\n",
      "Maximum Metrics: Maximum metrics at their respective thresholds\n",
      "                        metric threshold    value idx\n",
      "1                       max f1  0.302301 0.610385 242\n",
      "2                       max f2  0.154610 0.763373 323\n",
      "3                 max f0point5  0.437058 0.572773 149\n",
      "4                 max accuracy  0.478714 0.721592 122\n",
      "5                max precision  0.875205 1.000000   0\n",
      "6                   max recall  0.040686 1.000000 386\n",
      "7              max specificity  0.875205 1.000000   0\n",
      "8             max absolute_mcc  0.365794 0.361052 200\n",
      "9   max min_per_class_accuracy  0.364571 0.686339 201\n",
      "10 max mean_per_class_accuracy  0.326528 0.689550 227\n",
      "\n",
      "Gains/Lift Table: Extract with `h2o.gainsLift(<model>, <data>)` or `h2o.gainsLift(<model>, valid=<T/F>, xval=<T/F>)`\n",
      "H2OBinomialMetrics: deeplearning\n",
      "** Reported on validation data. **\n",
      "** Metrics reported on full validation frame **\n",
      "\n",
      "MSE:  0.1819345\n",
      "RMSE:  0.4265379\n",
      "LogLoss:  0.5316047\n",
      "Mean Per-Class Error:  0.3137752\n",
      "AUC:  0.75789\n",
      "Gini:  0.5157801\n",
      "\n",
      "Confusion Matrix (vertical: actual; across: predicted) for F1-optimal threshold:\n",
      "          0    1    Error        Rate\n",
      "0      1608 1233 0.434002  =1233/2841\n",
      "1       270 1125 0.193548   =270/1395\n",
      "Totals 1878 2358 0.354816  =1503/4236\n",
      "\n",
      "Maximum Metrics: Maximum metrics at their respective thresholds\n",
      "                        metric threshold    value idx\n",
      "1                       max f1  0.300729 0.599520 241\n",
      "2                       max f2  0.120685 0.753279 337\n",
      "3                 max f0point5  0.413824 0.562243 163\n",
      "4                 max accuracy  0.461062 0.717894 134\n",
      "5                max precision  0.939713 1.000000   0\n",
      "6                   max recall  0.042853 1.000000 385\n",
      "7              max specificity  0.939713 1.000000   0\n",
      "8             max absolute_mcc  0.348816 0.356665 209\n",
      "9   max min_per_class_accuracy  0.363042 0.683914 200\n",
      "10 max mean_per_class_accuracy  0.348816 0.689337 209\n",
      "\n",
      "Gains/Lift Table: Extract with `h2o.gainsLift(<model>, <data>)` or `h2o.gainsLift(<model>, valid=<T/F>, xval=<T/F>)`\n",
      "\n",
      "\n",
      "Scoring History: \n",
      "            timestamp          duration training_speed   epochs iterations\n",
      "1 2018-05-31 13:06:08         0.000 sec                 0.00000          0\n",
      "2 2018-05-31 13:06:18        13.176 sec   3785 obs/sec  1.00000          1\n",
      "3 2018-05-31 13:06:42        37.008 sec   4839 obs/sec  4.00000          4\n",
      "4 2018-05-31 13:07:09  1 min  3.298 sec   5441 obs/sec  8.00000          8\n",
      "5 2018-05-31 13:07:23  1 min 17.771 sec   5559 obs/sec 10.00000         10\n",
      "6 2018-05-31 13:07:27  1 min 20.818 sec   5444 obs/sec 10.00000         10\n",
      "        samples training_rmse training_logloss training_auc training_lift\n",
      "1      0.000000                                                          \n",
      "2  38123.000000       0.47341          0.65035      0.74751       2.36047\n",
      "3 152492.000000       0.42590          0.52960      0.76600       2.56963\n",
      "4 304984.000000       0.41760          0.51352      0.78435       2.68914\n",
      "5 381230.000000       0.41404          0.50581      0.79155       2.74890\n",
      "6 381230.000000       0.42590          0.52960      0.76600       2.56963\n",
      "  training_classification_error validation_rmse validation_logloss\n",
      "1                                                                 \n",
      "2                       0.37037         0.46857            0.64213\n",
      "3                       0.35335         0.42654            0.53160\n",
      "4                       0.32449         0.42714            0.53415\n",
      "5                       0.32834         0.42798            0.53449\n",
      "6                       0.35335         0.42654            0.53160\n",
      "  validation_auc validation_lift validation_classification_error\n",
      "1                                                               \n",
      "2        0.74475         2.47162                         0.35198\n",
      "3        0.75789         2.40100                         0.35482\n",
      "4        0.75739         2.40100                         0.35694\n",
      "5        0.75602         2.25976                         0.33144\n",
      "6        0.75789         2.40100                         0.35482\n",
      "\n",
      "Variable Importances: (Extract with `h2o.varimp`) \n",
      "=================================================\n",
      "\n",
      "Variable Importances: \n",
      "  variable relative_importance scaled_importance percentage\n",
      "1  cntryGR            1.000000          1.000000   0.047569\n",
      "2  cntryPL            0.963597          0.963597   0.045838\n",
      "3  cntryCH            0.842315          0.842315   0.040068\n",
      "4  cntryCZ            0.808926          0.808926   0.038480\n",
      "5  cntryPT            0.720768          0.720768   0.034286\n",
      "\n",
      "---\n",
      "      variable relative_importance scaled_importance percentage\n",
      "38      stfdem            0.348115          0.348115   0.016560\n",
      "39     cntryNL            0.340662          0.340662   0.016205\n",
      "40   tolerance            0.329507          0.329507   0.015674\n",
      "41 houseperson            0.328605          0.328605   0.015632\n",
      "42      trstep            0.323257          0.323257   0.015377\n",
      "43     cntryDK            0.299591          0.299591   0.014251\n"
     ]
    }
   ],
   "source": [
    "summary(nn1_1c)"
   ]
  },
  {
   "cell_type": "code",
   "execution_count": 48,
   "metadata": {},
   "outputs": [
    {
     "name": "stdout",
     "output_type": "stream",
     "text": [
      "Model Details:\n",
      "==============\n",
      "\n",
      "H2OBinomialModel: deeplearning\n",
      "Model Key:  DeepLearning_model_R_1527753908592_516 \n",
      "Status of Neuron Layers: predicting volact, 2-class classification, bernoulli distribution, CrossEntropy loss, 70.702 weights/biases, 846,3 KB, 510.484 training samples, mini-batch size 1\n",
      "  layer units      type dropout       l1       l2 mean_rate rate_rms momentum\n",
      "1     1    50     Input  0.00 %                                              \n",
      "2     2   200 Rectifier  0.00 % 0.000000 0.000000  0.020129 0.016055 0.000000\n",
      "3     3   200 Rectifier  0.00 % 0.000000 0.000000  0.007546 0.003815 0.000000\n",
      "4     4   100 Rectifier  0.00 % 0.000000 0.000000  0.028831 0.038248 0.000000\n",
      "5     5     2   Softmax         0.000000 0.000000  0.006125 0.003235 0.000000\n",
      "  mean_weight weight_rms mean_bias bias_rms\n",
      "1                                          \n",
      "2   -0.086518   0.350263  0.256193 0.160966\n",
      "3   -0.029373   0.081107  0.909756 0.122269\n",
      "4   -0.006860   0.087216 -0.259202 0.340486\n",
      "5   -0.014144   0.370166 -0.000847 0.717492\n",
      "\n",
      "H2OBinomialMetrics: deeplearning\n",
      "** Reported on training data. **\n",
      "** Metrics reported on temporary training frame with 9885 samples **\n",
      "\n",
      "MSE:  0.179726\n",
      "RMSE:  0.423941\n",
      "LogLoss:  0.5342721\n",
      "Mean Per-Class Error:  0.2878656\n",
      "AUC:  0.7839343\n",
      "Gini:  0.5678686\n",
      "\n",
      "Confusion Matrix (vertical: actual; across: predicted) for F1-optimal threshold:\n",
      "          0    1    Error        Rate\n",
      "0      4104 2205 0.349501  =2205/6309\n",
      "1       809 2767 0.226230   =809/3576\n",
      "Totals 4913 4972 0.304906  =3014/9885\n",
      "\n",
      "Maximum Metrics: Maximum metrics at their respective thresholds\n",
      "                        metric threshold    value idx\n",
      "1                       max f1  0.335159 0.647403 229\n",
      "2                       max f2  0.169241 0.773129 320\n",
      "3                 max f0point5  0.457471 0.621864 163\n",
      "4                 max accuracy  0.488298 0.726960 145\n",
      "5                max precision  0.934546 1.000000   0\n",
      "6                   max recall  0.038051 1.000000 389\n",
      "7              max specificity  0.934546 1.000000   0\n",
      "8             max absolute_mcc  0.400320 0.410039 193\n",
      "9   max min_per_class_accuracy  0.371226 0.708054 209\n",
      "10 max mean_per_class_accuracy  0.349193 0.712296 221\n",
      "\n",
      "Gains/Lift Table: Extract with `h2o.gainsLift(<model>, <data>)` or `h2o.gainsLift(<model>, valid=<T/F>, xval=<T/F>)`\n",
      "H2OBinomialMetrics: deeplearning\n",
      "** Reported on validation data. **\n",
      "** Metrics reported on full validation frame **\n",
      "\n",
      "MSE:  0.194746\n",
      "RMSE:  0.4413003\n",
      "LogLoss:  0.571898\n",
      "Mean Per-Class Error:  0.334804\n",
      "AUC:  0.7377517\n",
      "Gini:  0.4755033\n",
      "\n",
      "Confusion Matrix (vertical: actual; across: predicted) for F1-optimal threshold:\n",
      "          0    1    Error        Rate\n",
      "0      1796 1674 0.482421  =1674/3470\n",
      "1       374 1624 0.187187   =374/1998\n",
      "Totals 2170 3298 0.374543  =2048/5468\n",
      "\n",
      "Maximum Metrics: Maximum metrics at their respective thresholds\n",
      "                        metric threshold    value idx\n",
      "1                       max f1  0.280447 0.613293 260\n",
      "2                       max f2  0.162904 0.758049 326\n",
      "3                 max f0point5  0.459058 0.583160 160\n",
      "4                 max accuracy  0.501204 0.702085 138\n",
      "5                max precision  0.934502 1.000000   0\n",
      "6                   max recall  0.024351 1.000000 395\n",
      "7              max specificity  0.934502 1.000000   0\n",
      "8             max absolute_mcc  0.391864 0.341480 195\n",
      "9   max min_per_class_accuracy  0.359385 0.670893 213\n",
      "10 max mean_per_class_accuracy  0.385897 0.673999 198\n",
      "\n",
      "Gains/Lift Table: Extract with `h2o.gainsLift(<model>, <data>)` or `h2o.gainsLift(<model>, valid=<T/F>, xval=<T/F>)`\n",
      "\n",
      "\n",
      "Scoring History: \n",
      "            timestamp          duration training_speed   epochs iterations\n",
      "1 2018-05-31 13:07:38         0.000 sec                 0.00000          0\n",
      "2 2018-05-31 13:07:49        14.480 sec   4125 obs/sec  0.94184          1\n",
      "3 2018-05-31 13:08:16        40.712 sec   5282 obs/sec  3.77118          4\n",
      "4 2018-05-31 13:08:42  1 min  7.377 sec   6272 obs/sec  7.54511          8\n",
      "5 2018-05-31 13:09:06  1 min 31.439 sec   6308 obs/sec 10.37464         11\n",
      "        samples training_rmse training_logloss training_auc training_lift\n",
      "1      0.000000                                                          \n",
      "2  46343.000000       0.44560          0.58072      0.73691       2.23375\n",
      "3 185561.000000       0.44383          0.57426      0.75396       2.34543\n",
      "4 371257.000000       0.43294          0.55163      0.76875       2.48504\n",
      "5 510484.000000       0.42394          0.53427      0.78393       2.54089\n",
      "  training_classification_error validation_rmse validation_logloss\n",
      "1                                                                 \n",
      "2                       0.36591         0.44827            0.58798\n",
      "3                       0.34041         0.44893            0.58870\n",
      "4                       0.32615         0.44527            0.58147\n",
      "5                       0.30491         0.44130            0.57190\n",
      "  validation_auc validation_lift validation_classification_error\n",
      "1                                                               \n",
      "2        0.73071         2.38842                         0.38040\n",
      "3        0.74067         2.43818                         0.33047\n",
      "4        0.73662         2.28891                         0.34985\n",
      "5        0.73775         2.18939                         0.37454\n",
      "\n",
      "Variable Importances: (Extract with `h2o.varimp`) \n",
      "=================================================\n",
      "\n",
      "Variable Importances: \n",
      "  variable relative_importance scaled_importance percentage\n",
      "1  cntryBG            1.000000          1.000000   0.038337\n",
      "2  cntryPL            0.835525          0.835525   0.032031\n",
      "3  cntryUA            0.819111          0.819111   0.031402\n",
      "4  cntryEE            0.816864          0.816864   0.031316\n",
      "5  cntryHU            0.771234          0.771234   0.029567\n",
      "\n",
      "---\n",
      "      variable relative_importance scaled_importance percentage\n",
      "45      trstep            0.331555          0.331555   0.012711\n",
      "46   trust_leg            0.328323          0.328323   0.012587\n",
      "47   trust_exe            0.328128          0.328128   0.012579\n",
      "48     cntryCH            0.314808          0.314808   0.012069\n",
      "49   tolerance            0.300171          0.300171   0.011508\n",
      "50 houseperson            0.278532          0.278532   0.010678\n"
     ]
    }
   ],
   "source": [
    "summary(nn6_1c)"
   ]
  },
  {
   "cell_type": "code",
   "execution_count": 49,
   "metadata": {},
   "outputs": [
    {
     "name": "stdout",
     "output_type": "stream",
     "text": [
      "  |======================================================================| 100%\n",
      "  |======================================================================| 100%\n"
     ]
    },
    {
     "data": {
      "text/html": [
       "0.645656279508971"
      ],
      "text/latex": [
       "0.645656279508971"
      ],
      "text/markdown": [
       "0.645656279508971"
      ],
      "text/plain": [
       "[1] 0.6456563"
      ]
     },
     "metadata": {},
     "output_type": "display_data"
    },
    {
     "data": {
      "text/html": [
       "-0.0759856630824373"
      ],
      "text/latex": [
       "-0.0759856630824373"
      ],
      "text/markdown": [
       "-0.0759856630824373"
      ],
      "text/plain": [
       "[1] -0.07598566"
      ]
     },
     "metadata": {},
     "output_type": "display_data"
    },
    {
     "data": {
      "text/html": [
       "0.599626567084556"
      ],
      "text/latex": [
       "0.599626567084556"
      ],
      "text/markdown": [
       "0.599626567084556"
      ],
      "text/plain": [
       "[1] 0.5996266"
      ]
     },
     "metadata": {},
     "output_type": "display_data"
    },
    {
     "data": {
      "text/html": [
       "0.625822970007315"
      ],
      "text/latex": [
       "0.625822970007315"
      ],
      "text/markdown": [
       "0.625822970007315"
      ],
      "text/plain": [
       "[1] 0.625823"
      ]
     },
     "metadata": {},
     "output_type": "display_data"
    },
    {
     "data": {
      "text/html": [
       "-0.0240240240240242"
      ],
      "text/latex": [
       "-0.0240240240240242"
      ],
      "text/markdown": [
       "-0.0240240240240242"
      ],
      "text/plain": [
       "[1] -0.02402402"
      ]
     },
     "metadata": {},
     "output_type": "display_data"
    },
    {
     "data": {
      "text/html": [
       "0.613232514177694"
      ],
      "text/latex": [
       "0.613232514177694"
      ],
      "text/markdown": [
       "0.613232514177694"
      ],
      "text/plain": [
       "[1] 0.6132325"
      ]
     },
     "metadata": {},
     "output_type": "display_data"
    }
   ],
   "source": [
    "nn1_1c_pred <- h2o.predict(nn1_1c, h2o.test1c)\n",
    "nn6_1c_pred <- h2o.predict(nn6_1c, h2o.test6c)\n",
    "ACC(table(as.vector(nn1_1c_pred$predict), test1c$volact))\n",
    "PRE(table(as.vector(nn1_1c_pred$predict), test1c$volact))\n",
    "F1(table(as.vector(nn1_1c_pred$predict), test1c$volact))\n",
    "ACC(table(as.vector(nn6_1c_pred$predict), test6c$volact))\n",
    "PRE(table(as.vector(nn6_1c_pred$predict), test6c$volact))\n",
    "F1(table(as.vector(nn6_1c_pred$predict), test6c$volact))"
   ]
  },
  {
   "cell_type": "markdown",
   "metadata": {},
   "source": [
    "# random forest"
   ]
  },
  {
   "cell_type": "code",
   "execution_count": 16,
   "metadata": {},
   "outputs": [
    {
     "name": "stdout",
     "output_type": "stream",
     "text": [
      "  |======================================================================| 100%\n",
      "  |======================================================================| 100%\n"
     ]
    }
   ],
   "source": [
    "rf1_1 <- h2o.randomForest(        \n",
    "  training_frame = h2o.train1,        \n",
    "  validation_frame = h2o.test1,      \n",
    "  x = xnames1,                        \n",
    "  y = \"volact\",                          \n",
    "  model_id = \"forest1\",    \n",
    "  ntrees = 300,            \n",
    "  max_depth = 50,\n",
    "  stopping_rounds = 2,           \n",
    "  score_each_iteration = F,     \n",
    "  seed = 1000000) \n",
    "\n",
    "rf6_1 <- h2o.randomForest(        \n",
    "  training_frame = h2o.train6,        \n",
    "  validation_frame = h2o.test6,      \n",
    "  x = xnames6,                        \n",
    "  y = \"volact\",                          \n",
    "  model_id = \"forest1\",    \n",
    "  ntrees = 300,            \n",
    "  max_depth = 50,\n",
    "  stopping_rounds = 2,           \n",
    "  score_each_iteration = F,     \n",
    "  seed = 1000000) "
   ]
  },
  {
   "cell_type": "code",
   "execution_count": 17,
   "metadata": {},
   "outputs": [
    {
     "name": "stdout",
     "output_type": "stream",
     "text": [
      "Model Details:\n",
      "==============\n",
      "\n",
      "H2OBinomialModel: drf\n",
      "Model Key:  forest1 \n",
      "Model Summary: \n",
      "  number_of_trees number_of_internal_trees model_size_in_bytes min_depth\n",
      "1             300                      300            28644740        29\n",
      "  max_depth mean_depth min_leaves max_leaves mean_leaves\n",
      "1        42   33.87667       7438       7829  7604.64360\n",
      "\n",
      "H2OBinomialMetrics: drf\n",
      "** Reported on training data. **\n",
      "** Metrics reported on Out-Of-Bag training samples **\n",
      "\n",
      "MSE:  0.2024681\n",
      "RMSE:  0.4499645\n",
      "LogLoss:  0.5901142\n",
      "Mean Per-Class Error:  0.376316\n",
      "AUC:  0.6831484\n",
      "Gini:  0.3662967\n",
      "\n",
      "Confusion Matrix (vertical: actual; across: predicted) for F1-optimal threshold:\n",
      "           0     1    Error          Rate\n",
      "0      11517 13873 0.546396  =13873/25390\n",
      "1       2626 10107 0.206236   =2626/12733\n",
      "Totals 14143 23980 0.432783  =16499/38123\n",
      "\n",
      "Maximum Metrics: Maximum metrics at their respective thresholds\n",
      "                        metric threshold    value idx\n",
      "1                       max f1  0.288550 0.550595 253\n",
      "2                       max f2  0.154405 0.722687 339\n",
      "3                 max f0point5  0.410061 0.497613 167\n",
      "4                 max accuracy  0.532201 0.683498  92\n",
      "5                max precision  0.854701 1.000000   0\n",
      "6                   max recall  0.018944 1.000000 397\n",
      "7              max specificity  0.854701 1.000000   0\n",
      "8             max absolute_mcc  0.338433 0.255573 218\n",
      "9   max min_per_class_accuracy  0.355772 0.632729 205\n",
      "10 max mean_per_class_accuracy  0.338433 0.635470 218\n",
      "\n",
      "Gains/Lift Table: Extract with `h2o.gainsLift(<model>, <data>)` or `h2o.gainsLift(<model>, valid=<T/F>, xval=<T/F>)`\n",
      "H2OBinomialMetrics: drf\n",
      "** Reported on validation data. **\n",
      "\n",
      "MSE:  0.2011806\n",
      "RMSE:  0.4485316\n",
      "LogLoss:  0.5876959\n",
      "Mean Per-Class Error:  0.3654983\n",
      "AUC:  0.6833725\n",
      "Gini:  0.366745\n",
      "\n",
      "Confusion Matrix (vertical: actual; across: predicted) for F1-optimal threshold:\n",
      "          0    1    Error        Rate\n",
      "0      1308 1533 0.539599  =1533/2841\n",
      "1       267 1128 0.191398   =267/1395\n",
      "Totals 1575 2661 0.424929  =1800/4236\n",
      "\n",
      "Maximum Metrics: Maximum metrics at their respective thresholds\n",
      "                        metric threshold    value idx\n",
      "1                       max f1  0.293344 0.556213 248\n",
      "2                       max f2  0.174722 0.717575 329\n",
      "3                 max f0point5  0.456738 0.490490 132\n",
      "4                 max accuracy  0.476635 0.693815 120\n",
      "5                max precision  0.823333 1.000000   0\n",
      "6                   max recall  0.030000 1.000000 396\n",
      "7              max specificity  0.823333 1.000000   0\n",
      "8             max absolute_mcc  0.293344 0.261588 248\n",
      "9   max min_per_class_accuracy  0.354684 0.625090 201\n",
      "10 max mean_per_class_accuracy  0.294976 0.634789 247\n",
      "\n",
      "Gains/Lift Table: Extract with `h2o.gainsLift(<model>, <data>)` or `h2o.gainsLift(<model>, valid=<T/F>, xval=<T/F>)`\n",
      "\n",
      "\n",
      "Scoring History: \n",
      "             timestamp          duration number_of_trees training_rmse\n",
      "1  2018-05-31 13:49:51         0.810 sec               0              \n",
      "2  2018-05-31 13:49:53         3.055 sec               1       0.64346\n",
      "3  2018-05-31 13:49:54         3.967 sec               2       0.61982\n",
      "4  2018-05-31 13:49:58         8.083 sec               9       0.52932\n",
      "5  2018-05-31 13:50:03        12.319 sec              20       0.48176\n",
      "6  2018-05-31 13:50:07        16.453 sec              37       0.46589\n",
      "7  2018-05-31 13:50:11        20.567 sec              52       0.46002\n",
      "8  2018-05-31 13:50:15        24.726 sec              69       0.45732\n",
      "9  2018-05-31 13:50:20        29.285 sec              87       0.45491\n",
      "10 2018-05-31 13:50:24        34.149 sec             107       0.45373\n",
      "11 2018-05-31 13:50:32        42.071 sec             139       0.45253\n",
      "12 2018-05-31 13:50:41        50.582 sec             171       0.45164\n",
      "13 2018-05-31 13:50:55  1 min  4.737 sec             229       0.45058\n",
      "14 2018-05-31 13:51:14  1 min 23.426 sec             300       0.44996\n",
      "   training_logloss training_auc training_lift training_classification_error\n",
      "1                                                                           \n",
      "2          14.29710      0.53827       1.14623                       0.66664\n",
      "3          12.52041      0.54898       1.18440                       0.66823\n",
      "4           4.94912      0.58021       1.28069                       0.66614\n",
      "5           1.48149      0.61616       1.57867                       0.51744\n",
      "6           0.77245      0.63883       1.81907                       0.49718\n",
      "7           0.66303      0.65189       1.84199                       0.45807\n",
      "8           0.62379      0.65806       1.91587                       0.46539\n",
      "9           0.61093      0.66554       1.94651                       0.46287\n",
      "10          0.60170      0.66935       1.92639                       0.45025\n",
      "11          0.59660      0.67354       1.92306                       0.42510\n",
      "12          0.59372      0.67667       1.99602                       0.43202\n",
      "13          0.59146      0.68082       1.93593                       0.43575\n",
      "14          0.59011      0.68315       1.99080                       0.43278\n",
      "   validation_rmse validation_logloss validation_auc validation_lift\n",
      "1                                                                   \n",
      "2          0.63777           14.04118        0.54309         1.17100\n",
      "3          0.55111            7.11123        0.56364         1.30599\n",
      "4          0.47065            0.89072        0.62583         1.44927\n",
      "5          0.45746            0.63853        0.65355         1.69841\n",
      "6          0.45312            0.60721        0.66645         1.77133\n",
      "7          0.45110            0.59490        0.67272         1.83606\n",
      "8          0.45058            0.59286        0.67455         1.72532\n",
      "9          0.44964            0.59057        0.67891         1.79433\n",
      "10         0.44965            0.59024        0.67847         1.76544\n",
      "11         0.44947            0.58972        0.67907         1.76544\n",
      "12         0.44938            0.58945        0.67946         1.84834\n",
      "13         0.44908            0.58883        0.68092         1.91435\n",
      "14         0.44853            0.58770        0.68337         2.11853\n",
      "   validation_classification_error\n",
      "1                                 \n",
      "2                          0.67068\n",
      "3                          0.67068\n",
      "4                          0.54863\n",
      "5                          0.46341\n",
      "6                          0.44830\n",
      "7                          0.47450\n",
      "8                          0.45208\n",
      "9                          0.45727\n",
      "10                         0.44924\n",
      "11                         0.44334\n",
      "12                         0.43059\n",
      "13                         0.43130\n",
      "14                         0.42493\n",
      "\n",
      "Variable Importances: (Extract with `h2o.varimp`) \n",
      "=================================================\n",
      "\n",
      "Variable Importances: \n",
      "      variable relative_importance scaled_importance percentage\n",
      "1 social_trust       134849.718750          1.000000   0.082900\n",
      "2        yrbrn       133596.234375          0.990705   0.082130\n",
      "3       eduyrs       131403.500000          0.974444   0.080782\n",
      "4    trust_exe       114999.085938          0.852794   0.070697\n",
      "5    trust_leg       110907.007812          0.822449   0.068181\n",
      "\n",
      "---\n",
      "             variable relative_importance scaled_importance percentage\n",
      "16         solidarity        65209.917969          0.483575   0.040088\n",
      "17 political_interest        55719.449219          0.413197   0.034254\n",
      "18             female        26459.439453          0.196214   0.016266\n",
      "19            married        24982.242188          0.185260   0.015358\n",
      "20           children        24529.013672          0.181899   0.015079\n",
      "21        houseperson         8729.321289          0.064734   0.005366\n"
     ]
    }
   ],
   "source": [
    "summary(rf1_1)"
   ]
  },
  {
   "cell_type": "code",
   "execution_count": 18,
   "metadata": {},
   "outputs": [
    {
     "name": "stdout",
     "output_type": "stream",
     "text": [
      "Model Details:\n",
      "==============\n",
      "\n",
      "H2OBinomialModel: drf\n",
      "Model Key:  forest1 \n",
      "Model Summary: \n",
      "  number_of_trees number_of_internal_trees model_size_in_bytes min_depth\n",
      "1             300                      300            37452507        29\n",
      "  max_depth mean_depth min_leaves max_leaves mean_leaves\n",
      "1        42   33.50333       9766      10168  9944.08700\n",
      "\n",
      "H2OBinomialMetrics: drf\n",
      "** Reported on training data. **\n",
      "** Metrics reported on Out-Of-Bag training samples **\n",
      "\n",
      "MSE:  0.2014647\n",
      "RMSE:  0.4488482\n",
      "LogLoss:  0.5881973\n",
      "Mean Per-Class Error:  0.3599372\n",
      "AUC:  0.7075468\n",
      "Gini:  0.4150935\n",
      "\n",
      "Confusion Matrix (vertical: actual; across: predicted) for F1-optimal threshold:\n",
      "           0     1    Error          Rate\n",
      "0      15534 16171 0.510046  =16171/31705\n",
      "1       3672 13828 0.209829   =3672/17500\n",
      "Totals 19206 29999 0.403272  =19843/49205\n",
      "\n",
      "Maximum Metrics: Maximum metrics at their respective thresholds\n",
      "                        metric threshold    value idx\n",
      "1                       max f1  0.304571 0.582244 253\n",
      "2                       max f2  0.186220 0.742262 326\n",
      "3                 max f0point5  0.447916 0.542783 163\n",
      "4                 max accuracy  0.490373 0.687877 138\n",
      "5                max precision  0.939946 1.000000   0\n",
      "6                   max recall  0.009400 1.000000 399\n",
      "7              max specificity  0.939946 1.000000   0\n",
      "8             max absolute_mcc  0.382403 0.293394 205\n",
      "9   max min_per_class_accuracy  0.371744 0.651065 212\n",
      "10 max mean_per_class_accuracy  0.382403 0.651773 205\n",
      "\n",
      "Gains/Lift Table: Extract with `h2o.gainsLift(<model>, <data>)` or `h2o.gainsLift(<model>, valid=<T/F>, xval=<T/F>)`\n",
      "H2OBinomialMetrics: drf\n",
      "** Reported on validation data. **\n",
      "\n",
      "MSE:  0.2028499\n",
      "RMSE:  0.4503887\n",
      "LogLoss:  0.591953\n",
      "Mean Per-Class Error:  0.3534363\n",
      "AUC:  0.710521\n",
      "Gini:  0.4210419\n",
      "\n",
      "Confusion Matrix (vertical: actual; across: predicted) for F1-optimal threshold:\n",
      "          0    1    Error        Rate\n",
      "0      1790 1680 0.484150  =1680/3470\n",
      "1       445 1553 0.222723   =445/1998\n",
      "Totals 2235 3233 0.388625  =2125/5468\n",
      "\n",
      "Maximum Metrics: Maximum metrics at their respective thresholds\n",
      "                        metric threshold    value idx\n",
      "1                       max f1  0.314965 0.593768 254\n",
      "2                       max f2  0.146654 0.748359 355\n",
      "3                 max f0point5  0.438166 0.561224 180\n",
      "4                 max accuracy  0.476594 0.688186 157\n",
      "5                max precision  0.880000 1.000000   0\n",
      "6                   max recall  0.033333 1.000000 397\n",
      "7              max specificity  0.880000 1.000000   0\n",
      "8             max absolute_mcc  0.378437 0.312777 216\n",
      "9   max min_per_class_accuracy  0.373338 0.658213 219\n",
      "10 max mean_per_class_accuracy  0.378437 0.661356 216\n",
      "\n",
      "Gains/Lift Table: Extract with `h2o.gainsLift(<model>, <data>)` or `h2o.gainsLift(<model>, valid=<T/F>, xval=<T/F>)`\n",
      "\n",
      "\n",
      "Scoring History: \n",
      "            timestamp   duration number_of_trees training_rmse training_logloss\n",
      "1 2018-05-31 13:51:19  0.112 sec               0                               \n",
      "2 2018-05-31 13:51:20  0.711 sec               1       0.64155         14.19493\n",
      "3 2018-05-31 13:51:20  1.146 sec               2       0.61752         12.37260\n",
      "4 2018-05-31 13:51:20  1.497 sec               3       0.59748         10.81744\n",
      "5 2018-05-31 13:51:21  1.797 sec               4       0.58289          9.56821\n",
      "  training_auc training_lift training_classification_error validation_rmse\n",
      "1                                                                         \n",
      "2      0.55365       1.18941                       0.64446         0.63495\n",
      "3      0.56694       1.24024                       0.64450         0.55016\n",
      "4      0.57695       1.28136                       0.64388         0.52085\n",
      "5      0.58223       1.28678                       0.64475         0.50336\n",
      "  validation_logloss validation_auc validation_lift\n",
      "1                                                  \n",
      "2           13.91028        0.56167         1.21790\n",
      "3            7.16568        0.59092         1.37957\n",
      "4            4.43506        0.60600         1.46445\n",
      "5            3.00124        0.62124         1.56551\n",
      "  validation_classification_error\n",
      "1                                \n",
      "2                         0.63460\n",
      "3                         0.63460\n",
      "4                         0.48683\n",
      "5                         0.51500\n",
      "\n",
      "---\n",
      "             timestamp          duration number_of_trees training_rmse\n",
      "18 2018-05-31 13:51:52        32.855 sec              97       0.45286\n",
      "19 2018-05-31 13:52:02        43.093 sec             128       0.45139\n",
      "20 2018-05-31 13:52:13        54.428 sec             160       0.45047\n",
      "21 2018-05-31 13:52:30  1 min 11.302 sec             212       0.44955\n",
      "22 2018-05-31 13:52:56  1 min 36.802 sec             289       0.44891\n",
      "23 2018-05-31 13:53:03  1 min 44.059 sec             300       0.44885\n",
      "   training_logloss training_auc training_lift training_classification_error\n",
      "18          0.60264      0.69386       2.13208                       0.40762\n",
      "19          0.59568      0.69877       2.19506                       0.40939\n",
      "20          0.59304      0.70174       2.21287                       0.40307\n",
      "21          0.59027      0.70497       2.16724                       0.40931\n",
      "22          0.58832      0.70738       2.14723                       0.39783\n",
      "23          0.58820      0.70755       2.13283                       0.40327\n",
      "   validation_rmse validation_logloss validation_auc validation_lift\n",
      "18         0.45330            0.59874        0.69943         2.26758\n",
      "19         0.45246            0.59684        0.70317         2.15350\n",
      "20         0.45171            0.59514        0.70558         2.13373\n",
      "21         0.45111            0.59371        0.70789         2.18939\n",
      "22         0.45041            0.59201        0.71054         2.18939\n",
      "23         0.45039            0.59195        0.71052         2.23915\n",
      "   validation_classification_error\n",
      "18                         0.41203\n",
      "19                         0.39594\n",
      "20                         0.39064\n",
      "21                         0.38588\n",
      "22                         0.38460\n",
      "23                         0.38862\n",
      "\n",
      "Variable Importances: (Extract with `h2o.varimp`) \n",
      "=================================================\n",
      "\n",
      "Variable Importances: \n",
      "      variable relative_importance scaled_importance percentage\n",
      "1        yrbrn       179839.328125          1.000000   0.083163\n",
      "2 social_trust       171544.531250          0.953877   0.079327\n",
      "3       eduyrs       163883.406250          0.911277   0.075785\n",
      "4    trust_exe       163623.921875          0.909834   0.075665\n",
      "5    trust_leg       153575.843750          0.853961   0.071018\n",
      "\n",
      "---\n",
      "             variable relative_importance scaled_importance percentage\n",
      "16 political_interest        75657.757812          0.420696   0.034986\n",
      "17         solidarity        74607.250000          0.414855   0.034501\n",
      "18             female        37361.832031          0.207751   0.017277\n",
      "19            married        34490.531250          0.191785   0.015949\n",
      "20           children        33397.453125          0.185707   0.015444\n",
      "21        houseperson         8887.358398          0.049418   0.004110\n"
     ]
    }
   ],
   "source": [
    "summary(rf6_1)"
   ]
  },
  {
   "cell_type": "code",
   "execution_count": 19,
   "metadata": {},
   "outputs": [
    {
     "name": "stdout",
     "output_type": "stream",
     "text": [
      "  |======================================================================| 100%\n",
      "  |======================================================================| 100%\n"
     ]
    },
    {
     "data": {
      "text/html": [
       "0.536591123701605"
      ],
      "text/latex": [
       "0.536591123701605"
      ],
      "text/markdown": [
       "0.536591123701605"
      ],
      "text/plain": [
       "[1] 0.5365911"
      ]
     },
     "metadata": {},
     "output_type": "display_data"
    },
    {
     "data": {
      "text/html": [
       "-0.407168458781362"
      ],
      "text/latex": [
       "-0.407168458781362"
      ],
      "text/markdown": [
       "-0.407168458781362"
      ],
      "text/plain": [
       "[1] -0.4071685"
      ]
     },
     "metadata": {},
     "output_type": "display_data"
    },
    {
     "data": {
      "text/html": [
       "0.52458222329862"
      ],
      "text/latex": [
       "0.52458222329862"
      ],
      "text/markdown": [
       "0.52458222329862"
      ],
      "text/plain": [
       "[1] 0.5245822"
      ]
     },
     "metadata": {},
     "output_type": "display_data"
    },
    {
     "data": {
      "text/html": [
       "0.611192392099488"
      ],
      "text/latex": [
       "0.611192392099488"
      ],
      "text/markdown": [
       "0.611192392099488"
      ],
      "text/plain": [
       "[1] 0.6111924"
      ]
     },
     "metadata": {},
     "output_type": "display_data"
    },
    {
     "data": {
      "text/html": [
       "-0.064064064064064"
      ],
      "text/latex": [
       "-0.064064064064064"
      ],
      "text/markdown": [
       "-0.064064064064064"
      ],
      "text/plain": [
       "[1] -0.06406406"
      ]
     },
     "metadata": {},
     "output_type": "display_data"
    },
    {
     "data": {
      "text/html": [
       "0.593343534812548"
      ],
      "text/latex": [
       "0.593343534812548"
      ],
      "text/markdown": [
       "0.593343534812548"
      ],
      "text/plain": [
       "[1] 0.5933435"
      ]
     },
     "metadata": {},
     "output_type": "display_data"
    }
   ],
   "source": [
    "rf1_1_pred <- h2o.predict(rf1_1, h2o.test1)\n",
    "rf6_1_pred <- h2o.predict(rf6_1, h2o.test6)\n",
    "ACC(table(as.vector(rf1_1_pred$predict), test1$volact))\n",
    "PRE(table(as.vector(rf1_1_pred$predict), test1$volact))\n",
    "F1(table(as.vector(rf1_1_pred$predict), test1$volact))\n",
    "ACC(table(as.vector(rf6_1_pred$predict), test6$volact))\n",
    "PRE(table(as.vector(rf6_1_pred$predict), test6$volact))\n",
    "F1(table(as.vector(rf6_1_pred$predict), test6$volact))"
   ]
  },
  {
   "cell_type": "code",
   "execution_count": 20,
   "metadata": {},
   "outputs": [
    {
     "name": "stdout",
     "output_type": "stream",
     "text": [
      "  |======================================================================| 100%\n",
      "  |======================================================================| 100%\n"
     ]
    }
   ],
   "source": [
    "rf1_1c <- h2o.randomForest(        \n",
    "  training_frame = h2o.train1c,        \n",
    "  validation_frame = h2o.test1c,      \n",
    "  x = xnames1c,                        \n",
    "  y = \"volact\",                          \n",
    "  model_id = \"forest1\",    \n",
    "  ntrees = 300,            \n",
    "  max_depth = 50,\n",
    "  stopping_rounds = 2,           \n",
    "  score_each_iteration = F,     \n",
    "  seed = 1000000) \n",
    "\n",
    "rf6_1c <- h2o.randomForest(        \n",
    "  training_frame = h2o.train6c,        \n",
    "  validation_frame = h2o.test6c,      \n",
    "  x = xnames6c,                        \n",
    "  y = \"volact\",                          \n",
    "  model_id = \"forest1\",    \n",
    "  ntrees = 300,            \n",
    "  max_depth = 50,\n",
    "  stopping_rounds = 2,           \n",
    "  score_each_iteration = F,     \n",
    "  seed = 1000000) "
   ]
  },
  {
   "cell_type": "code",
   "execution_count": 21,
   "metadata": {},
   "outputs": [
    {
     "name": "stdout",
     "output_type": "stream",
     "text": [
      "Model Details:\n",
      "==============\n",
      "\n",
      "H2OBinomialModel: drf\n",
      "Model Key:  forest1 \n",
      "Model Summary: \n",
      "  number_of_trees number_of_internal_trees model_size_in_bytes min_depth\n",
      "1             191                      191            16712151        36\n",
      "  max_depth mean_depth min_leaves max_leaves mean_leaves\n",
      "1        49   40.98953       6553       7218  6948.49200\n",
      "\n",
      "H2OBinomialMetrics: drf\n",
      "** Reported on training data. **\n",
      "** Metrics reported on Out-Of-Bag training samples **\n",
      "\n",
      "MSE:  0.1870665\n",
      "RMSE:  0.4325119\n",
      "LogLoss:  0.5458372\n",
      "Mean Per-Class Error:  0.3259692\n",
      "AUC:  0.7432151\n",
      "Gini:  0.4864303\n",
      "\n",
      "Confusion Matrix (vertical: actual; across: predicted) for F1-optimal threshold:\n",
      "           0     1    Error          Rate\n",
      "0      13276 12114 0.477117  =12114/25390\n",
      "1       2226 10507 0.174821   =2226/12733\n",
      "Totals 15502 22621 0.376151  =14340/38123\n",
      "\n",
      "Maximum Metrics: Maximum metrics at their respective thresholds\n",
      "                        metric threshold    value idx\n",
      "1                       max f1  0.301569 0.594388 246\n",
      "2                       max f2  0.176170 0.752466 314\n",
      "3                 max f0point5  0.420890 0.543221 176\n",
      "4                 max accuracy  0.487267 0.704352 138\n",
      "5                max precision  0.968254 1.000000   0\n",
      "6                   max recall  0.015553 1.000000 393\n",
      "7              max specificity  0.968254 1.000000   0\n",
      "8             max absolute_mcc  0.317247 0.334665 236\n",
      "9   max min_per_class_accuracy  0.376892 0.671562 201\n",
      "10 max mean_per_class_accuracy  0.337891 0.677102 225\n",
      "\n",
      "Gains/Lift Table: Extract with `h2o.gainsLift(<model>, <data>)` or `h2o.gainsLift(<model>, valid=<T/F>, xval=<T/F>)`\n",
      "H2OBinomialMetrics: drf\n",
      "** Reported on validation data. **\n",
      "\n",
      "MSE:  0.1845388\n",
      "RMSE:  0.4295798\n",
      "LogLoss:  0.5399167\n",
      "Mean Per-Class Error:  0.3198942\n",
      "AUC:  0.7486853\n",
      "Gini:  0.4973707\n",
      "\n",
      "Confusion Matrix (vertical: actual; across: predicted) for F1-optimal threshold:\n",
      "          0    1    Error        Rate\n",
      "0      1616 1225 0.431186  =1225/2841\n",
      "1       291 1104 0.208602   =291/1395\n",
      "Totals 1907 2329 0.357885  =1516/4236\n",
      "\n",
      "Maximum Metrics: Maximum metrics at their respective thresholds\n",
      "                        metric threshold    value idx\n",
      "1                       max f1  0.324474 0.592911 235\n",
      "2                       max f2  0.188542 0.746563 315\n",
      "3                 max f0point5  0.433299 0.554895 161\n",
      "4                 max accuracy  0.497505 0.711992 121\n",
      "5                max precision  0.862779 1.000000   0\n",
      "6                   max recall  0.052633 1.000000 382\n",
      "7              max specificity  0.862779 1.000000   0\n",
      "8             max absolute_mcc  0.376918 0.343854 201\n",
      "9   max min_per_class_accuracy  0.376918 0.679338 201\n",
      "10 max mean_per_class_accuracy  0.375414 0.681624 202\n",
      "\n",
      "Gains/Lift Table: Extract with `h2o.gainsLift(<model>, <data>)` or `h2o.gainsLift(<model>, valid=<T/F>, xval=<T/F>)`\n",
      "\n",
      "\n",
      "Scoring History: \n",
      "             timestamp          duration number_of_trees training_rmse\n",
      "1  2018-05-31 13:53:24         0.085 sec               0              \n",
      "2  2018-05-31 13:53:25         1.076 sec               1       0.61151\n",
      "3  2018-05-31 13:53:25         1.654 sec               2       0.59588\n",
      "4  2018-05-31 13:53:26         2.192 sec               3       0.57798\n",
      "5  2018-05-31 13:53:26         2.638 sec               4       0.56219\n",
      "6  2018-05-31 13:53:27         3.069 sec               5       0.54919\n",
      "7  2018-05-31 13:53:27         3.485 sec               6       0.53621\n",
      "8  2018-05-31 13:53:27         3.949 sec               7       0.52317\n",
      "9  2018-05-31 13:53:32         8.265 sec              18       0.46509\n",
      "10 2018-05-31 13:53:36        12.562 sec              31       0.44906\n",
      "11 2018-05-31 13:53:40        16.659 sec              41       0.44359\n",
      "12 2018-05-31 13:53:44        20.807 sec              51       0.44081\n",
      "13 2018-05-31 13:53:49        25.527 sec              62       0.43861\n",
      "14 2018-05-31 13:53:53        29.600 sec              73       0.43698\n",
      "15 2018-05-31 13:53:59        35.169 sec              87       0.43589\n",
      "16 2018-05-31 13:54:04        40.554 sec             101       0.43519\n",
      "17 2018-05-31 13:54:10        46.330 sec             116       0.43426\n",
      "18 2018-05-31 13:54:18        54.221 sec             136       0.43375\n",
      "19 2018-05-31 13:54:31  1 min  7.362 sec             169       0.43276\n",
      "20 2018-05-31 13:54:41  1 min 17.032 sec             191       0.43251\n",
      "   training_logloss training_auc training_lift training_classification_error\n",
      "1                                                                           \n",
      "2          12.89811      0.58161       1.31710                       0.66664\n",
      "3          11.51690      0.58631       1.31429                       0.66823\n",
      "4          10.14233      0.59741       1.35042                       0.66661\n",
      "5           8.87555      0.60543       1.37624                       0.66565\n",
      "6           7.79107      0.61207       1.38507                       0.41748\n",
      "7           6.78692      0.61923       1.40291                       0.42617\n",
      "8           5.83598      0.62943       1.42894                       0.43375\n",
      "9           1.53378      0.68145       1.74771                       0.42633\n",
      "10          0.79360      0.70470       2.00267                       0.40883\n",
      "11          0.66247      0.71522       2.07454                       0.39750\n",
      "12          0.61487      0.72104       2.13637                       0.39488\n",
      "13          0.58930      0.72665       2.10107                       0.39207\n",
      "14          0.57035      0.73063       2.22436                       0.37620\n",
      "15          0.55973      0.73344       2.10804                       0.37749\n",
      "16          0.55317      0.73507       2.17890                       0.39087\n",
      "17          0.54974      0.73784       2.20127                       0.38095\n",
      "18          0.54855      0.73928       2.19922                       0.37077\n",
      "19          0.54644      0.74254       2.17141                       0.38200\n",
      "20          0.54584      0.74322       2.17890                       0.37615\n",
      "   validation_rmse validation_logloss validation_auc validation_lift\n",
      "1                                                                   \n",
      "2          0.61236           12.93320        0.57687         1.31154\n",
      "3          0.53106            6.64644        0.60888         1.50565\n",
      "4          0.49995            3.84855        0.63106         1.65826\n",
      "5          0.48176            2.47616        0.65027         1.90616\n",
      "6          0.47199            1.80363        0.66245         2.06486\n",
      "7          0.46499            1.33099        0.67244         2.40100\n",
      "8          0.45840            1.07015        0.68339         1.92863\n",
      "9          0.44165            0.60410        0.71546         2.02437\n",
      "10         0.43719            0.56215        0.72397         2.24705\n",
      "11         0.43474            0.54953        0.73165         2.24705\n",
      "12         0.43252            0.54488        0.73808         2.11239\n",
      "13         0.43242            0.54447        0.73789         2.49673\n",
      "14         0.43208            0.54392        0.73921         2.61285\n",
      "15         0.43130            0.54269        0.74217         2.55347\n",
      "16         0.43038            0.54105        0.74520         2.61285\n",
      "17         0.43027            0.54089        0.74559         2.51970\n",
      "18         0.42991            0.54015        0.74662         2.47162\n",
      "19         0.42968            0.54006        0.74821         2.54224\n",
      "20         0.42958            0.53992        0.74869         2.54224\n",
      "   validation_classification_error\n",
      "1                                 \n",
      "2                          0.67068\n",
      "3                          0.42304\n",
      "4                          0.45703\n",
      "5                          0.48418\n",
      "6                          0.50614\n",
      "7                          0.41478\n",
      "8                          0.44004\n",
      "9                          0.37771\n",
      "10                         0.40675\n",
      "11                         0.38102\n",
      "12                         0.39400\n",
      "13                         0.39684\n",
      "14                         0.39754\n",
      "15                         0.38787\n",
      "16                         0.39070\n",
      "17                         0.39471\n",
      "18                         0.40085\n",
      "19                         0.35340\n",
      "20                         0.35788\n",
      "\n",
      "Variable Importances: (Extract with `h2o.varimp`) \n",
      "=================================================\n",
      "\n",
      "Variable Importances: \n",
      "      variable relative_importance scaled_importance percentage\n",
      "1 social_trust        74306.585938          1.000000   0.071896\n",
      "2       eduyrs        70758.101562          0.952245   0.068462\n",
      "3        yrbrn        70265.062500          0.945610   0.067985\n",
      "4    trust_exe        62239.875000          0.837609   0.060220\n",
      "5    trust_leg        59956.386719          0.806879   0.058011\n",
      "\n",
      "---\n",
      "   variable relative_importance scaled_importance percentage\n",
      "38  cntryES         4425.847168          0.059562   0.004282\n",
      "39  cntrySI         4228.573242          0.056907   0.004091\n",
      "40  cntryLU         4134.408691          0.055640   0.004000\n",
      "41  cntryHU         3998.624023          0.053813   0.003869\n",
      "42  cntryPT         3738.331543          0.050310   0.003617\n",
      "43  cntryIT         3080.955078          0.041463   0.002981\n"
     ]
    }
   ],
   "source": [
    "summary(rf1_1c)"
   ]
  },
  {
   "cell_type": "code",
   "execution_count": 22,
   "metadata": {},
   "outputs": [
    {
     "name": "stdout",
     "output_type": "stream",
     "text": [
      "Model Details:\n",
      "==============\n",
      "\n",
      "H2OBinomialModel: drf\n",
      "Model Key:  forest1 \n",
      "Model Summary: \n",
      "  number_of_trees number_of_internal_trees model_size_in_bytes min_depth\n",
      "1             202                      202            24655745        35\n",
      "  max_depth mean_depth min_leaves max_leaves mean_leaves\n",
      "1        48   39.65842       9411       9910  9681.74700\n",
      "\n",
      "H2OBinomialMetrics: drf\n",
      "** Reported on training data. **\n",
      "** Metrics reported on Out-Of-Bag training samples **\n",
      "\n",
      "MSE:  0.195747\n",
      "RMSE:  0.442433\n",
      "LogLoss:  0.5738983\n",
      "Mean Per-Class Error:  0.3383817\n",
      "AUC:  0.7289596\n",
      "Gini:  0.4579193\n",
      "\n",
      "Confusion Matrix (vertical: actual; across: predicted) for F1-optimal threshold:\n",
      "           0     1    Error          Rate\n",
      "0      16803 14902 0.470021  =14902/31705\n",
      "1       3618 13882 0.206743   =3618/17500\n",
      "Totals 20421 28784 0.376385  =18520/49205\n",
      "\n",
      "Maximum Metrics: Maximum metrics at their respective thresholds\n",
      "                        metric threshold    value idx\n",
      "1                       max f1  0.311284 0.599862 246\n",
      "2                       max f2  0.162094 0.748828 332\n",
      "3                 max f0point5  0.463946 0.566774 156\n",
      "4                 max accuracy  0.476113 0.700030 149\n",
      "5                max precision  0.948123 1.000000   0\n",
      "6                   max recall  0.013253 1.000000 398\n",
      "7              max specificity  0.948123 1.000000   0\n",
      "8             max absolute_mcc  0.373232 0.322100 208\n",
      "9   max min_per_class_accuracy  0.373232 0.666571 208\n",
      "10 max mean_per_class_accuracy  0.373232 0.667397 208\n",
      "\n",
      "Gains/Lift Table: Extract with `h2o.gainsLift(<model>, <data>)` or `h2o.gainsLift(<model>, valid=<T/F>, xval=<T/F>)`\n",
      "H2OBinomialMetrics: drf\n",
      "** Reported on validation data. **\n",
      "\n",
      "MSE:  0.1949005\n",
      "RMSE:  0.4414753\n",
      "LogLoss:  0.5730005\n",
      "Mean Per-Class Error:  0.3228737\n",
      "AUC:  0.740518\n",
      "Gini:  0.4810359\n",
      "\n",
      "Confusion Matrix (vertical: actual; across: predicted) for F1-optimal threshold:\n",
      "          0    1    Error        Rate\n",
      "0      1983 1487 0.428530  =1487/3470\n",
      "1       434 1564 0.217217   =434/1998\n",
      "Totals 2417 3051 0.351317  =1921/5468\n",
      "\n",
      "Maximum Metrics: Maximum metrics at their respective thresholds\n",
      "                        metric threshold    value idx\n",
      "1                       max f1  0.325784 0.619529 245\n",
      "2                       max f2  0.190780 0.754537 325\n",
      "3                 max f0point5  0.417298 0.587040 186\n",
      "4                 max accuracy  0.500147 0.704097 135\n",
      "5                max precision  0.898805 1.000000   0\n",
      "6                   max recall  0.029077 1.000000 395\n",
      "7              max specificity  0.898805 1.000000   0\n",
      "8             max absolute_mcc  0.344085 0.349772 233\n",
      "9   max min_per_class_accuracy  0.376162 0.678098 212\n",
      "10 max mean_per_class_accuracy  0.344085 0.681473 233\n",
      "\n",
      "Gains/Lift Table: Extract with `h2o.gainsLift(<model>, <data>)` or `h2o.gainsLift(<model>, valid=<T/F>, xval=<T/F>)`\n",
      "\n",
      "\n",
      "Scoring History: \n",
      "            timestamp   duration number_of_trees training_rmse training_logloss\n",
      "1 2018-05-31 13:54:45  0.031 sec               0                               \n",
      "2 2018-05-31 13:54:46  1.006 sec               1       0.63183         13.73886\n",
      "3 2018-05-31 13:54:47  1.625 sec               2       0.61318         12.21343\n",
      "4 2018-05-31 13:54:48  2.158 sec               3       0.59639         10.79744\n",
      "5 2018-05-31 13:54:48  2.706 sec               4       0.57829          9.39778\n",
      "  training_auc training_lift training_classification_error validation_rmse\n",
      "1                                                                         \n",
      "2      0.56675       1.23236                       0.64446         0.63092\n",
      "3      0.57476       1.25924                       0.64450         0.54467\n",
      "4      0.58024       1.27868                       0.64388         0.50994\n",
      "5      0.58948       1.30898                       0.64475         0.49132\n",
      "  validation_logloss validation_auc validation_lift\n",
      "1                                                  \n",
      "2           13.69856        0.57107         1.24049\n",
      "3            6.94568        0.60007         1.40142\n",
      "4            4.03197        0.62866         1.50456\n",
      "5            2.70850        0.64846         1.62044\n",
      "  validation_classification_error\n",
      "1                                \n",
      "2                         0.63460\n",
      "3                         0.63460\n",
      "4                         0.46562\n",
      "5                         0.49671\n",
      "\n",
      "---\n",
      "             timestamp          duration number_of_trees training_rmse\n",
      "18 2018-05-31 13:55:47  1 min  1.176 sec              99       0.44565\n",
      "19 2018-05-31 13:55:54  1 min  8.723 sec             112       0.44496\n",
      "20 2018-05-31 13:56:03  1 min 17.935 sec             128       0.44429\n",
      "21 2018-05-31 13:56:13  1 min 28.088 sec             145       0.44367\n",
      "22 2018-05-31 13:56:30  1 min 44.162 sec             172       0.44291\n",
      "23 2018-05-31 13:56:48  2 min  2.762 sec             202       0.44243\n",
      "   training_logloss training_auc training_lift training_classification_error\n",
      "18          0.58311      0.71827       2.27078                       0.39402\n",
      "19          0.57975      0.72045       2.28311                       0.37970\n",
      "20          0.57811      0.72252       2.26420                       0.38378\n",
      "21          0.57661      0.72464       2.28701                       0.37866\n",
      "22          0.57493      0.72719       2.26641                       0.38033\n",
      "23          0.57390      0.72896       2.29124                       0.37638\n",
      "   validation_rmse validation_logloss validation_auc validation_lift\n",
      "18         0.44233            0.57482        0.73775         2.04011\n",
      "19         0.44209            0.57441        0.73837         2.18939\n",
      "20         0.44190            0.57388        0.73877         2.18939\n",
      "21         0.44159            0.57322        0.74001         2.04011\n",
      "22         0.44152            0.57314        0.74042         2.28891\n",
      "23         0.44148            0.57300        0.74052         2.23915\n",
      "   validation_classification_error\n",
      "18                         0.33943\n",
      "19                         0.33577\n",
      "20                         0.35022\n",
      "21                         0.34089\n",
      "22                         0.34638\n",
      "23                         0.35132\n",
      "\n",
      "Variable Importances: (Extract with `h2o.varimp`) \n",
      "=================================================\n",
      "\n",
      "Variable Importances: \n",
      "      variable relative_importance scaled_importance percentage\n",
      "1        yrbrn       102933.734375          1.000000   0.071081\n",
      "2 social_trust        98410.882812          0.956061   0.067958\n",
      "3       eduyrs        97774.203125          0.949875   0.067518\n",
      "4    trust_exe        93954.218750          0.912764   0.064880\n",
      "5    trust_leg        87518.054688          0.850237   0.060436\n",
      "\n",
      "---\n",
      "      variable relative_importance scaled_importance percentage\n",
      "45 houseperson         5088.419922          0.049434   0.003514\n",
      "46     cntryCY         4732.133789          0.045973   0.003268\n",
      "47     cntryIT         4430.032227          0.043038   0.003059\n",
      "48     cntryIS         4249.185547          0.041281   0.002934\n",
      "49     cntryXK         4201.524902          0.040818   0.002901\n",
      "50     cntryAL         3400.129883          0.033032   0.002348\n"
     ]
    }
   ],
   "source": [
    "summary(rf6_1c)"
   ]
  },
  {
   "cell_type": "code",
   "execution_count": 23,
   "metadata": {},
   "outputs": [
    {
     "name": "stdout",
     "output_type": "stream",
     "text": [
      "  |======================================================================| 100%\n"
     ]
    },
    {
     "name": "stderr",
     "output_type": "stream",
     "text": [
      "Warning message in doTryCatch(return(expr), name, parentenv, handler):\n",
      "\"Test/Validation dataset is missing column 'cntryAL': substituting in a column of NaN\"Warning message in doTryCatch(return(expr), name, parentenv, handler):\n",
      "\"Test/Validation dataset is missing column 'cntryBG': substituting in a column of NaN\"Warning message in doTryCatch(return(expr), name, parentenv, handler):\n",
      "\"Test/Validation dataset is missing column 'cntryCY': substituting in a column of NaN\"Warning message in doTryCatch(return(expr), name, parentenv, handler):\n",
      "\"Test/Validation dataset is missing column 'cntryEE': substituting in a column of NaN\"Warning message in doTryCatch(return(expr), name, parentenv, handler):\n",
      "\"Test/Validation dataset is missing column 'cntryIS': substituting in a column of NaN\"Warning message in doTryCatch(return(expr), name, parentenv, handler):\n",
      "\"Test/Validation dataset is missing column 'cntryLT': substituting in a column of NaN\"Warning message in doTryCatch(return(expr), name, parentenv, handler):\n",
      "\"Test/Validation dataset is missing column 'cntryRU': substituting in a column of NaN\"Warning message in doTryCatch(return(expr), name, parentenv, handler):\n",
      "\"Test/Validation dataset is missing column 'cntrySK': substituting in a column of NaN\"Warning message in doTryCatch(return(expr), name, parentenv, handler):\n",
      "\"Test/Validation dataset is missing column 'cntryUA': substituting in a column of NaN\"Warning message in doTryCatch(return(expr), name, parentenv, handler):\n",
      "\"Test/Validation dataset is missing column 'cntryXK': substituting in a column of NaN\""
     ]
    },
    {
     "name": "stdout",
     "output_type": "stream",
     "text": [
      "  |======================================================================| 100%\n"
     ]
    },
    {
     "data": {
      "text/html": [
       "0.557365439093484"
      ],
      "text/latex": [
       "0.557365439093484"
      ],
      "text/markdown": [
       "0.557365439093484"
      ],
      "text/plain": [
       "[1] 0.5573654"
      ]
     },
     "metadata": {},
     "output_type": "display_data"
    },
    {
     "data": {
      "text/html": [
       "-0.344086021505376"
      ],
      "text/latex": [
       "-0.344086021505376"
      ],
      "text/markdown": [
       "-0.344086021505376"
      ],
      "text/plain": [
       "[1] -0.344086"
      ]
     },
     "metadata": {},
     "output_type": "display_data"
    },
    {
     "data": {
      "text/html": [
       "0.533466036327445"
      ],
      "text/latex": [
       "0.533466036327445"
      ],
      "text/markdown": [
       "0.533466036327445"
      ],
      "text/plain": [
       "[1] 0.533466"
      ]
     },
     "metadata": {},
     "output_type": "display_data"
    },
    {
     "data": {
      "text/html": [
       "0.648683247988296"
      ],
      "text/latex": [
       "0.648683247988296"
      ],
      "text/markdown": [
       "0.648683247988296"
      ],
      "text/plain": [
       "[1] 0.6486832"
      ]
     },
     "metadata": {},
     "output_type": "display_data"
    },
    {
     "data": {
      "text/html": [
       "0.0385385385385386"
      ],
      "text/latex": [
       "0.0385385385385386"
      ],
      "text/markdown": [
       "0.0385385385385386"
      ],
      "text/plain": [
       "[1] 0.03853854"
      ]
     },
     "metadata": {},
     "output_type": "display_data"
    },
    {
     "data": {
      "text/html": [
       "0.619075946857029"
      ],
      "text/latex": [
       "0.619075946857029"
      ],
      "text/markdown": [
       "0.619075946857029"
      ],
      "text/plain": [
       "[1] 0.6190759"
      ]
     },
     "metadata": {},
     "output_type": "display_data"
    }
   ],
   "source": [
    "rf1_1c_pred <- h2o.predict(rf1_1c, h2o.test1c)\n",
    "rf6_1c_pred <- h2o.predict(rf6_1c, h2o.test6c)\n",
    "ACC(table(as.vector(rf1_1c_pred$predict), test1c$volact))\n",
    "PRE(table(as.vector(rf1_1c_pred$predict), test1c$volact))\n",
    "F1(table(as.vector(rf1_1c_pred$predict), test1c$volact))\n",
    "ACC(table(as.vector(rf6_1c_pred$predict), test6c$volact))\n",
    "PRE(table(as.vector(rf6_1c_pred$predict), test6c$volact))\n",
    "F1(table(as.vector(rf6_1c_pred$predict), test6c$volact))"
   ]
  },
  {
   "cell_type": "code",
   "execution_count": null,
   "metadata": {},
   "outputs": [],
   "source": []
  }
 ],
 "metadata": {
  "kernelspec": {
   "display_name": "R",
   "language": "R",
   "name": "ir"
  },
  "language_info": {
   "codemirror_mode": "r",
   "file_extension": ".r",
   "mimetype": "text/x-r-source",
   "name": "R",
   "pygments_lexer": "r",
   "version": "3.4.1"
  }
 },
 "nbformat": 4,
 "nbformat_minor": 2
}
